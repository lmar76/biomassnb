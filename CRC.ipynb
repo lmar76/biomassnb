{
 "cells": [
  {
   "cell_type": "code",
   "execution_count": 22,
   "id": "670a1641-948d-4b21-84bc-275afbfc0a3d",
   "metadata": {},
   "outputs": [],
   "source": [
    "import pandas as pd"
   ]
  },
  {
   "cell_type": "code",
   "execution_count": 50,
   "id": "6ef131b6-9216-4b0e-88e9-9f2e711f11c6",
   "metadata": {},
   "outputs": [],
   "source": [
    "def crc(data):\n",
    "    \"\"\"this function will compute the CRC for the given input string\"\"\"\n",
    "    lut =[0x0000,  0x1021,  0x2042,  0x3063,  0x4084,  0x50a5,  0x60c6,  0x70e7,\n",
    "                0x8108,  0x9129,  0xa14a,  0xb16b,  0xc18c,  0xd1ad,  0xe1ce,  0xf1ef,\n",
    "                0x1231,  0x0210,  0x3273,  0x2252,  0x52b5,  0x4294,  0x72f7,  0x62d6,\n",
    "                0x9339,  0x8318,  0xb37b,  0xa35a,  0xd3bd,  0xc39c,  0xf3ff,  0xe3de,\n",
    "                0x2462,  0x3443,  0x0420,  0x1401,  0x64e6,  0x74c7,  0x44a4,  0x5485,\n",
    "                0xa56a,  0xb54b,  0x8528,  0x9509,  0xe5ee,  0xf5cf,  0xc5ac,  0xd58d,\n",
    "                0x3653,  0x2672,  0x1611,  0x0630,  0x76d7,  0x66f6,  0x5695,  0x46b4,\n",
    "                0xb75b,  0xa77a,  0x9719,  0x8738,  0xf7df,  0xe7fe,  0xd79d,  0xc7bc,\n",
    "                0x48c4,  0x58e5,  0x6886,  0x78a7,  0x0840,  0x1861,  0x2802,  0x3823,\n",
    "                0xc9cc,  0xd9ed,  0xe98e,  0xf9af,  0x8948,  0x9969,  0xa90a,  0xb92b,\n",
    "                0x5af5,  0x4ad4,  0x7ab7,  0x6a96,  0x1a71,  0x0a50,  0x3a33,  0x2a12,\n",
    "                0xdbfd,  0xcbdc,  0xfbbf,  0xeb9e,  0x9b79,  0x8b58,  0xbb3b,  0xab1a,\n",
    "                0x6ca6,  0x7c87,  0x4ce4,  0x5cc5,  0x2c22,  0x3c03,  0x0c60,  0x1c41,\n",
    "                0xedae,  0xfd8f,  0xcdec,  0xddcd,  0xad2a,  0xbd0b,  0x8d68,  0x9d49,\n",
    "                0x7e97,  0x6eb6,  0x5ed5,  0x4ef4,  0x3e13,  0x2e32,  0x1e51,  0x0e70,\n",
    "                0xff9f,  0xefbe,  0xdfdd,  0xcffc,  0xbf1b,  0xaf3a,  0x9f59,  0x8f78,\n",
    "                0x9188,  0x81a9,  0xb1ca,  0xa1eb,  0xd10c,  0xc12d,  0xf14e,  0xe16f,\n",
    "                0x1080,  0x00a1,  0x30c2,  0x20e3,  0x5004,  0x4025,  0x7046,  0x6067,\n",
    "                0x83b9,  0x9398,  0xa3fb,  0xb3da,  0xc33d,  0xd31c,  0xe37f,  0xf35e,\n",
    "                0x02b1,  0x1290,  0x22f3,  0x32d2,  0x4235,  0x5214,  0x6277,  0x7256,\n",
    "                0xb5ea,  0xa5cb,  0x95a8,  0x8589,  0xf56e,  0xe54f,  0xd52c,  0xc50d,\n",
    "                0x34e2,  0x24c3,  0x14a0,  0x0481,  0x7466,  0x6447,  0x5424,  0x4405,\n",
    "                0xa7db,  0xb7fa,  0x8799,  0x97b8,  0xe75f,  0xf77e,  0xc71d,  0xd73c,\n",
    "                0x26d3,  0x36f2,  0x0691,  0x16b0,  0x6657,  0x7676,  0x4615,  0x5634,\n",
    "                0xd94c,  0xc96d,  0xf90e,  0xe92f,  0x99c8,  0x89e9,  0xb98a,  0xa9ab,\n",
    "                0x5844,  0x4865,  0x7806,  0x6827,  0x18c0,  0x08e1,  0x3882,  0x28a3,\n",
    "                0xcb7d,  0xdb5c,  0xeb3f,  0xfb1e,  0x8bf9,  0x9bd8,  0xabbb,  0xbb9a,\n",
    "                0x4a75,  0x5a54,  0x6a37,  0x7a16,  0x0af1,  0x1ad0,  0x2ab3,  0x3a92,\n",
    "                0xfd2e,  0xed0f,  0xdd6c,  0xcd4d,  0xbdaa,  0xad8b,  0x9de8,  0x8dc9,\n",
    "                0x7c26,  0x6c07,  0x5c64,  0x4c45,  0x3ca2,  0x2c83,  0x1ce0,  0x0cc1,\n",
    "                0xef1f,  0xff3e,  0xcf5d,  0xdf7c,  0xaf9b,  0xbfba,  0x8fd9,  0x9ff8,\n",
    "                0x6e17,  0x7e36,  0x4e55,  0x5e74,  0x2e93,  0x3eb2,  0x0ed1,  0x1ef0]\n",
    "    chk = 0xffff\n",
    "    for i in range(len(data)):\n",
    "        octet = data[i]\n",
    "        tblidx = ((chk >> 8) ^ octet) & 0x00ff\n",
    "        chk = (((chk << 8) & 0xff00) ^ lut[tblidx]) & 0xffff\n",
    "    return chk"
   ]
  },
  {
   "cell_type": "code",
   "execution_count": 51,
   "id": "6431102c-d625-4251-89c7-c985d0470c1f",
   "metadata": {},
   "outputs": [
    {
     "data": {
      "text/html": [
       "<div>\n",
       "<style scoped>\n",
       "    .dataframe tbody tr th:only-of-type {\n",
       "        vertical-align: middle;\n",
       "    }\n",
       "\n",
       "    .dataframe tbody tr th {\n",
       "        vertical-align: top;\n",
       "    }\n",
       "\n",
       "    .dataframe thead th {\n",
       "        text-align: right;\n",
       "    }\n",
       "</style>\n",
       "<table border=\"1\" class=\"dataframe\">\n",
       "  <thead>\n",
       "    <tr style=\"text-align: right;\">\n",
       "      <th></th>\n",
       "      <th>data</th>\n",
       "      <th>data_hex</th>\n",
       "      <th>crc</th>\n",
       "      <th>crc_hex</th>\n",
       "    </tr>\n",
       "  </thead>\n",
       "  <tbody>\n",
       "    <tr>\n",
       "      <th>0</th>\n",
       "      <td>b'\\x00\\x00'</td>\n",
       "      <td>0000</td>\n",
       "      <td>b'\\x1d\\x0f'</td>\n",
       "      <td>1d0f</td>\n",
       "    </tr>\n",
       "    <tr>\n",
       "      <th>1</th>\n",
       "      <td>b'\\x00\\x00\\x00'</td>\n",
       "      <td>000000</td>\n",
       "      <td>b'\\xcc\\x9c'</td>\n",
       "      <td>cc9c</td>\n",
       "    </tr>\n",
       "    <tr>\n",
       "      <th>2</th>\n",
       "      <td>b'\\xab\\xcd\\xef\\x01'</td>\n",
       "      <td>abcdef01</td>\n",
       "      <td>b'\\x04\\xa2'</td>\n",
       "      <td>04a2</td>\n",
       "    </tr>\n",
       "    <tr>\n",
       "      <th>3</th>\n",
       "      <td>b'\\x14V\\xf8\\x9a\\x00\\x01'</td>\n",
       "      <td>1456f89a0001</td>\n",
       "      <td>b'\\x7f\\xd5'</td>\n",
       "      <td>7fd5</td>\n",
       "    </tr>\n",
       "  </tbody>\n",
       "</table>\n",
       "</div>"
      ],
      "text/plain": [
       "                       data      data_hex          crc crc_hex\n",
       "0               b'\\x00\\x00'          0000  b'\\x1d\\x0f'    1d0f\n",
       "1           b'\\x00\\x00\\x00'        000000  b'\\xcc\\x9c'    cc9c\n",
       "2       b'\\xab\\xcd\\xef\\x01'      abcdef01  b'\\x04\\xa2'    04a2\n",
       "3  b'\\x14V\\xf8\\x9a\\x00\\x01'  1456f89a0001  b'\\x7f\\xd5'    7fd5"
      ]
     },
     "execution_count": 51,
     "metadata": {},
     "output_type": "execute_result"
    }
   ],
   "source": [
    "test = [b'\\x00\\x00', b'\\x00\\x00\\x00', b'\\xab\\xcd\\xef\\x01', b'\\x14\\x56\\xf8\\x9a\\x00\\x01']\n",
    "\n",
    "pd.DataFrame(\n",
    "    [\n",
    "        {'data': data, 'data_hex': data.hex(), 'crc': crc(data).to_bytes(2, 'big'), 'crc_hex': crc(data).to_bytes(2, 'big').hex()}\n",
    "        for data in test\n",
    "    ]\n",
    ")"
   ]
  },
  {
   "cell_type": "code",
   "execution_count": null,
   "id": "c447cea0-d7f1-40c4-9ad1-fa593920c6ef",
   "metadata": {},
   "outputs": [],
   "source": []
  }
 ],
 "metadata": {
  "kernelspec": {
   "display_name": "Python 3",
   "language": "python",
   "name": "python3"
  },
  "language_info": {
   "codemirror_mode": {
    "name": "ipython",
    "version": 3
   },
   "file_extension": ".py",
   "mimetype": "text/x-python",
   "name": "python",
   "nbconvert_exporter": "python",
   "pygments_lexer": "ipython3",
   "version": "3.8.10"
  }
 },
 "nbformat": 4,
 "nbformat_minor": 5
}
