{
 "cells": [
  {
   "cell_type": "code",
   "execution_count": 1,
   "id": "de236dd4-29c3-4ecc-b63f-38d8bc7f40c2",
   "metadata": {},
   "outputs": [],
   "source": [
    "from dataclasses import dataclass\n",
    "\n",
    "import numpy as np"
   ]
  },
  {
   "cell_type": "code",
   "execution_count": 2,
   "id": "0e14b1ee-c3d5-40ad-a929-b023d277976c",
   "metadata": {},
   "outputs": [],
   "source": [
    "@dataclass(frozen=True)\n",
    "class Quaternion:\n",
    "    x: float\n",
    "    y: float\n",
    "    z: float\n",
    "    s: float"
   ]
  },
  {
   "cell_type": "code",
   "execution_count": 3,
   "id": "76ba4d3c-b8c2-42aa-8647-088d4ba1eef5",
   "metadata": {},
   "outputs": [],
   "source": [
    "def get_rotation_matrix(q: Quaternion) -> np.ndarray:\n",
    "    return np.array(\n",
    "        [[q.x ** 2 - q.y ** 2 - q.z ** 2 + q.s ** 2, 2 * (q.x * q.y + q.z * q.s), 2 * (q.x * q.z - q.y * q.s)],\n",
    "         [2 * (q.x * q.y - q.z * q.s), -q.x ** 2 + q.y ** 2 - q.z ** 2 + q.s ** 2, 2 * (q.y * q.z + q.x * q.s)],\n",
    "         [2 * (q.x * q.z + q.y * q.s), 2 * (q.y * q.z - q.x * q.s), -q.x ** 2 - q.y ** 2 + q.z ** 2 + q.s ** 2]]\n",
    "    )"
   ]
  },
  {
   "cell_type": "code",
   "execution_count": 4,
   "id": "cc3f3f3c-18ca-4b64-9404-336f6a0a8cf8",
   "metadata": {},
   "outputs": [],
   "source": [
    "q = Quaternion(-0.9336623549461364746, 0.02849436365067958832, -0.1522108763456344604, -0.3229468762874603272)"
   ]
  },
  {
   "cell_type": "code",
   "execution_count": 5,
   "id": "563f6703-6b70-4cf8-ad28-476767b6d820",
   "metadata": {},
   "outputs": [
    {
     "data": {
      "text/plain": [
       "array([[ 0.95204   ,  0.04510382,  0.30263146],\n",
       "       [-0.15152028, -0.78978693,  0.59437238],\n",
       "       [ 0.2658228 , -0.61172099, -0.74507449]])"
      ]
     },
     "execution_count": 5,
     "metadata": {},
     "output_type": "execute_result"
    }
   ],
   "source": [
    "get_rotation_matrix(q)"
   ]
  },
  {
   "cell_type": "code",
   "execution_count": 6,
   "id": "430f2fbd-e698-46e7-b347-06d7873032dc",
   "metadata": {},
   "outputs": [
    {
     "data": {
      "text/plain": [
       "array([[ 0.95203985,  0.04510382,  0.30263141],\n",
       "       [-0.15152026, -0.78978681,  0.59437228],\n",
       "       [ 0.26582276, -0.61172089, -0.74507437]])"
      ]
     },
     "execution_count": 6,
     "metadata": {},
     "output_type": "execute_result"
    }
   ],
   "source": [
    "example = \"\"\"\n",
    "0.952039848 0.045103818 0.302631414\n",
    "-0.151520260 -0.789786806 0.594372284\n",
    "0.265822757 -0.611720890 -0.745074369\n",
    "\"\"\"\n",
    "\n",
    "matrix_aux = np.fromstring(example, sep=' ').reshape(3, 3)\n",
    "\n",
    "matrix_aux"
   ]
  },
  {
   "cell_type": "code",
   "execution_count": 8,
   "id": "ba08f5ab-70e6-4858-be2d-13a5106acf8b",
   "metadata": {},
   "outputs": [
    {
     "data": {
      "text/plain": [
       "array([[ 0.15152026,  0.78978681, -0.59437228],\n",
       "       [-0.95203985, -0.04510382, -0.30263141],\n",
       "       [-0.26582276,  0.61172089,  0.74507437]])"
      ]
     },
     "execution_count": 8,
     "metadata": {},
     "output_type": "execute_result"
    }
   ],
   "source": [
    "matrix_aux2 = np.array([-matrix_aux[1], -matrix_aux[0], -matrix_aux[2]])\n",
    "\n",
    "matrix_aux2"
   ]
  }
 ],
 "metadata": {
  "kernelspec": {
   "display_name": "Python 3 (biomass)",
   "language": "python",
   "name": "biomass"
  },
  "language_info": {
   "codemirror_mode": {
    "name": "ipython",
    "version": 3
   },
   "file_extension": ".py",
   "mimetype": "text/x-python",
   "name": "python",
   "nbconvert_exporter": "python",
   "pygments_lexer": "ipython3",
   "version": "3.9.5"
  }
 },
 "nbformat": 4,
 "nbformat_minor": 5
}
