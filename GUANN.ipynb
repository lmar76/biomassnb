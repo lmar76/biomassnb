{
 "cells": [
  {
   "cell_type": "code",
   "execution_count": 1,
   "id": "8da24ec8-668a-405b-b3c8-641a7ea2b6d7",
   "metadata": {},
   "outputs": [],
   "source": [
    "import bitstruct as bs\n",
    "import numpy as np\n",
    "import pandas as pd"
   ]
  },
  {
   "cell_type": "code",
   "execution_count": 2,
   "id": "be409f8c-e1d5-4d2f-8795-6bdd98359534",
   "metadata": {},
   "outputs": [],
   "source": [
    "file = 'Export_INT_GC1_MC2_RC3_S3_Full_AOI_DTID_GUANN_DEBUG.xlsx'"
   ]
  },
  {
   "cell_type": "code",
   "execution_count": 3,
   "id": "cf451a05-2a58-4dbb-a78a-5ef993d70115",
   "metadata": {},
   "outputs": [],
   "source": [
    "df = pd.read_excel(file, engine='openpyxl')"
   ]
  },
  {
   "cell_type": "code",
   "execution_count": 4,
   "id": "e31de7ff-c867-4282-9919-81e00171adc8",
   "metadata": {},
   "outputs": [
    {
     "data": {
      "text/html": [
       "<div>\n",
       "<style scoped>\n",
       "    .dataframe tbody tr th:only-of-type {\n",
       "        vertical-align: middle;\n",
       "    }\n",
       "\n",
       "    .dataframe tbody tr th {\n",
       "        vertical-align: top;\n",
       "    }\n",
       "\n",
       "    .dataframe thead th {\n",
       "        text-align: right;\n",
       "    }\n",
       "</style>\n",
       "<table border=\"1\" class=\"dataframe\">\n",
       "  <thead>\n",
       "    <tr style=\"text-align: right;\">\n",
       "      <th></th>\n",
       "      <th>Unnamed: 0</th>\n",
       "      <th>Start</th>\n",
       "      <th>End</th>\n",
       "      <th>Duration</th>\n",
       "      <th>Satellite</th>\n",
       "      <th>SensorMode</th>\n",
       "      <th>Width</th>\n",
       "      <th>Length</th>\n",
       "      <th>SwathArea</th>\n",
       "      <th>Pass</th>\n",
       "      <th>...</th>\n",
       "      <th>Ground_User_Annotation</th>\n",
       "      <th>TAnx_integer</th>\n",
       "      <th>Phase</th>\n",
       "      <th>Drift</th>\n",
       "      <th>GCID</th>\n",
       "      <th>MCID</th>\n",
       "      <th>RCID</th>\n",
       "      <th>Track</th>\n",
       "      <th>ExtCal</th>\n",
       "      <th>Spare</th>\n",
       "    </tr>\n",
       "  </thead>\n",
       "  <tbody>\n",
       "    <tr>\n",
       "      <th>0</th>\n",
       "      <td>0</td>\n",
       "      <td>2017-03-02 06:07:23.674</td>\n",
       "      <td>2017-03-02 06:09:37.671</td>\n",
       "      <td>133.997563</td>\n",
       "      <td>BIOMASS</td>\n",
       "      <td>Stripmap S3</td>\n",
       "      <td>45.726444</td>\n",
       "      <td>920.782773</td>\n",
       "      <td>42272.374464</td>\n",
       "      <td>ASCENDING</td>\n",
       "      <td>...</td>\n",
       "      <td>11000010010001100000001000000000</td>\n",
       "      <td>92</td>\n",
       "      <td>3</td>\n",
       "      <td>0</td>\n",
       "      <td>1</td>\n",
       "      <td>2</td>\n",
       "      <td>3</td>\n",
       "      <td>1</td>\n",
       "      <td>0</td>\n",
       "      <td>0</td>\n",
       "    </tr>\n",
       "    <tr>\n",
       "      <th>1</th>\n",
       "      <td>1</td>\n",
       "      <td>2017-03-02 06:58:33.629</td>\n",
       "      <td>2017-03-02 06:59:05.629</td>\n",
       "      <td>32.000000</td>\n",
       "      <td>BIOMASS</td>\n",
       "      <td>Stripmap S3</td>\n",
       "      <td>46.066410</td>\n",
       "      <td>218.881989</td>\n",
       "      <td>10115.600647</td>\n",
       "      <td>DESCENDING</td>\n",
       "      <td>...</td>\n",
       "      <td>11000010010001100000001000000000</td>\n",
       "      <td>3162</td>\n",
       "      <td>3</td>\n",
       "      <td>0</td>\n",
       "      <td>1</td>\n",
       "      <td>2</td>\n",
       "      <td>3</td>\n",
       "      <td>1</td>\n",
       "      <td>0</td>\n",
       "      <td>0</td>\n",
       "    </tr>\n",
       "    <tr>\n",
       "      <th>2</th>\n",
       "      <td>2</td>\n",
       "      <td>2017-03-02 07:00:13.784</td>\n",
       "      <td>2017-03-02 07:00:45.784</td>\n",
       "      <td>32.000000</td>\n",
       "      <td>BIOMASS</td>\n",
       "      <td>Stripmap S3</td>\n",
       "      <td>45.972871</td>\n",
       "      <td>218.602453</td>\n",
       "      <td>10129.389672</td>\n",
       "      <td>DESCENDING</td>\n",
       "      <td>...</td>\n",
       "      <td>11000010010001100000001000000000</td>\n",
       "      <td>3262</td>\n",
       "      <td>3</td>\n",
       "      <td>0</td>\n",
       "      <td>1</td>\n",
       "      <td>2</td>\n",
       "      <td>3</td>\n",
       "      <td>1</td>\n",
       "      <td>0</td>\n",
       "      <td>0</td>\n",
       "    </tr>\n",
       "    <tr>\n",
       "      <th>3</th>\n",
       "      <td>3</td>\n",
       "      <td>2017-03-02 07:12:37.221</td>\n",
       "      <td>2017-03-02 07:26:17.822</td>\n",
       "      <td>820.601003</td>\n",
       "      <td>BIOMASS</td>\n",
       "      <td>Stripmap S3</td>\n",
       "      <td>47.620119</td>\n",
       "      <td>5547.133054</td>\n",
       "      <td>263829.938896</td>\n",
       "      <td>DESCENDING</td>\n",
       "      <td>...</td>\n",
       "      <td>11000010010001100000001000000000</td>\n",
       "      <td>4005</td>\n",
       "      <td>3</td>\n",
       "      <td>0</td>\n",
       "      <td>1</td>\n",
       "      <td>2</td>\n",
       "      <td>3</td>\n",
       "      <td>1</td>\n",
       "      <td>0</td>\n",
       "      <td>0</td>\n",
       "    </tr>\n",
       "    <tr>\n",
       "      <th>4</th>\n",
       "      <td>4</td>\n",
       "      <td>2017-03-02 08:33:54.289</td>\n",
       "      <td>2017-03-02 08:42:30.585</td>\n",
       "      <td>516.295486</td>\n",
       "      <td>BIOMASS</td>\n",
       "      <td>Stripmap S3</td>\n",
       "      <td>46.166360</td>\n",
       "      <td>3527.657239</td>\n",
       "      <td>163411.947057</td>\n",
       "      <td>DESCENDING</td>\n",
       "      <td>...</td>\n",
       "      <td>11000010010001100000010000000000</td>\n",
       "      <td>2991</td>\n",
       "      <td>3</td>\n",
       "      <td>0</td>\n",
       "      <td>1</td>\n",
       "      <td>2</td>\n",
       "      <td>3</td>\n",
       "      <td>2</td>\n",
       "      <td>0</td>\n",
       "      <td>0</td>\n",
       "    </tr>\n",
       "  </tbody>\n",
       "</table>\n",
       "<p>5 rows × 33 columns</p>\n",
       "</div>"
      ],
      "text/plain": [
       "   Unnamed: 0                   Start                     End    Duration  \\\n",
       "0           0 2017-03-02 06:07:23.674 2017-03-02 06:09:37.671  133.997563   \n",
       "1           1 2017-03-02 06:58:33.629 2017-03-02 06:59:05.629   32.000000   \n",
       "2           2 2017-03-02 07:00:13.784 2017-03-02 07:00:45.784   32.000000   \n",
       "3           3 2017-03-02 07:12:37.221 2017-03-02 07:26:17.822  820.601003   \n",
       "4           4 2017-03-02 08:33:54.289 2017-03-02 08:42:30.585  516.295486   \n",
       "\n",
       "  Satellite   SensorMode      Width       Length      SwathArea        Pass  \\\n",
       "0   BIOMASS  Stripmap S3  45.726444   920.782773   42272.374464   ASCENDING   \n",
       "1   BIOMASS  Stripmap S3  46.066410   218.881989   10115.600647  DESCENDING   \n",
       "2   BIOMASS  Stripmap S3  45.972871   218.602453   10129.389672  DESCENDING   \n",
       "3   BIOMASS  Stripmap S3  47.620119  5547.133054  263829.938896  DESCENDING   \n",
       "4   BIOMASS  Stripmap S3  46.166360  3527.657239  163411.947057  DESCENDING   \n",
       "\n",
       "   ...            Ground_User_Annotation  TAnx_integer  Phase  Drift  GCID  \\\n",
       "0  ...  11000010010001100000001000000000            92      3      0     1   \n",
       "1  ...  11000010010001100000001000000000          3162      3      0     1   \n",
       "2  ...  11000010010001100000001000000000          3262      3      0     1   \n",
       "3  ...  11000010010001100000001000000000          4005      3      0     1   \n",
       "4  ...  11000010010001100000010000000000          2991      3      0     1   \n",
       "\n",
       "   MCID  RCID  Track  ExtCal Spare  \n",
       "0     2     3      1       0     0  \n",
       "1     2     3      1       0     0  \n",
       "2     2     3      1       0     0  \n",
       "3     2     3      1       0     0  \n",
       "4     2     3      2       0     0  \n",
       "\n",
       "[5 rows x 33 columns]"
      ]
     },
     "execution_count": 4,
     "metadata": {},
     "output_type": "execute_result"
    }
   ],
   "source": [
    "df.head()"
   ]
  },
  {
   "cell_type": "markdown",
   "id": "028f01a7-7456-4921-914b-ffab4f9e74d5",
   "metadata": {},
   "source": [
    "Check `TAnx_integer`"
   ]
  },
  {
   "cell_type": "code",
   "execution_count": 5,
   "id": "5623bb08-0e6f-4aba-a9c7-406842f9f56c",
   "metadata": {},
   "outputs": [
    {
     "data": {
      "text/plain": [
       "True"
      ]
     },
     "execution_count": 5,
     "metadata": {},
     "output_type": "execute_result"
    }
   ],
   "source": [
    "(df['TAnx'].astype(int) == df['TAnx_integer']).all()"
   ]
  },
  {
   "cell_type": "markdown",
   "id": "b295dd5e-cbf2-47f4-ad35-e0d01606e605",
   "metadata": {},
   "source": [
    "Check `DataTake_ID`"
   ]
  },
  {
   "cell_type": "code",
   "execution_count": 6,
   "id": "2332b436-c786-4b01-9e52-31e7fa1e0330",
   "metadata": {},
   "outputs": [
    {
     "data": {
      "text/plain": [
       "0      7217244\n",
       "1      7220314\n",
       "2      7220414\n",
       "3      7221157\n",
       "4      7228335\n",
       "        ...   \n",
       "158    7561241\n",
       "159    7561833\n",
       "160    7565255\n",
       "161    7566565\n",
       "162    7573447\n",
       "Length: 163, dtype: int64"
      ]
     },
     "execution_count": 6,
     "metadata": {},
     "output_type": "execute_result"
    }
   ],
   "source": [
    "dt_id = df.apply(lambda s: int.from_bytes(bs.pack('>u19u13', s['Orbit'], s['TAnx_integer']), 'big'), axis=1)\n",
    "\n",
    "dt_id"
   ]
  },
  {
   "cell_type": "code",
   "execution_count": 7,
   "id": "711a1178-91e7-4a09-ab94-64691b144431",
   "metadata": {},
   "outputs": [
    {
     "data": {
      "text/plain": [
       "True"
      ]
     },
     "execution_count": 7,
     "metadata": {},
     "output_type": "execute_result"
    }
   ],
   "source": [
    "(dt_id.apply(lambda d: format(d, '032b')) == df['DataTake_ID']).all()"
   ]
  },
  {
   "cell_type": "markdown",
   "id": "8301323f-d359-43af-8c97-937d6730a236",
   "metadata": {},
   "source": [
    "Check `MCID`"
   ]
  },
  {
   "cell_type": "code",
   "execution_count": 8,
   "id": "86a5c833-dd0f-4f95-8b2f-e7a5dc9e7f24",
   "metadata": {},
   "outputs": [],
   "source": [
    "swaths = 3\n",
    "rc = 44\n",
    "orbits_per_mc = np.ceil(rc * 3 * swaths + rc * 3)"
   ]
  },
  {
   "cell_type": "code",
   "execution_count": 9,
   "id": "22a2a10d-ee6b-48fe-b5ac-86bd37ff3b5b",
   "metadata": {},
   "outputs": [
    {
     "data": {
      "text/plain": [
       "True"
      ]
     },
     "execution_count": 9,
     "metadata": {},
     "output_type": "execute_result"
    }
   ],
   "source": [
    "(np.ceil(df['Orbit'] / orbits_per_mc).astype(int) == df['MCID']).all()"
   ]
  },
  {
   "cell_type": "code",
   "execution_count": 10,
   "id": "951cba32-cf35-46cf-96da-e625d1d2c3ba",
   "metadata": {},
   "outputs": [
    {
     "data": {
      "text/plain": [
       "array([2])"
      ]
     },
     "execution_count": 10,
     "metadata": {},
     "output_type": "execute_result"
    }
   ],
   "source": [
    "df['MCID'].unique()"
   ]
  },
  {
   "cell_type": "markdown",
   "id": "4a014dcd-2fcb-4f56-ac39-2465a4a41215",
   "metadata": {},
   "source": [
    "Check `RCID`"
   ]
  },
  {
   "cell_type": "code",
   "execution_count": 11,
   "id": "aa2cc9a2-e05d-43f3-8bc5-de77c2b19ada",
   "metadata": {},
   "outputs": [
    {
     "data": {
      "text/plain": [
       "True"
      ]
     },
     "execution_count": 11,
     "metadata": {},
     "output_type": "execute_result"
    }
   ],
   "source": [
    "orbits_per_swath = rc * 3\n",
    "\n",
    "rcid = np.ceil(df['Orbit'] % orbits_per_mc / orbits_per_swath).astype(int)\n",
    "\n",
    "(rcid == df['RCID']).all()"
   ]
  },
  {
   "cell_type": "code",
   "execution_count": 12,
   "id": "9fa7313f-02e5-421e-a58c-8fc8769b9a00",
   "metadata": {},
   "outputs": [
    {
     "data": {
      "text/plain": [
       "array([3])"
      ]
     },
     "execution_count": 12,
     "metadata": {},
     "output_type": "execute_result"
    }
   ],
   "source": [
    "rcid.unique()"
   ]
  },
  {
   "cell_type": "markdown",
   "id": "d3fb2121-4a38-4312-a11c-9469125b7d74",
   "metadata": {},
   "source": [
    "Check `Track`"
   ]
  },
  {
   "cell_type": "code",
   "execution_count": 13,
   "id": "a4b5c1f7-a06f-45c7-90e3-2d28979109f9",
   "metadata": {},
   "outputs": [
    {
     "data": {
      "text/plain": [
       "True"
      ]
     },
     "execution_count": 13,
     "metadata": {},
     "output_type": "execute_result"
    }
   ],
   "source": [
    "track = df['Orbit'].apply(lambda o: o % rc or rc)\n",
    "\n",
    "(track == df['Track']).all()"
   ]
  },
  {
   "cell_type": "code",
   "execution_count": 14,
   "id": "d40f673c-c5b0-4a28-a767-9273eb6c3119",
   "metadata": {},
   "outputs": [
    {
     "data": {
      "text/plain": [
       "0       1\n",
       "1       1\n",
       "2       1\n",
       "3       1\n",
       "4       2\n",
       "       ..\n",
       "158    43\n",
       "159    43\n",
       "160    43\n",
       "161    43\n",
       "162    44\n",
       "Name: Orbit, Length: 163, dtype: int64"
      ]
     },
     "execution_count": 14,
     "metadata": {},
     "output_type": "execute_result"
    }
   ],
   "source": [
    "track"
   ]
  },
  {
   "cell_type": "code",
   "execution_count": 15,
   "id": "2e89315f-d5f5-4b26-bb5c-91a533f9c6e7",
   "metadata": {},
   "outputs": [],
   "source": [
    "phase = 3\n",
    "drift = 0\n",
    "gcid = 1\n",
    "extcal = 0"
   ]
  },
  {
   "cell_type": "code",
   "execution_count": 16,
   "id": "3cd7d929-c8bd-4ca7-b020-fdca63fbbdac",
   "metadata": {},
   "outputs": [],
   "source": [
    "guann = df.apply(lambda s: int.from_bytes(bs.pack('>u2u1u4u4u4u8u2u7', phase, drift, gcid, s['MCID'], s['RCID'], s['Track'], extcal, 0), 'big'), axis=1)"
   ]
  },
  {
   "cell_type": "code",
   "execution_count": 17,
   "id": "cf5b7242-9933-40b3-957d-c2d20ad314d1",
   "metadata": {},
   "outputs": [
    {
     "data": {
      "text/plain": [
       "True"
      ]
     },
     "execution_count": 17,
     "metadata": {},
     "output_type": "execute_result"
    }
   ],
   "source": [
    "(guann.apply(lambda s: format(s, '032b')) == df['Ground_User_Annotation']).all()"
   ]
  }
 ],
 "metadata": {
  "kernelspec": {
   "display_name": "Python 3 (biomass)",
   "language": "python",
   "name": "biomass"
  },
  "language_info": {
   "codemirror_mode": {
    "name": "ipython",
    "version": 3
   },
   "file_extension": ".py",
   "mimetype": "text/x-python",
   "name": "python",
   "nbconvert_exporter": "python",
   "pygments_lexer": "ipython3",
   "version": "3.9.4"
  }
 },
 "nbformat": 4,
 "nbformat_minor": 5
}
