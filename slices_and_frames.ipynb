{
 "cells": [
  {
   "cell_type": "markdown",
   "id": "stock-computer",
   "metadata": {},
   "source": [
    "# BIOMASS slices and frames"
   ]
  },
  {
   "cell_type": "code",
   "execution_count": 1,
   "id": "inappropriate-bulletin",
   "metadata": {},
   "outputs": [],
   "source": [
    "from datetime import datetime, timedelta\n",
    "from typing import Iterable, List, Mapping, Optional, Tuple, Union\n",
    "\n",
    "import numpy as np\n",
    "import pandas as pd"
   ]
  },
  {
   "cell_type": "code",
   "execution_count": 2,
   "id": "cross-affiliate",
   "metadata": {},
   "outputs": [],
   "source": [
    "SLICE_GRID_DURATION = 95.01580774\n",
    "SLICE_START_OVERLAP = 5.0\n",
    "SLICE_STOP_OVERLAP = 7.0\n",
    "MAX_SLICES = 62"
   ]
  },
  {
   "cell_type": "code",
   "execution_count": 3,
   "id": "abstract-dragon",
   "metadata": {},
   "outputs": [],
   "source": [
    "def grid(interval: float, start_overlap: float,\n",
    "         end_overlap: float, num_intervals: int) -> List[Tuple[float, float]]:\n",
    "    \n",
    "    return [\n",
    "        (n * interval - start_overlap, (n + 1) * interval + end_overlap)\n",
    "        for n in range(num_intervals)\n",
    "    ]\n",
    "    \n",
    "    "
   ]
  },
  {
   "cell_type": "code",
   "execution_count": 4,
   "id": "known-component",
   "metadata": {},
   "outputs": [],
   "source": [
    "slices = grid(SLICE_GRID_DURATION, SLICE_START_OVERLAP, SLICE_STOP_OVERLAP, MAX_SLICES)"
   ]
  },
  {
   "cell_type": "code",
   "execution_count": 5,
   "id": "passive-robertson",
   "metadata": {},
   "outputs": [
    {
     "data": {
      "text/plain": [
       "[(-5.0, 102.01580774),\n",
       " (90.01580774, 197.03161548),\n",
       " (185.03161548, 292.04742322)]"
      ]
     },
     "execution_count": 5,
     "metadata": {},
     "output_type": "execute_result"
    }
   ],
   "source": [
    "slices[:3]"
   ]
  },
  {
   "cell_type": "code",
   "execution_count": 6,
   "id": "ambient-circulation",
   "metadata": {},
   "outputs": [],
   "source": [
    "anx = datetime(2020, 4, 1, 10, 13, 29)\n",
    "\n",
    "slices = [\n",
    "    (anx + timedelta(seconds=start), anx + timedelta(seconds=stop))\n",
    "    for start, stop in grid(SLICE_GRID_DURATION, SLICE_START_OVERLAP, SLICE_STOP_OVERLAP, MAX_SLICES)\n",
    "]"
   ]
  },
  {
   "cell_type": "code",
   "execution_count": 7,
   "id": "coral-trance",
   "metadata": {},
   "outputs": [],
   "source": [
    "anx = np.datetime64(anx, 'ns')\n",
    "\n",
    "slices = [\n",
    "    (anx + np.timedelta64(int(start * 1e9), 'ns'), anx + np.timedelta64(int(stop * 1e9), 'ns'))\n",
    "    for start, stop in grid(SLICE_GRID_DURATION, SLICE_START_OVERLAP, SLICE_STOP_OVERLAP, MAX_SLICES)\n",
    "]"
   ]
  },
  {
   "cell_type": "code",
   "execution_count": 8,
   "id": "improving-wiring",
   "metadata": {},
   "outputs": [
    {
     "data": {
      "text/plain": [
       "[(numpy.datetime64('2020-04-01T10:13:24.000000000'),\n",
       "  numpy.datetime64('2020-04-01T10:15:11.015807740')),\n",
       " (numpy.datetime64('2020-04-01T10:14:59.015807740'),\n",
       "  numpy.datetime64('2020-04-01T10:16:46.031615480')),\n",
       " (numpy.datetime64('2020-04-01T10:16:34.031615480'),\n",
       "  numpy.datetime64('2020-04-01T10:18:21.047423220'))]"
      ]
     },
     "execution_count": 8,
     "metadata": {},
     "output_type": "execute_result"
    }
   ],
   "source": [
    "slices[:3]"
   ]
  },
  {
   "cell_type": "code",
   "execution_count": 9,
   "id": "conservative-festival",
   "metadata": {},
   "outputs": [],
   "source": [
    "anx = pd.Timestamp(anx)\n",
    "\n",
    "slices = [\n",
    "    pd.Interval(anx + pd.Timedelta(int(start * 1e9), 'ns'), anx + pd.Timedelta(int(stop * 1e9), 'ns'), 'both')\n",
    "    for start, stop in grid(SLICE_GRID_DURATION, SLICE_START_OVERLAP, SLICE_STOP_OVERLAP, MAX_SLICES)\n",
    "]"
   ]
  },
  {
   "cell_type": "code",
   "execution_count": 10,
   "id": "brutal-proof",
   "metadata": {},
   "outputs": [
    {
     "data": {
      "text/plain": [
       "[Interval('2020-04-01 10:13:24', '2020-04-01 10:15:11.015807740', closed='both'),\n",
       " Interval('2020-04-01 10:14:59.015807740', '2020-04-01 10:16:46.031615480', closed='both'),\n",
       " Interval('2020-04-01 10:16:34.031615480', '2020-04-01 10:18:21.047423220', closed='both')]"
      ]
     },
     "execution_count": 10,
     "metadata": {},
     "output_type": "execute_result"
    }
   ],
   "source": [
    "slices[:3]"
   ]
  },
  {
   "cell_type": "code",
   "execution_count": 11,
   "id": "western-capitol",
   "metadata": {},
   "outputs": [],
   "source": [
    "datatake = pd.Interval(pd.Timestamp('2020-04-01T10:10:00'), pd.Timestamp('2020-04-01T10:15:00'), closed='both')"
   ]
  },
  {
   "cell_type": "code",
   "execution_count": 12,
   "id": "turned-cover",
   "metadata": {},
   "outputs": [
    {
     "data": {
      "text/plain": [
       "[Interval('2020-04-01 10:13:24', '2020-04-01 10:15:11.015807740', closed='both'),\n",
       " Interval('2020-04-01 10:14:59.015807740', '2020-04-01 10:16:46.031615480', closed='both')]"
      ]
     },
     "execution_count": 12,
     "metadata": {},
     "output_type": "execute_result"
    }
   ],
   "source": [
    "[s for s in slices if s.overlaps(datatake)]"
   ]
  }
 ],
 "metadata": {
  "kernelspec": {
   "display_name": "Python 3",
   "language": "python",
   "name": "python3"
  },
  "language_info": {
   "codemirror_mode": {
    "name": "ipython",
    "version": 3
   },
   "file_extension": ".py",
   "mimetype": "text/x-python",
   "name": "python",
   "nbconvert_exporter": "python",
   "pygments_lexer": "ipython3",
   "version": "3.8.8"
  }
 },
 "nbformat": 4,
 "nbformat_minor": 5
}
