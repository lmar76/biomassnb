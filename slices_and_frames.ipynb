{
 "cells": [
  {
   "cell_type": "code",
   "execution_count": 1,
   "id": "competitive-hands",
   "metadata": {},
   "outputs": [],
   "source": [
    "from datetime import datetime, timedelta\n",
    "from typing import Iterable, List, Mapping, Union"
   ]
  },
  {
   "cell_type": "code",
   "execution_count": 2,
   "id": "balanced-worry",
   "metadata": {},
   "outputs": [
    {
     "ename": "NameError",
     "evalue": "name 'Odatetime' is not defined",
     "output_type": "error",
     "traceback": [
      "\u001b[0;31m---------------------------------------------------------------------------\u001b[0m",
      "\u001b[0;31mNameError\u001b[0m                                 Traceback (most recent call last)",
      "\u001b[0;32m<ipython-input-2-f78277280959>\u001b[0m in \u001b[0;36m<module>\u001b[0;34m\u001b[0m\n\u001b[0;32m----> 1\u001b[0;31m \u001b[0;32mclass\u001b[0m \u001b[0mSliceGrid\u001b[0m\u001b[0;34m:\u001b[0m\u001b[0;34m\u001b[0m\u001b[0;34m\u001b[0m\u001b[0m\n\u001b[0m\u001b[1;32m      2\u001b[0m \u001b[0;34m\u001b[0m\u001b[0m\n\u001b[1;32m      3\u001b[0m     \u001b[0mNMAX\u001b[0m \u001b[0;34m=\u001b[0m \u001b[0;36m62\u001b[0m\u001b[0;34m\u001b[0m\u001b[0;34m\u001b[0m\u001b[0m\n\u001b[1;32m      4\u001b[0m     \u001b[0mGRID_DURATION\u001b[0m \u001b[0;34m=\u001b[0m \u001b[0;36m95.01580774\u001b[0m\u001b[0;34m\u001b[0m\u001b[0;34m\u001b[0m\u001b[0m\n\u001b[1;32m      5\u001b[0m     \u001b[0mSTART_OVERLAP\u001b[0m \u001b[0;34m=\u001b[0m \u001b[0;36m5\u001b[0m\u001b[0;34m\u001b[0m\u001b[0;34m\u001b[0m\u001b[0m\n",
      "\u001b[0;32m<ipython-input-2-f78277280959>\u001b[0m in \u001b[0;36mSliceGrid\u001b[0;34m()\u001b[0m\n\u001b[1;32m     43\u001b[0m         \u001b[0;32mreturn\u001b[0m \u001b[0mresult\u001b[0m\u001b[0;34m\u001b[0m\u001b[0;34m\u001b[0m\u001b[0m\n\u001b[1;32m     44\u001b[0m \u001b[0;34m\u001b[0m\u001b[0m\n\u001b[0;32m---> 45\u001b[0;31m     \u001b[0;32mdef\u001b[0m \u001b[0mslice_range\u001b[0m\u001b[0;34m(\u001b[0m\u001b[0mself\u001b[0m\u001b[0;34m,\u001b[0m \u001b[0mstart_date\u001b[0m\u001b[0;34m:\u001b[0m \u001b[0mdatetime\u001b[0m\u001b[0;34m,\u001b[0m \u001b[0mstop_date\u001b[0m\u001b[0;34m:\u001b[0m \u001b[0mOdatetime\u001b[0m\u001b[0;34m)\u001b[0m\u001b[0;31m \u001b[0m\u001b[0;31m\\\u001b[0m\u001b[0;34m\u001b[0m\u001b[0;34m\u001b[0m\u001b[0m\n\u001b[0m\u001b[1;32m     46\u001b[0m             \u001b[0;34m->\u001b[0m \u001b[0mList\u001b[0m\u001b[0;34m[\u001b[0m\u001b[0mMapping\u001b[0m\u001b[0;34m[\u001b[0m\u001b[0mstr\u001b[0m\u001b[0;34m,\u001b[0m \u001b[0mUnion\u001b[0m\u001b[0;34m[\u001b[0m\u001b[0mint\u001b[0m\u001b[0;34m,\u001b[0m \u001b[0mfloat\u001b[0m\u001b[0;34m,\u001b[0m \u001b[0mdatetime\u001b[0m\u001b[0;34m]\u001b[0m\u001b[0;34m]\u001b[0m\u001b[0;34m]\u001b[0m\u001b[0;34m:\u001b[0m\u001b[0;34m\u001b[0m\u001b[0;34m\u001b[0m\u001b[0m\n\u001b[1;32m     47\u001b[0m         result = [\n",
      "\u001b[0;31mNameError\u001b[0m: name 'Odatetime' is not defined"
     ]
    }
   ],
   "source": [
    "class SliceGrid:\n",
    "    \n",
    "    NMAX = 62\n",
    "    GRID_DURATION = 95.01580774\n",
    "    START_OVERLAP = 5\n",
    "    END_OVERLAP = 7\n",
    "    THRESHOLD = 10\n",
    "    \n",
    "    def __init__(self, anx_times: Iterable[datetime]):\n",
    "        self._anx_times = sorted(anx_times)\n",
    "        if len(self._anx_times) > 1:\n",
    "            for n in range(len(self._anx_times) - 1):\n",
    "                delta_t = abs(\n",
    "                    (self._anx_times[n + 1] -\n",
    "                     self._anx_times[n] -\n",
    "                     timedelta(seconds=self.NMAX * self.GRID_DURATION)).total_seconds()\n",
    "                )\n",
    "                if delta_t > self.THRESHOLD:\n",
    "                    raise ValueError(\n",
    "                        f'abs(anx_time[{n + 1}] - anx_time[{n}]) = {delta_t} > {self.THRESHOLD}'\n",
    "                    )\n",
    "    \n",
    "    def tie_points(self) \\\n",
    "            -> List[Mapping[str, Union[int, float, datetime]]]:\n",
    "        result = [\n",
    "            {\n",
    "                'number': n + 1,\n",
    "                'anx_time': anx_time,\n",
    "                'grid_start': anx_time + timedelta(seconds=n * self.GRID_DURATION),\n",
    "                'grid_stop': anx_time + timedelta(seconds=(n + 1) * self.GRID_DURATION),\n",
    "                'offset': 0\n",
    "            }\n",
    "            for anx_time in self._anx_times\n",
    "            for n in range(self.NMAX)\n",
    "        ]\n",
    "        for n in range(len(result) - 1):\n",
    "            if result[n]['number'] == self.NMAX:\n",
    "                result[n]['grid_stop'] = result[n + 1]['anx_time']\n",
    "                result[n]['offset'] = (\n",
    "                    result[n + 1]['anx_time'] -\n",
    "                    (result[n]['anx_time'] + timedelta(seconds=self.NMAX * self.GRID_DURATION))\n",
    "                ).total_seconds()\n",
    "        return result\n",
    "    \n",
    "    def slice_range(self, start_date: datetime, stop_date: Odatetime) \\\n",
    "            -> List[Mapping[str, Union[int, float, datetime]]]:\n",
    "        result = [\n",
    "            record for record in self.tie_points()\n",
    "            if record['grid_start'] <= stop_date and record['grid_stop'] >= start_date\n",
    "        ]\n",
    "        for n in range(len(result)):\n",
    "            result[n]['slice_start'] = result[n]['grid_start'] - timedelta(seconds=self.START_OVERLAP)\n",
    "            result[n]['slice_stop'] = result[n]['grid_stop'] + timedelta(seconds=self.END_OVERLAP)\n",
    "        return result\n",
    "    "
   ]
  },
  {
   "cell_type": "code",
   "execution_count": null,
   "id": "biblical-tower",
   "metadata": {},
   "outputs": [],
   "source": [
    "ORBIT_DURATION = 86400 * 3 / 44\n",
    "\n",
    "anx_times = [datetime(2023, 9, 1) + timedelta(seconds=n * ORBIT_DURATION) for n in range(2)]"
   ]
  },
  {
   "cell_type": "code",
   "execution_count": null,
   "id": "threaded-technique",
   "metadata": {},
   "outputs": [],
   "source": [
    "anx_times"
   ]
  },
  {
   "cell_type": "code",
   "execution_count": null,
   "id": "bottom-sunday",
   "metadata": {},
   "outputs": [],
   "source": [
    "grid = SliceGrid(anx_times)"
   ]
  },
  {
   "cell_type": "code",
   "execution_count": null,
   "id": "marine-messaging",
   "metadata": {},
   "outputs": [],
   "source": [
    "grid.slice_range(datetime(2023, 9, 1, 1, 36), datetime(2023, 9, 1, 1, 40))"
   ]
  }
 ],
 "metadata": {
  "kernelspec": {
   "display_name": "Python 3",
   "language": "python",
   "name": "python3"
  },
  "language_info": {
   "codemirror_mode": {
    "name": "ipython",
    "version": 3
   },
   "file_extension": ".py",
   "mimetype": "text/x-python",
   "name": "python",
   "nbconvert_exporter": "python",
   "pygments_lexer": "ipython3",
   "version": "3.8.8"
  }
 },
 "nbformat": 4,
 "nbformat_minor": 5
}
