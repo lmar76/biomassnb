{
 "cells": [
  {
   "cell_type": "code",
   "execution_count": 1,
   "id": "valid-tournament",
   "metadata": {},
   "outputs": [],
   "source": [
    "from datetime import datetime, timedelta\n",
    "from typing import Iterable, List, Mapping, Union"
   ]
  },
  {
   "cell_type": "code",
   "execution_count": 2,
   "id": "affiliated-modification",
   "metadata": {},
   "outputs": [],
   "source": [
    "class SliceGrid:\n",
    "    \n",
    "    NMAX = 62\n",
    "    GRID_DURATION = 95.01580774\n",
    "    START_OVERLAP = 5\n",
    "    END_OVERLAP = 7\n",
    "    THRESHOLD = 10\n",
    "    \n",
    "    def __init__(self, anx_times: Iterable[datetime]):\n",
    "        self._anx_times = sorted(anx_times)\n",
    "        if len(self._anx_times) > 1:\n",
    "            for n in range(len(self._anx_times) - 1):\n",
    "                delta_t = abs(\n",
    "                    (self._anx_times[n + 1] -\n",
    "                     self._anx_times[n] -\n",
    "                     timedelta(seconds=self.NMAX * self.GRID_DURATION)).total_seconds()\n",
    "                )\n",
    "                if delta_t > self.THRESHOLD:\n",
    "                    raise ValueError(\n",
    "                        f'abs(anx_time[{n + 1}] - anx_time[{n}]) = {delta_t} > {self.THRESHOLD}'\n",
    "                    )\n",
    "    \n",
    "    def tie_points(self) \\\n",
    "            -> List[Mapping[str, Union[int, float, datetime]]]:\n",
    "        result = [\n",
    "            {\n",
    "                'number': n + 1,\n",
    "                'anx_time': anx_time,\n",
    "                'grid_start': anx_time + timedelta(seconds=n * self.GRID_DURATION),\n",
    "                'grid_stop': anx_time + timedelta(seconds=(n + 1) * self.GRID_DURATION),\n",
    "                'offset': 0\n",
    "            }\n",
    "            for anx_time in self._anx_times\n",
    "            for n in range(self.NMAX)\n",
    "        ]\n",
    "        for n in range(len(result) - 1):\n",
    "            if result[n]['number'] == self.NMAX:\n",
    "                result[n]['grid_stop'] = result[n + 1]['anx_time']\n",
    "                result[n]['offset'] = (\n",
    "                    result[n + 1]['anx_time'] -\n",
    "                    (result[n]['anx_time'] + timedelta(seconds=self.NMAX * self.GRID_DURATION))\n",
    "                ).total_seconds()\n",
    "        return result\n",
    "    \n",
    "    def slice_range(self, start_date: datetime, stop_date: datetime) \\\n",
    "            -> List[Mapping[str, Union[int, float, datetime]]]:\n",
    "        result = [\n",
    "            record for record in self.tie_points()\n",
    "            if record['grid_start'] <= stop_date and record['grid_stop'] >= start_date\n",
    "        ]\n",
    "        for n in range(len(result)):\n",
    "            result[n]['slice_start'] = result[n]['grid_start'] - timedelta(seconds=self.START_OVERLAP)\n",
    "            result[n]['slice_stop'] = result[n]['grid_stop'] + timedelta(seconds=self.END_OVERLAP)\n",
    "        return result\n",
    "    "
   ]
  },
  {
   "cell_type": "code",
   "execution_count": 3,
   "id": "included-partition",
   "metadata": {},
   "outputs": [],
   "source": [
    "ORBIT_DURATION = 86400 * 3 / 44\n",
    "\n",
    "anx_times = [datetime(2023, 9, 1) + timedelta(seconds=n * ORBIT_DURATION) for n in range(2)]"
   ]
  },
  {
   "cell_type": "code",
   "execution_count": 4,
   "id": "normal-princess",
   "metadata": {},
   "outputs": [
    {
     "data": {
      "text/plain": [
       "[datetime.datetime(2023, 9, 1, 0, 0),\n",
       " datetime.datetime(2023, 9, 1, 1, 38, 10, 909091)]"
      ]
     },
     "execution_count": 4,
     "metadata": {},
     "output_type": "execute_result"
    }
   ],
   "source": [
    "anx_times"
   ]
  },
  {
   "cell_type": "code",
   "execution_count": 5,
   "id": "modified-soccer",
   "metadata": {},
   "outputs": [],
   "source": [
    "grid = SliceGrid(anx_times)"
   ]
  },
  {
   "cell_type": "code",
   "execution_count": 6,
   "id": "extreme-finder",
   "metadata": {},
   "outputs": [
    {
     "data": {
      "text/plain": [
       "[{'number': 61,\n",
       "  'anx_time': datetime.datetime(2023, 9, 1, 0, 0),\n",
       "  'grid_start': datetime.datetime(2023, 9, 1, 1, 35, 0, 948464),\n",
       "  'grid_stop': datetime.datetime(2023, 9, 1, 1, 36, 35, 964272),\n",
       "  'offset': 0,\n",
       "  'slice_start': datetime.datetime(2023, 9, 1, 1, 34, 55, 948464),\n",
       "  'slice_stop': datetime.datetime(2023, 9, 1, 1, 36, 42, 964272)},\n",
       " {'number': 62,\n",
       "  'anx_time': datetime.datetime(2023, 9, 1, 0, 0),\n",
       "  'grid_start': datetime.datetime(2023, 9, 1, 1, 36, 35, 964272),\n",
       "  'grid_stop': datetime.datetime(2023, 9, 1, 1, 38, 10, 909091),\n",
       "  'offset': -0.070989,\n",
       "  'slice_start': datetime.datetime(2023, 9, 1, 1, 36, 30, 964272),\n",
       "  'slice_stop': datetime.datetime(2023, 9, 1, 1, 38, 17, 909091)},\n",
       " {'number': 1,\n",
       "  'anx_time': datetime.datetime(2023, 9, 1, 1, 38, 10, 909091),\n",
       "  'grid_start': datetime.datetime(2023, 9, 1, 1, 38, 10, 909091),\n",
       "  'grid_stop': datetime.datetime(2023, 9, 1, 1, 39, 45, 924899),\n",
       "  'offset': 0,\n",
       "  'slice_start': datetime.datetime(2023, 9, 1, 1, 38, 5, 909091),\n",
       "  'slice_stop': datetime.datetime(2023, 9, 1, 1, 39, 52, 924899)},\n",
       " {'number': 2,\n",
       "  'anx_time': datetime.datetime(2023, 9, 1, 1, 38, 10, 909091),\n",
       "  'grid_start': datetime.datetime(2023, 9, 1, 1, 39, 45, 924899),\n",
       "  'grid_stop': datetime.datetime(2023, 9, 1, 1, 41, 20, 940706),\n",
       "  'offset': 0,\n",
       "  'slice_start': datetime.datetime(2023, 9, 1, 1, 39, 40, 924899),\n",
       "  'slice_stop': datetime.datetime(2023, 9, 1, 1, 41, 27, 940706)}]"
      ]
     },
     "execution_count": 6,
     "metadata": {},
     "output_type": "execute_result"
    }
   ],
   "source": [
    "grid.slice_range(datetime(2023, 9, 1, 1, 36), datetime(2023, 9, 1, 1, 40))"
   ]
  }
 ],
 "metadata": {
  "kernelspec": {
   "display_name": "Python 3",
   "language": "python",
   "name": "python3"
  },
  "language_info": {
   "codemirror_mode": {
    "name": "ipython",
    "version": 3
   },
   "file_extension": ".py",
   "mimetype": "text/x-python",
   "name": "python",
   "nbconvert_exporter": "python",
   "pygments_lexer": "ipython3",
   "version": "3.8.8"
  }
 },
 "nbformat": 4,
 "nbformat_minor": 5
}
