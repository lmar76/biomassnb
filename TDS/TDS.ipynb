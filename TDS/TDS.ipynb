{
 "cells": [
  {
   "cell_type": "markdown",
   "id": "608c8029-7797-4f11-ae34-494b04badd84",
   "metadata": {},
   "source": [
    "# BIOMASS TDS"
   ]
  },
  {
   "cell_type": "markdown",
   "id": "71a3e698-885c-43cb-bc7f-c4569213ded2",
   "metadata": {},
   "source": [
    "## Functions and classes"
   ]
  },
  {
   "cell_type": "code",
   "execution_count": 1,
   "id": "9e151ebd-3e8f-4a80-86e2-2557a8f8dc30",
   "metadata": {},
   "outputs": [
    {
     "name": "stdout",
     "output_type": "stream",
     "text": [
      "biotm : 1.0a0\n",
      "numpy : 1.20.2\n",
      "json  : 2.0.9\n",
      "pandas: 1.2.5\n",
      "\n"
     ]
    }
   ],
   "source": [
    "import json\n",
    "from dataclasses import dataclass\n",
    "from typing import Optional\n",
    "\n",
    "import numpy as np\n",
    "import pandas as pd\n",
    "from biotm import const, tm\n",
    "from procsim.core.version import __version__ as procsim_version\n",
    "\n",
    "\n",
    "# Definitions\n",
    "ORBITS_PER_RC = 44  # 44 orbits in 3 days\n",
    "ORBIT_DURATION = 86400 * 3 / 44\n",
    "ORBITS_PER_SRM = int(ORBITS_PER_RC / 3 * 9)\n",
    "SWATHS = 3\n",
    "TOM_RC_PER_SWATH = 7\n",
    "INT_RC_PER_SWATH = 3\n",
    "TOM_ORBITS_PER_SWATH = ORBITS_PER_RC * TOM_RC_PER_SWATH\n",
    "INT_ORBITS_PER_SWATH = ORBITS_PER_RC * INT_RC_PER_SWATH\n",
    "TOM_ORBITS_PER_MC = TOM_ORBITS_PER_SWATH * SWATHS + ORBITS_PER_SRM\n",
    "INT_ORBITS_PER_MC = INT_ORBITS_PER_SWATH * SWATHS + ORBITS_PER_SRM\n",
    "TOM_ORBITS_PER_GC = TOM_ORBITS_PER_MC * 6 + TOM_ORBITS_PER_SWATH + ORBITS_PER_SRM\n",
    "INT_ORBITS_PER_GC = INT_ORBITS_PER_MC * 6 + INT_ORBITS_PER_SWATH + ORBITS_PER_SRM\n",
    "SAR_ISPS_PER_SEC = int(np.ceil(1 / 340e-6))  # Assumption: SAR PRI = 340 us\n",
    "ANC_ISPS_PER_SEC = 1\n",
    "BASELINE = 1\n",
    "SLICE_MIN_DURATION = 28\n",
    "FRAME_MIN_DURATION = 7\n",
    "\n",
    "\n",
    "@dataclass\n",
    "class AbsoluteOrbit:\n",
    "    \n",
    "    orbit: int\n",
    "    mission_phase: tm.MissionPhase\n",
    "    start: Optional[pd.Timestamp] = None\n",
    "    stop: Optional[pd.Timestamp] = None\n",
    "    \n",
    "    def orbits_per_mc(self) -> int:\n",
    "        if self.mission_phase == tm.MissionPhase.TOM:\n",
    "            result = TOM_ORBITS_PER_MC\n",
    "        elif self.mission_phase == tm.MissionPhase.INT:\n",
    "            result = INT_ORBITS_PER_MC\n",
    "        else:\n",
    "            raise ValueError(\"phase must be tm.MissionPhase.TOM or tm.MissionPhase.INT\")\n",
    "        return result\n",
    "\n",
    "    def orbits_per_swath(self) -> int:\n",
    "        if self.mission_phase == tm.MissionPhase.TOM:\n",
    "            result = TOM_ORBITS_PER_SWATH\n",
    "        elif self.mission_phase == tm.MissionPhase.INT:\n",
    "            result = INT_ORBITS_PER_SWATH\n",
    "        else:\n",
    "            raise ValueError(\"phase must be tm.MissionPhase.TOM or tm.MissionPhase.INT\")\n",
    "        return result\n",
    "    \n",
    "    def orbits_per_gc(self) -> int:\n",
    "        if self.mission_phase == tm.MissionPhase.TOM:\n",
    "            result = TOM_ORBITS_PER_GC\n",
    "        elif self.mission_phase == tm.MissionPhase.INT:\n",
    "            result = INT_ORBITS_PER_GC\n",
    "        else:\n",
    "            raise ValueError(\"phase must be tm.MissionPhase.TOM or tm.MissionPhase.INT\")\n",
    "        return result\n",
    "    \n",
    "    def verify_orbit(self):\n",
    "        if self.orbit < 1:\n",
    "            raise ValueError(\"orbit must be > 0\")\n",
    "            \n",
    "    def gcid(self) -> int:\n",
    "        self.verify_orbit()\n",
    "        return int(np.ceil(self.orbit / self.orbits_per_gc()))\n",
    "\n",
    "    def mcid(self) -> int:\n",
    "        self.verify_orbit()\n",
    "        orbit = self.orbit - (self.gcid() - 1) * self.orbits_per_gc()\n",
    "        result = int(np.ceil(orbit / self.orbits_per_mc()))\n",
    "        if result > 7:\n",
    "            raise ValueError(\"computed MCID is greater than 7\")\n",
    "        return result\n",
    "    \n",
    "    def swathid(self) -> int:\n",
    "        self.verify_orbit()\n",
    "        orbit = self.orbit - (self.gcid() - 1) * self.orbits_per_gc() - (self.mcid() - 1) * self.orbits_per_mc()\n",
    "        swaths = SWATHS if self.mcid() < 7 else 1\n",
    "        if orbit < self.orbits_per_swath() * swaths:\n",
    "            result = int(np.ceil(orbit / self.orbits_per_swath()))\n",
    "        else:\n",
    "            # SRM\n",
    "            result = 0\n",
    "        return result\n",
    "    \n",
    "    def rcid(self) -> int:\n",
    "        self.verify_orbit()\n",
    "        swathid = self.swathid()\n",
    "        if swathid == 0:\n",
    "            # SRM\n",
    "            result = 0\n",
    "        else:\n",
    "            orbit = self.orbit - (self.gcid() - 1) * self.orbits_per_gc() - (self.mcid() - 1) * self.orbits_per_mc() - \\\n",
    "                (swathid - 1) * self.orbits_per_swath()\n",
    "            result = int(np.ceil(orbit / ORBITS_PER_RC))\n",
    "        return result\n",
    "    \n",
    "    def track(self) -> int:\n",
    "        self.verify_orbit()\n",
    "        swathid = self.swathid()\n",
    "        if swathid == 0:\n",
    "            # SRM\n",
    "            result = 0\n",
    "        else:\n",
    "            result = self.orbit - (self.gcid() - 1) * self.orbits_per_gc() - (self.mcid() - 1) * self.orbits_per_mc() - \\\n",
    "                (swathid - 1) * self.orbits_per_swath() - (self.rcid() - 1) * ORBITS_PER_RC\n",
    "        return result\n",
    "    \n",
    "    def to_interval(self) -> pd.Interval:\n",
    "        if None in (self.start, self.stop):\n",
    "            raise TypeError(\"orbit's start and stop times must be not None\")\n",
    "        return pd.Interval(self.start, self.stop, closed='both')\n",
    "\n",
    "\n",
    "@dataclass\n",
    "class Grid:\n",
    "    \n",
    "    orbit_start: pd.Timestamp\n",
    "    orbit_stop: pd.Timestamp\n",
    "    duration: float\n",
    "    initial_overlap: float\n",
    "    final_overlap: float\n",
    "    num_intervals: int\n",
    "        \n",
    "    def interval(self, n: int) -> pd.Interval:\n",
    "        if n < 1 or n > self.num_intervals:\n",
    "            raise ValueError(f'interval number must be included in [0, {self.num_intervals}]')\n",
    "        left = self.orbit_start + pd.to_timedelta((n - 1) * self.duration - self.initial_overlap, 's')\n",
    "        if n == self.num_intervals:\n",
    "            right = self.orbit_stop + pd.to_timedelta(self.final_overlap, 's')\n",
    "        else:\n",
    "            right = self.orbit_start + pd.to_timedelta(n * self.duration + self.final_overlap, 's')\n",
    "        return pd.Interval(left, right, closed='both')\n",
    "    \n",
    "    def intervals(self, restriction: Optional[pd.Interval] = None,\n",
    "                  min_duration: Optional[float] = None) -> list[tuple[int, pd.Interval]]:\n",
    "        result = []\n",
    "        for n in range(self.num_intervals):\n",
    "            i = self.interval(n + 1)\n",
    "            if restriction is None:\n",
    "                result.append((n + 1, i))\n",
    "            else:\n",
    "                if i.overlaps(restriction):\n",
    "                    start = max(restriction.left, i.left)\n",
    "                    stop = min(restriction.right, i.right)\n",
    "                    result.append((n + 1, pd.Interval(start, stop, closed='both')))\n",
    "        if min_duration is not None:\n",
    "            _result = []\n",
    "            for k in range(len(result)):\n",
    "                if result[k][1].length.total_seconds() >= min_duration:\n",
    "                    start = result[k][1].left\n",
    "                    stop = result[k][1].right\n",
    "                    if k - 1 >= 0 and result[k - 1][1].length.total_seconds() < min_duration:\n",
    "                        start = result[k - 1][1].left\n",
    "                    if k + 1 < len(result) and result[k + 1][1].length.total_seconds() < min_duration:\n",
    "                        stop = result[k + 1][1].right\n",
    "                    _result.append((result[k][0], pd.Interval(start, stop, closed='both')))\n",
    "            result = _result\n",
    "        return result\n",
    "\n",
    "    \n",
    "@dataclass\n",
    "class SliceGrid(Grid):\n",
    "\n",
    "    orbit_start: pd.Timestamp\n",
    "    orbit_stop: pd.Timestamp\n",
    "    duration: float = const.SLICE_GRID_DURATION\n",
    "    initial_overlap: float = const.SLICE_INITIAL_OVERLAP\n",
    "    final_overlap: float = const.SLICE_FINAL_OVERLAP\n",
    "    num_intervals: int = const.NUM_SLICES\n",
    "\n",
    "        \n",
    "@dataclass\n",
    "class FrameGrid(Grid):\n",
    "\n",
    "    orbit_start: pd.Timestamp\n",
    "    orbit_stop: pd.Timestamp\n",
    "    duration: float = const.FRAME_GRID_DURATION\n",
    "    initial_overlap: float = const.FRAME_INITIAL_OVERLAP\n",
    "    final_overlap: float = const.FRAME_FINAL_OVERLAP\n",
    "    num_intervals: int = const.NUM_FRAMES\n",
    "\n",
    "        \n",
    "def get_orbits(simulation: pd.DataFrame, idx: int) -> list[pd.Interval]:\n",
    "    \"\"\"Get list of orbit intervals overlapping acuisition identified by `idx`.\"\"\"\n",
    "    result = [\n",
    "        pd.Interval(simulation.loc[idx]['Anx'], simulation.loc[idx]['NextAnx'], closed='both'),\n",
    "    ]\n",
    "    if simulation.loc[idx]['End'] > simulation.loc[idx]['NextAnx']:\n",
    "        result.append(\n",
    "            pd.Interval(\n",
    "                simulation[simulation['Orbit'] == simulation.loc[idx]['Orbit'] + 1]['Anx'].min(),\n",
    "                simulation[simulation['Orbit'] == simulation.loc[idx]['Orbit'] + 1]['NextAnx'].min(),\n",
    "                closed='both'\n",
    "            )\n",
    "        )\n",
    "    return result\n",
    "\n",
    "\n",
    "def get_slices(orbits: list[pd.Interval], interval: pd.Interval, min_duration: Optional[float] = None) -> pd.DataFrame:\n",
    "    \"\"\"Get list of slices having overlap with `interval`.\"\"\"\n",
    "    slices = []\n",
    "    for orbit in orbits:\n",
    "        sg = SliceGrid(orbit.left, orbit.right)\n",
    "        slices.extend(sg.intervals(interval, min_duration))  \n",
    "    return pd.DataFrame(\n",
    "        [{'n': s[0], 'start': s[1].left, 'stop': s[1].right, 'duration': s[1].length.total_seconds()}\n",
    "         for s in slices]\n",
    "    )\n",
    "\n",
    "\n",
    "def get_frames(orbits: list[pd.Interval], interval: pd.Interval, min_duration: Optional[float] = None) -> pd.DataFrame:\n",
    "    \"\"\"Get list of frames having overlap with `interval`.\"\"\"\n",
    "    frames = []\n",
    "    for orbit in orbits:\n",
    "        fg = FrameGrid(orbit.left, orbit.right)\n",
    "        frames.extend(fg.intervals(interval, min_duration))\n",
    "    return pd.DataFrame(\n",
    "        [{'n': f[0], 'start': f[1].left, 'stop': f[1].right, 'duration': f[1].length.total_seconds()}\n",
    "         for f in frames]\n",
    "    )\n",
    "\n",
    "\n",
    "def raw_generation_scenario(tds_name: str, simulation: pd.DataFrame, idx: int, mode: str) -> dict:\n",
    "    if mode == 'MM':\n",
    "        pids = [25, 26]\n",
    "    elif mode == 'RO':\n",
    "        pids = [27, 28]\n",
    "    elif mode == 'EC':\n",
    "        pids = [35, 36]\n",
    "    else:\n",
    "        raise ValueError(f\"unknown mode: {mode}\")\n",
    "    \n",
    "    data_take = pd.Interval(simulation.loc[idx]['Start'], simulation.loc[idx]['End'], closed='both')\n",
    "    plt_data_validity = pd.Interval(\n",
    "        data_take.left - pd.to_timedelta(const.PLATFORM_ANCILLARY_INITIAL_MARGIN, 's'),\n",
    "        data_take.right + pd.to_timedelta(const.PLATFORM_ANCILLARY_FINAL_MARGIN, 's'),\n",
    "        closed='both'\n",
    "    )\n",
    "    acquisition_date = data_take.right + pd.to_timedelta(30, 'm')\n",
    "    return {\n",
    "        'name': f\"{tds_name} - DTID {simulation.loc[idx]['DTID']}\",\n",
    "        'file_name': 'N/A',\n",
    "        'processor_name': 'procsim',\n",
    "        'processor_version': procsim_version,\n",
    "        'task_name': 'N/A',\n",
    "        'task_version': 'N/A',\n",
    "        'log_level': 'debug',\n",
    "        'begin_position': data_take.left.isoformat() + 'Z',\n",
    "        'end_position': data_take.right.isoformat() + 'Z',\n",
    "        'acquisition_date': acquisition_date.isoformat() + 'Z',\n",
    "        'acquisition_station': 'SV',\n",
    "        'baseline': 1,\n",
    "        'outputs': [\n",
    "            {\n",
    "                'type': 'RAW_022_10',\n",
    "                'begin_position': plt_data_validity.left.isoformat() + 'Z',\n",
    "                'end_position': plt_data_validity.right.isoformat() + 'Z',\n",
    "                'num_isp': int(np.ceil(ANC_ISPS_PER_SEC * plt_data_validity.length.total_seconds())),\n",
    "                'num_isp_erroneous': 0,\n",
    "                'num_isp_corrupt': 0\n",
    "            }\n",
    "        ] + [\n",
    "            {\n",
    "                'type': f'RAW_{pid:03d}_10',\n",
    "                'num_isp': int(np.ceil(ANC_ISPS_PER_SEC * data_take.length.total_seconds())),\n",
    "                'num_isp_erroneous': 0,\n",
    "                'num_isp_corrupt': 0\n",
    "            }\n",
    "            for pid in [23, 24]\n",
    "        ] + [\n",
    "            {\n",
    "                'type': f'RAW_{pid:03d}_10',\n",
    "                'num_isp': int(np.ceil(SAR_ISPS_PER_SEC * data_take.length.total_seconds())),\n",
    "                'num_isp_erroneous': 0,\n",
    "                'num_isp_corrupt': 0\n",
    "            }\n",
    "            for pid in pids\n",
    "        ]\n",
    "    }\n",
    "\n",
    "\n",
    "def l0pfs1_processing_scenarios(tds_name: str, simulation: pd.DataFrame, idx: int, mode: str, phase: str) -> list[dict]:\n",
    "    pids = [22, 23, 24]\n",
    "    if mode == 'MM':\n",
    "        pids += [25, 26]\n",
    "    elif mode == 'RO':\n",
    "        pids += [27, 28]\n",
    "    elif mode == 'EC':\n",
    "        pids += [35, 36]\n",
    "    else:\n",
    "        raise ValueError(f\"unknown mode: {mode}\")\n",
    "\n",
    "    data_take = pd.Interval(simulation.loc[idx]['Start'], simulation.loc[idx]['End'], closed='both')\n",
    "    baseline = 1\n",
    "    orbits = get_orbits(simulation, idx)\n",
    "    result = [\n",
    "        {\n",
    "            'name': f\"{tds_name} - {mode} - DTID {simulation.loc[idx]['DTID']} - L0PFS1 - RAW_{pid:03d}_10\",\n",
    "            'file_name': 'l0pfs1.sh',\n",
    "            'processor_name': f'L0PFS1{pid}',\n",
    "            'processor_version': '01.00',\n",
    "            'task_name': f'L0PFS1{pid}',\n",
    "            'task_version': '01.00',\n",
    "            'log_level': 'debug',\n",
    "            'baseline': baseline,\n",
    "            'anx': [o.left.isoformat() + 'Z' for o in orbits],\n",
    "            'outputs': [\n",
    "                {\n",
    "                    'type': f'RAWS{pid:03d}_10',\n",
    "                    'metadata_source': f'.*RAW_{pid:03d}_10_.*'\n",
    "                }\n",
    "            ]\n",
    "        }\n",
    "        for pid in pids\n",
    "    ]\n",
    "    return result\n",
    "\n",
    "\n",
    "def l0pfs2_processing_scenario(tds_name: str, simulation: pd.DataFrame, idx: int, mode: str, phase: str) -> dict:\n",
    "    if mode == 'MM':\n",
    "        outputs = [\n",
    "            {\n",
    "                'type': f\"{simulation.loc[idx]['SensorMode'][-2:]}_RAW__0S\",\n",
    "                'metadata_source': '.*RAWS025_10_.*'\n",
    "            },\n",
    "            {\n",
    "                'type': f\"{simulation.loc[idx]['SensorMode'][-2:]}_RAWP_0M\",\n",
    "                'metadata_source': '.*RAWS025_10_.*'\n",
    "            }            \n",
    "        ]\n",
    "    elif mode == 'RO':\n",
    "        outputs = [\n",
    "            {\n",
    "                'type': \"RO_RAW__0S\",\n",
    "                'metadata_source': '.*RAWS027_10_.*'\n",
    "            }\n",
    "        ]\n",
    "    elif mode == 'EC':\n",
    "            {\n",
    "                'type': \"EC_RAWP_0S\",\n",
    "                'metadata_source': '.*RAWS035_10_.*'\n",
    "            },\n",
    "            {\n",
    "                'type': \"EC_RAWP_0M\",\n",
    "                'metadata_source': '.*RAWS035_10_.*'\n",
    "            }            \n",
    "    else:\n",
    "        raise ValueError(f\"unknown mode: {mode}\")\n",
    "    data_take = pd.Interval(simulation.loc[idx]['Start'], simulation.loc[idx]['End'], closed='both')\n",
    "    baseline = 1\n",
    "    orbits = get_orbits(simulation, idx)\n",
    "    result = {\n",
    "        'name': f\"{tds_name} - {mode} - DTID {simulation.loc[idx]['DTID']} - L0PFS2\",\n",
    "        'file_name': 'l0pfs2.sh',\n",
    "        'processor_name': 'L0PFS2',\n",
    "        'processor_version': '01.00',\n",
    "        'task_name': 'L0PFS2',\n",
    "        'task_version': '01.00',\n",
    "        'log_level': 'debug',\n",
    "        'baseline': baseline,\n",
    "        'anx': [o.left.isoformat() + 'Z' for o in orbits],\n",
    "        'data_takes': [\n",
    "            {\n",
    "                'data_take_id': str(simulation.loc[idx]['DTID']),\n",
    "                'start': data_take.left.isoformat() + 'Z',\n",
    "                'stop': data_take.right.isoformat() + 'Z',\n",
    "                'swath': simulation.loc[idx]['SensorMode'][-2:],\n",
    "                'operational_mode': mode\n",
    "            }\n",
    "        ],\n",
    "        'mission_phase': phase,\n",
    "        'global_coverage_id': str(simulation.loc[idx]['gcid']),\n",
    "        'major_cycle_id': str(simulation.loc[idx]['mcid']),\n",
    "        'repeat_cycle_id': str(simulation.loc[idx]['rcid']),\n",
    "        'track_nr': str(simulation.loc[idx]['track']),\n",
    "        'num_l0_lines': str(int(np.ceil(SAR_ISPS_PER_SEC * const.SLICE_DURATION))),\n",
    "        'num_l0_lines_corrupt': '0',\n",
    "        'num_l0_lines_missing': '0',\n",
    "        'outputs': outputs\n",
    "    }\n",
    "    return result\n",
    "\n",
    "\n",
    "def l0pfs3_processing_scenario(tds_name: str, simulation: pd.DataFrame, idx: int, mode: str, phase: str) -> dict:\n",
    "    if mode == 'MM':\n",
    "        swath_id = simulation.loc[idx]['SensorMode'][-2:]\n",
    "    elif mode == 'EC':\n",
    "        swath_id = 'RO'\n",
    "    else:\n",
    "        raise ValueError(f\"unknown mode: {mode}\")\n",
    "    data_take = pd.Interval(simulation.loc[idx]['Start'], simulation.loc[idx]['End'], closed='both')\n",
    "    baseline = 1\n",
    "    orbits = get_orbits(simulation, idx)\n",
    "    result = {\n",
    "        'name': f\"{tds_name} - {mode} - DTID {simulation.loc[idx]['DTID']} - L0PFS3\",\n",
    "        'file_name': 'l0pfs3.sh',\n",
    "        'processor_name': 'L0PFS3',\n",
    "        'processor_version': '01.00',\n",
    "        'task_name': 'L0PFS3',\n",
    "        'task_version': '01.00',\n",
    "        'log_level': 'debug',\n",
    "        'baseline': baseline,\n",
    "        'anx': [o.left.isoformat() + 'Z' for o in orbits],\n",
    "        'data_takes': [\n",
    "            {\n",
    "                'data_take_id': str(simulation.loc[idx]['DTID']),\n",
    "                'start': data_take.left.isoformat() + 'Z',\n",
    "                'stop': data_take.right.isoformat() + 'Z',\n",
    "                'swath': swath_id,\n",
    "                'operational_mode': mode\n",
    "            }\n",
    "        ],\n",
    "        'mission_phase': phase,\n",
    "        'global_coverage_id': str(simulation.loc[idx]['gcid']),\n",
    "        'major_cycle_id': str(simulation.loc[idx]['mcid']),\n",
    "        'repeat_cycle_id': str(simulation.loc[idx]['rcid']),\n",
    "        'track_nr': str(simulation.loc[idx]['track']),\n",
    "        'num_l0_lines': str(int(np.ceil(SAR_ISPS_PER_SEC * const.SLICE_DURATION))),\n",
    "        'num_l0_lines_corrupt': '0',\n",
    "        'num_l0_lines_missing': '0',\n",
    "        'outputs': [\n",
    "            {\n",
    "                'file_type': f'{swath_id}_RAW__0M',\n",
    "                #'begin_position': data_take.left.isoformat() + 'Z',\n",
    "                #'end_position': data_take.right.isoformat() + 'Z',                \n",
    "            }\n",
    "        ]\n",
    "    }\n",
    "    return result\n",
    "\n",
    "\n",
    "def l0pfs4_processing_scenario(tds_name: str, simulation: pd.DataFrame, idx: int, mode: str, phase: str) -> dict:\n",
    "    data_take = pd.Interval(simulation.loc[idx]['Start'], simulation.loc[idx]['End'], closed='both')\n",
    "    baseline = 1\n",
    "    orbits = get_orbits(simulation, idx)\n",
    "    result = {\n",
    "        'name': f\"{tds_name} - {mode} - DTID {simulation.loc[idx]['DTID']} - L0PFS4\",\n",
    "        'file_name': 'l0pfs4.sh',\n",
    "        'processor_name': 'L0PFS4',\n",
    "        'processor_version': '01.00',\n",
    "        'task_name': 'L0PFS4',\n",
    "        'task_version': '01.00',\n",
    "        'log_level': 'debug',\n",
    "        'baseline': baseline,\n",
    "        'anx': [o.left.isoformat() + 'Z' for o in orbits],\n",
    "        'data_takes': [\n",
    "            {\n",
    "                'data_take_id': str(simulation.loc[idx]['DTID']),\n",
    "                'start': data_take.left.isoformat() + 'Z',\n",
    "                'stop': data_take.right.isoformat() + 'Z',\n",
    "                'swath': simulation.loc[idx]['SensorMode'][-2:],\n",
    "                'operational_mode': mode\n",
    "            }\n",
    "        ],\n",
    "        'mission_phase': phase,\n",
    "        'global_coverage_id': str(simulation.loc[idx]['gcid']),\n",
    "        'major_cycle_id': str(simulation.loc[idx]['mcid']),\n",
    "        'repeat_cycle_id': str(simulation.loc[idx]['rcid']),\n",
    "        'track_nr': str(simulation.loc[idx]['track']),\n",
    "        'num_l0_lines': str(int(np.ceil(ANC_ISPS_PER_SEC * const.SLICE_DURATION))),\n",
    "        'num_l0_lines_corrupt': '0',\n",
    "        'num_l0_lines_missing': '0',\n",
    "        'outputs': [\n",
    "            {\n",
    "                'file_type': 'AC_RAW__0A',\n",
    "                #'begin_position': data_take.left.isoformat() + 'Z',\n",
    "                #'end_position': data_take.right.isoformat() + 'Z',\n",
    "                'leading_margin': const.PLATFORM_ANCILLARY_INITIAL_MARGIN,\n",
    "                'trailing_margin': const.PLATFORM_ANCILLARY_FINAL_MARGIN\n",
    "            }\n",
    "        ]\n",
    "    }\n",
    "    return result\n",
    "\n",
    "\n",
    "def l0pfs5_processing_scenario(tds_name: str, simulation: pd.DataFrame, idx: int, phase: str) -> dict:\n",
    "    data_take = pd.Interval(simulation.loc[idx]['Start'], simulation.loc[idx]['End'], closed='both')\n",
    "    baseline = 1\n",
    "    orbits = get_orbits(simulation, idx)\n",
    "    result = {\n",
    "        'name': f\"{tds_name} - EC - DTID {simulation.loc[idx]['DTID']} - L0PFS5\",\n",
    "        'file_name': 'l0pfs5.sh',\n",
    "        'processor_name': 'L0PFS5',\n",
    "        'processor_version': '01.00',\n",
    "        'task_name': 'L0PFS5',\n",
    "        'task_version': '01.00',\n",
    "        'log_level': 'debug',\n",
    "        'baseline': baseline,\n",
    "        'anx': [o.left.isoformat() + 'Z' for o in orbits],\n",
    "        'data_takes': [\n",
    "            {\n",
    "                'data_take_id': str(simulation.loc[idx]['DTID']),\n",
    "                'start': data_take.left.isoformat() + 'Z',\n",
    "                'stop': data_take.right.isoformat() + 'Z',\n",
    "                'swath': 'EC',\n",
    "                'operational_mode': 'EC'\n",
    "            }\n",
    "        ],\n",
    "        'mission_phase': phase,\n",
    "        'global_coverage_id': str(simulation.loc[idx]['gcid']),\n",
    "        'major_cycle_id': str(simulation.loc[idx]['mcid']),\n",
    "        'repeat_cycle_id': str(simulation.loc[idx]['rcid']),\n",
    "        'track_nr': str(simulation.loc[idx]['track']),\n",
    "        'num_l0_lines': str(int(np.ceil(SAR_ISPS_PER_SEC * const.SLICE_DURATION))),\n",
    "        'num_l0_lines_corrupt': '0',\n",
    "        'num_l0_lines_missing': '0',\n",
    "        'outputs': [\n",
    "            {\n",
    "                'file_type': 'EC_RAW__0S',\n",
    "                #'begin_position': data_take.left.isoformat() + 'Z',\n",
    "                #'end_position': data_take.right.isoformat() + 'Z',\n",
    "            }\n",
    "        ]\n",
    "    }\n",
    "    return result\n",
    "\n",
    "\n",
    "def oapf_processing_scenario(tds_name: str, simulation: pd.DataFrame, idx: int, mode: str, phase: str) -> dict:\n",
    "    data_take = pd.Interval(simulation.loc[idx]['Start'], simulation.loc[idx]['End'], closed='both')\n",
    "    baseline = 1\n",
    "    orbits = get_orbits(simulation, idx)\n",
    "    result = {\n",
    "        'name': f\"{tds_name} - {mode} - DTID {simulation.loc[idx]['DTID']} - OAPF\",\n",
    "        'file_name': 'oapf.sh',\n",
    "        'processor_name': 'OAPF',\n",
    "        'processor_version': '01.00',\n",
    "        'task_name': 'OAPF',\n",
    "        'task_version': '01.00',\n",
    "        'log_level': 'debug',\n",
    "        'baseline': baseline,\n",
    "        'anx': [o.left.isoformat() + 'Z' for o in orbits],\n",
    "        'data_takes': [\n",
    "            {\n",
    "                'data_take_id': str(simulation.loc[idx]['DTID']),\n",
    "                'start': data_take.left.isoformat() + 'Z',\n",
    "                'stop': data_take.right.isoformat() + 'Z',\n",
    "                'operational_mode': mode\n",
    "            }\n",
    "        ],\n",
    "        'outputs': [\n",
    "            {\n",
    "                'file_type': 'AUX_ATT___',\n",
    "                #'begin_position': data_take.left.isoformat() + 'Z',\n",
    "                #'end_position': data_take.right.isoformat() + 'Z',\n",
    "                'leading_margin': const.PLATFORM_ANCILLARY_INITIAL_MARGIN,\n",
    "                'trailing_margin': const.PLATFORM_ANCILLARY_FINAL_MARGIN\n",
    "            },\n",
    "            {\n",
    "                'file_type': 'AUX_ORB___',\n",
    "                #'begin_position': data_take.left.isoformat() + 'Z',\n",
    "                #'end_position': data_take.right.isoformat() + 'Z',\n",
    "                'leading_margin': const.PLATFORM_ANCILLARY_INITIAL_MARGIN,\n",
    "                'trailing_margin': const.PLATFORM_ANCILLARY_FINAL_MARGIN\n",
    "            }\n",
    "        ]\n",
    "    }\n",
    "    return result\n",
    "\n",
    "\n",
    "def l1_processing_scenarios(tds_name: str, simulation: pd.DataFrame, idx: int, phase: str) -> dict:\n",
    "    data_take = pd.Interval(simulation.loc[idx]['Start'], simulation.loc[idx]['End'], closed='both')\n",
    "    orbit = pd.Interval(simulation.loc[idx]['Anx'], simulation.loc[idx]['NextAnx'])\n",
    "    slices = get_slices([orbit], data_take, SLICE_MIN_DURATION)\n",
    "    swath_id = simulation.loc[idx]['SensorMode'][-2:]\n",
    "    dt_polygon = simulation.loc[idx, ['NW_Lat', 'NW_Lon', 'NE_Lat', 'NE_Lon', 'SE_Lat', 'SE_Lon', 'SW_Lat', 'SW_Lon', 'NW_Lat', 'NW_Lon']].to_numpy()\n",
    "    footprint_polygon = ' '.join(dt_polygon.astype(str))\n",
    "    baseline = 1\n",
    "    result = [\n",
    "        {\n",
    "            'name': f\"{tds_name} - DTID {simulation.loc[idx]['DTID']} - L1PF - slice {slice_number}\",\n",
    "            'file_name': 'l1pf.sh',\n",
    "            'processor_name': 'L1PF',\n",
    "            'processor_version': '01.00',\n",
    "            'task_name': 'L1PF',\n",
    "            'task_version': '01.00',\n",
    "            'log_level': 'debug',\n",
    "            'baseline': baseline,\n",
    "            'anx': [o.left.isoformat() + 'Z' for o in orbits],\n",
    "            'data_takes': [\n",
    "                {\n",
    "                    'data_take_id': str(simulation.loc[idx]['DTID']),\n",
    "                    'start': data_take.left.isoformat() + 'Z',\n",
    "                    'stop': data_take.right.isoformat() + 'Z',\n",
    "                    'swath': swath_id,\n",
    "                    'operational_mode': 'SM'\n",
    "                }\n",
    "            ],\n",
    "            'mission_phase': phase,\n",
    "            'global_coverage_id': str(simulation.loc[idx]['gcid']),\n",
    "            'major_cycle_id': str(simulation.loc[idx]['mcid']),\n",
    "            'repeat_cycle_id': str(simulation.loc[idx]['rcid']),\n",
    "            'track_nr': str(simulation.loc[idx]['track']),\n",
    "            'footprint_polygon': footprint_polygon,\n",
    "            'outputs': [\n",
    "                {\n",
    "                    'file_type': f'{swath_id}_SCS__1S',\n",
    "                    #'begin_position': slices.query('n == @slice_number')['start'].iloc[0].isoformat() + 'Z',\n",
    "                    #'end_position': slices.query('n == @slice_number')['stop'].iloc[0].isoformat() + 'Z'\n",
    "                },\n",
    "                {\n",
    "                    'file_type': f'{swath_id}_SCS__1M',\n",
    "                    #'begin_position': slices.query('n == @slice_number')['start'].iloc[0].isoformat() + 'Z',\n",
    "                    #'end_position': slices.query('n == @slice_number')['stop'].iloc[0].isoformat() + 'Z'\n",
    "                },\n",
    "                {\n",
    "                    'file_type': f'{swath_id}_DGM__1S',\n",
    "                    #'begin_position': slices.query('n == @slice_number')['start'].iloc[0].isoformat() + 'Z',\n",
    "                    #'end_position': slices.query('n == @slice_number')['stop'].iloc[0].isoformat() + 'Z'\n",
    "                }\n",
    "            ]\n",
    "        }\n",
    "        for slice_number in slices['n']\n",
    "    ]\n",
    "    return result\n",
    "\n",
    "\n",
    "def l1c_processing_scenarios(tds_name: str, simulation: pd.DataFrame, idx: int, phase: str) -> dict:\n",
    "    data_take = pd.Interval(simulation.loc[idx]['Start'], simulation.loc[idx]['End'], closed='both')\n",
    "    orbit = pd.Interval(simulation.loc[idx]['Anx'], simulation.loc[idx]['NextAnx'])\n",
    "    frames = get_frames([orbit], data_take, FRAME_MIN_DURATION)\n",
    "    swath_id = simulation.loc[idx]['SensorMode'][-2:]\n",
    "    dt_polygon = simulation.loc[idx, ['NW_Lat', 'NW_Lon', 'NE_Lat', 'NE_Lon', 'SE_Lat', 'SE_Lon', 'SW_Lat', 'SW_Lon', 'NW_Lat', 'NW_Lon']].to_numpy()\n",
    "    footprint_polygon = ' '.join(dt_polygon.astype(str))\n",
    "    baseline = 1\n",
    "    result = [\n",
    "        {\n",
    "            'name': f\"{tds_name} - DTID {simulation.loc[idx]['DTID']} - L1PF - frame {frame_number}\",\n",
    "            'file_name': 'stackpf.sh',\n",
    "            'processor_name': 'STACK',\n",
    "            'processor_version': '01.00',\n",
    "            'task_name': 'STACK',\n",
    "            'task_version': '01.00',\n",
    "            'log_level': 'debug',\n",
    "            'baseline': baseline,\n",
    "            'anx': [o.left.isoformat() + 'Z' for o in orbits],\n",
    "            'data_takes': [\n",
    "                {\n",
    "                    'data_take_id': str(simulation.loc[idx]['DTID']),\n",
    "                    'start': data_take.left.isoformat() + 'Z',\n",
    "                    'stop': data_take.right.isoformat() + 'Z',\n",
    "                    'swath': swath_id,\n",
    "                    'operational_mode': 'SM'\n",
    "                }\n",
    "            ],\n",
    "            'mission_phase': phase,\n",
    "            'global_coverage_id': str(simulation.loc[idx]['gcid']),\n",
    "            'major_cycle_id': str(simulation.loc[idx]['mcid']),\n",
    "            'repeat_cycle_id': str(simulation.loc[idx]['rcid']),\n",
    "            'track_nr': str(simulation.loc[idx]['track']),\n",
    "            'footprint_polygon': footprint_polygon,\n",
    "            'outputs': [\n",
    "                {\n",
    "                    'file_type': f'{swath_id}_STA__1S',\n",
    "                    #'begin_position': slices.query('n == @slice_number')['start'].iloc[0].isoformat() + 'Z',\n",
    "                    #'end_position': slices.query('n == @slice_number')['stop'].iloc[0].isoformat() + 'Z'\n",
    "                },\n",
    "                {\n",
    "                    'file_type': f'{swath_id}_STA__1M',\n",
    "                    #'begin_position': slices.query('n == @slice_number')['start'].iloc[0].isoformat() + 'Z',\n",
    "                    #'end_position': slices.query('n == @slice_number')['stop'].iloc[0].isoformat() + 'Z'\n",
    "                }\n",
    "            ]\n",
    "        }\n",
    "        for frame_number in frames['n']\n",
    "    ]\n",
    "    return result\n",
    "\n",
    "\n",
    "%reload_ext watermark\n",
    "%watermark -iv"
   ]
  },
  {
   "cell_type": "markdown",
   "id": "11f1f93e-c006-42d2-a0d1-d8c2680fd1f4",
   "metadata": {
    "tags": []
   },
   "source": [
    "## TOM_TDS\n",
    "\n",
    "### Load data from SaVoir simulation"
   ]
  },
  {
   "cell_type": "code",
   "execution_count": 2,
   "id": "5c8cc3a4-50c7-482f-a00b-49ce990b2075",
   "metadata": {},
   "outputs": [
    {
     "data": {
      "text/plain": [
       "Index(['Start', 'End', 'Duration', 'Satellite', 'SensorMode', 'Width',\n",
       "       'Length', 'SwathArea', 'Pass', 'NW_Lat', 'NW_Lon', 'NE_Lat', 'NE_Lon',\n",
       "       'SE_Lat', 'SE_Lon', 'SW_Lat', 'SW_Lon', 'Orbit', 'Anx', 'AnxLon',\n",
       "       'TAnx', 'DTID', 'gcid', 'mcid', 'rcid', 'track', 'NextAnx'],\n",
       "      dtype='object')"
      ]
     },
     "execution_count": 2,
     "metadata": {},
     "output_type": "execute_result"
    }
   ],
   "source": [
    "def next_anx(row):\n",
    "    next_orbit = row['Orbit'] + 1\n",
    "    next_anx = row['Anx'] + pd.to_timedelta(ORBIT_DURATION, 's')\n",
    "    r = simulation.query(\"Orbit == @next_orbit\")\n",
    "    if r.shape[0] > 0:\n",
    "        next_anx = r['Anx'].min()\n",
    "    return next_anx\n",
    "\n",
    "simulation = pd.read_excel('Export_TOM_Full_GC_S1_S2_S3_RO_S1SRM.xlsx')\n",
    "\n",
    "# add DTID\n",
    "simulation['DTID'] = [int(tm.DataTakeID(row.Orbit, row.TAnx).tobytes().hex(), 16) for row in simulation.itertuples()]\n",
    "# add mcid, rcid, track, ext anx\n",
    "orbits = [AbsoluteOrbit(n, tm.MissionPhase.INT) for n in simulation['Orbit']]\n",
    "simulation['gcid'] = [o.gcid() for o in orbits]\n",
    "simulation['mcid'] = [o.mcid() for o in orbits]\n",
    "simulation['rcid'] = [o.rcid() for o in orbits]\n",
    "simulation['track'] = [o.track() for o in orbits]\n",
    "simulation['NextAnx'] = simulation.apply(next_anx, axis=1)\n",
    "\n",
    "simulation.sort_values(by=['Start'], inplace=True)\n",
    "\n",
    "simulation.columns"
   ]
  },
  {
   "cell_type": "markdown",
   "id": "293d2bfe-dbe7-49de-9b1d-9b16deee804f",
   "metadata": {},
   "source": [
    "### MM scenario"
   ]
  },
  {
   "cell_type": "markdown",
   "id": "fe327025-c559-489e-bdb4-0bf0065cbdbc",
   "metadata": {},
   "source": [
    "#### Data Take selection"
   ]
  },
  {
   "cell_type": "code",
   "execution_count": 3,
   "id": "4ae5bdb8-2970-4b26-9d32-eb585d9bd174",
   "metadata": {},
   "outputs": [
    {
     "data": {
      "text/html": [
       "<div>\n",
       "<style scoped>\n",
       "    .dataframe tbody tr th:only-of-type {\n",
       "        vertical-align: middle;\n",
       "    }\n",
       "\n",
       "    .dataframe tbody tr th {\n",
       "        vertical-align: top;\n",
       "    }\n",
       "\n",
       "    .dataframe thead th {\n",
       "        text-align: right;\n",
       "    }\n",
       "</style>\n",
       "<table border=\"1\" class=\"dataframe\">\n",
       "  <thead>\n",
       "    <tr style=\"text-align: right;\">\n",
       "      <th></th>\n",
       "      <th>Anx</th>\n",
       "      <th>Start</th>\n",
       "      <th>End</th>\n",
       "      <th>NextAnx</th>\n",
       "      <th>Duration</th>\n",
       "      <th>SensorMode</th>\n",
       "    </tr>\n",
       "  </thead>\n",
       "  <tbody>\n",
       "    <tr>\n",
       "      <th>0</th>\n",
       "      <td>2017-01-01 06:00:01.272</td>\n",
       "      <td>2017-01-01 06:01:31.394</td>\n",
       "      <td>2017-01-01 06:03:44.504</td>\n",
       "      <td>2017-01-01 07:38:12.217</td>\n",
       "      <td>133.110305</td>\n",
       "      <td>Stripmap S1</td>\n",
       "    </tr>\n",
       "    <tr>\n",
       "      <th>2</th>\n",
       "      <td>2017-01-01 06:00:01.272</td>\n",
       "      <td>2017-01-01 06:52:49.307</td>\n",
       "      <td>2017-01-01 06:55:03.719</td>\n",
       "      <td>2017-01-01 07:38:12.217</td>\n",
       "      <td>134.411778</td>\n",
       "      <td>Stripmap S1</td>\n",
       "    </tr>\n",
       "    <tr>\n",
       "      <th>4</th>\n",
       "      <td>2017-01-01 07:38:12.217</td>\n",
       "      <td>2017-01-01 08:28:10.480</td>\n",
       "      <td>2017-01-01 08:29:15.351</td>\n",
       "      <td>2017-01-01 09:16:23.162</td>\n",
       "      <td>64.870512</td>\n",
       "      <td>Stripmap S1</td>\n",
       "    </tr>\n",
       "    <tr>\n",
       "      <th>5</th>\n",
       "      <td>2017-01-01 07:38:12.217</td>\n",
       "      <td>2017-01-01 08:30:20.767</td>\n",
       "      <td>2017-01-01 08:36:51.226</td>\n",
       "      <td>2017-01-01 09:16:23.162</td>\n",
       "      <td>390.458948</td>\n",
       "      <td>Stripmap S1</td>\n",
       "    </tr>\n",
       "    <tr>\n",
       "      <th>6</th>\n",
       "      <td>2017-01-01 07:38:12.217</td>\n",
       "      <td>2017-01-01 09:09:51.641</td>\n",
       "      <td>2017-01-01 09:18:02.670</td>\n",
       "      <td>2017-01-01 09:16:23.162</td>\n",
       "      <td>491.029120</td>\n",
       "      <td>Stripmap S1</td>\n",
       "    </tr>\n",
       "    <tr>\n",
       "      <th>8</th>\n",
       "      <td>2017-01-01 09:16:23.162</td>\n",
       "      <td>2017-01-01 09:46:40.936</td>\n",
       "      <td>2017-01-01 09:49:12.859</td>\n",
       "      <td>2017-01-01 10:54:34.108</td>\n",
       "      <td>151.923140</td>\n",
       "      <td>Stripmap S1</td>\n",
       "    </tr>\n",
       "    <tr>\n",
       "      <th>9</th>\n",
       "      <td>2017-01-01 09:16:23.162</td>\n",
       "      <td>2017-01-01 09:50:14.321</td>\n",
       "      <td>2017-01-01 09:53:27.219</td>\n",
       "      <td>2017-01-01 10:54:34.108</td>\n",
       "      <td>192.897880</td>\n",
       "      <td>Stripmap S1</td>\n",
       "    </tr>\n",
       "    <tr>\n",
       "      <th>10</th>\n",
       "      <td>2017-01-01 09:16:23.162</td>\n",
       "      <td>2017-01-01 09:55:51.150</td>\n",
       "      <td>2017-01-01 09:56:23.150</td>\n",
       "      <td>2017-01-01 10:54:34.108</td>\n",
       "      <td>32.000000</td>\n",
       "      <td>Stripmap S1</td>\n",
       "    </tr>\n",
       "    <tr>\n",
       "      <th>11</th>\n",
       "      <td>2017-01-01 09:16:23.162</td>\n",
       "      <td>2017-01-01 10:01:27.997</td>\n",
       "      <td>2017-01-01 10:03:21.433</td>\n",
       "      <td>2017-01-01 10:54:34.108</td>\n",
       "      <td>113.436128</td>\n",
       "      <td>Stripmap S1</td>\n",
       "    </tr>\n",
       "    <tr>\n",
       "      <th>12</th>\n",
       "      <td>2017-01-01 09:16:23.162</td>\n",
       "      <td>2017-01-01 10:04:57.070</td>\n",
       "      <td>2017-01-01 10:08:08.894</td>\n",
       "      <td>2017-01-01 10:54:34.108</td>\n",
       "      <td>191.824403</td>\n",
       "      <td>Stripmap S1</td>\n",
       "    </tr>\n",
       "  </tbody>\n",
       "</table>\n",
       "</div>"
      ],
      "text/plain": [
       "                       Anx                   Start                     End  \\\n",
       "0  2017-01-01 06:00:01.272 2017-01-01 06:01:31.394 2017-01-01 06:03:44.504   \n",
       "2  2017-01-01 06:00:01.272 2017-01-01 06:52:49.307 2017-01-01 06:55:03.719   \n",
       "4  2017-01-01 07:38:12.217 2017-01-01 08:28:10.480 2017-01-01 08:29:15.351   \n",
       "5  2017-01-01 07:38:12.217 2017-01-01 08:30:20.767 2017-01-01 08:36:51.226   \n",
       "6  2017-01-01 07:38:12.217 2017-01-01 09:09:51.641 2017-01-01 09:18:02.670   \n",
       "8  2017-01-01 09:16:23.162 2017-01-01 09:46:40.936 2017-01-01 09:49:12.859   \n",
       "9  2017-01-01 09:16:23.162 2017-01-01 09:50:14.321 2017-01-01 09:53:27.219   \n",
       "10 2017-01-01 09:16:23.162 2017-01-01 09:55:51.150 2017-01-01 09:56:23.150   \n",
       "11 2017-01-01 09:16:23.162 2017-01-01 10:01:27.997 2017-01-01 10:03:21.433   \n",
       "12 2017-01-01 09:16:23.162 2017-01-01 10:04:57.070 2017-01-01 10:08:08.894   \n",
       "\n",
       "                   NextAnx    Duration   SensorMode  \n",
       "0  2017-01-01 07:38:12.217  133.110305  Stripmap S1  \n",
       "2  2017-01-01 07:38:12.217  134.411778  Stripmap S1  \n",
       "4  2017-01-01 09:16:23.162   64.870512  Stripmap S1  \n",
       "5  2017-01-01 09:16:23.162  390.458948  Stripmap S1  \n",
       "6  2017-01-01 09:16:23.162  491.029120  Stripmap S1  \n",
       "8  2017-01-01 10:54:34.108  151.923140  Stripmap S1  \n",
       "9  2017-01-01 10:54:34.108  192.897880  Stripmap S1  \n",
       "10 2017-01-01 10:54:34.108   32.000000  Stripmap S1  \n",
       "11 2017-01-01 10:54:34.108  113.436128  Stripmap S1  \n",
       "12 2017-01-01 10:54:34.108  191.824403  Stripmap S1  "
      ]
     },
     "execution_count": 3,
     "metadata": {},
     "output_type": "execute_result"
    }
   ],
   "source": [
    "simulation.query(\"SensorMode != 'Receive Only'\")[['Anx', 'Start', 'End', 'NextAnx', 'Duration', 'SensorMode']].head(10)"
   ]
  },
  {
   "cell_type": "markdown",
   "id": "2bfe1fc3-4d1e-4336-be20-fdf73d2b8b9f",
   "metadata": {},
   "source": [
    "ID of selected acquisition: 0"
   ]
  },
  {
   "cell_type": "code",
   "execution_count": 4,
   "id": "46a8b35b-e03d-4d9c-b4bf-94e23131034e",
   "metadata": {},
   "outputs": [],
   "source": [
    "acq_idx = 0"
   ]
  },
  {
   "cell_type": "code",
   "execution_count": 5,
   "id": "8c5fdb23-ef51-4fc8-b1d0-82a8a9626345",
   "metadata": {},
   "outputs": [
    {
     "data": {
      "text/plain": [
       "Interval('2017-01-01 06:01:31.394000', '2017-01-01 06:03:44.504000', closed='both')"
      ]
     },
     "execution_count": 5,
     "metadata": {},
     "output_type": "execute_result"
    }
   ],
   "source": [
    "data_take = pd.Interval(simulation.loc[acq_idx, 'Start'], simulation.loc[acq_idx, 'End'], closed='both')\n",
    "data_take"
   ]
  },
  {
   "cell_type": "code",
   "execution_count": 6,
   "id": "2d13f132-572b-4a4d-ae80-8894d3b09ae2",
   "metadata": {},
   "outputs": [
    {
     "data": {
      "text/plain": [
       "8282"
      ]
     },
     "execution_count": 6,
     "metadata": {},
     "output_type": "execute_result"
    }
   ],
   "source": [
    "dtid = simulation.loc[acq_idx, 'DTID']\n",
    "dtid"
   ]
  },
  {
   "cell_type": "markdown",
   "id": "f7d0a63c-ad6d-4803-b908-d332e621be1f",
   "metadata": {},
   "source": [
    "#### Swath"
   ]
  },
  {
   "cell_type": "code",
   "execution_count": 7,
   "id": "caa5c20b-893c-4250-8719-d43b207b65d4",
   "metadata": {},
   "outputs": [
    {
     "data": {
      "text/plain": [
       "'S1'"
      ]
     },
     "execution_count": 7,
     "metadata": {},
     "output_type": "execute_result"
    }
   ],
   "source": [
    "# get swath id from SensorMode name\n",
    "swath_id = simulation.loc[acq_idx]['SensorMode'][-2:]\n",
    "swath_id"
   ]
  },
  {
   "cell_type": "code",
   "execution_count": 8,
   "id": "f6cca48b-e2d3-4ed4-95bd-d035f4f90ded",
   "metadata": {},
   "outputs": [
    {
     "data": {
      "text/plain": [
       "1"
      ]
     },
     "execution_count": 8,
     "metadata": {},
     "output_type": "execute_result"
    }
   ],
   "source": [
    "# crosscheck with orbit number\n",
    "AbsoluteOrbit(simulation.loc[acq_idx]['Orbit'], tm.MissionPhase.INT).swathid()"
   ]
  },
  {
   "cell_type": "markdown",
   "id": "ea7c3a0e-2652-4bc1-8c73-15069960283b",
   "metadata": {},
   "source": [
    "#### Global coverage id, major cycle id, repeat cycle id, drift flag, orbit and track"
   ]
  },
  {
   "cell_type": "code",
   "execution_count": 9,
   "id": "81a9a1a1-8737-4d9f-b130-887fdd3574b1",
   "metadata": {
    "tags": []
   },
   "outputs": [],
   "source": [
    "gcid = simulation.loc[acq_idx]['gcid']\n",
    "mcid = simulation.loc[acq_idx]['mcid']\n",
    "rcid = simulation.loc[acq_idx]['rcid']\n",
    "track = simulation.loc[acq_idx]['track']"
   ]
  },
  {
   "cell_type": "code",
   "execution_count": 10,
   "id": "a82d7d1d-c575-436d-a3f9-90d7ed16d5c7",
   "metadata": {},
   "outputs": [],
   "source": [
    "dt_polygon = simulation.loc[acq_idx, ['NW_Lat', 'NW_Lon', 'NE_Lat', 'NE_Lon', 'SE_Lat', 'SE_Lon', 'SW_Lat', 'SW_Lon', 'NW_Lat', 'NW_Lon']].to_numpy()\n",
    "\n",
    "footprint_polygon = ' '.join(dt_polygon.astype(str))"
   ]
  },
  {
   "cell_type": "markdown",
   "id": "cc85add8-0565-4ffa-b660-78632f10009b",
   "metadata": {},
   "source": [
    "#### Acquisition"
   ]
  },
  {
   "cell_type": "markdown",
   "id": "56efc293-1dd5-4ddd-8cae-ed5c08e22779",
   "metadata": {},
   "source": [
    "Acquisition date is set to 30 minutes after data take stop"
   ]
  },
  {
   "cell_type": "code",
   "execution_count": 11,
   "id": "e48144cc-777f-4557-8096-d5f9837c1e1e",
   "metadata": {},
   "outputs": [
    {
     "data": {
      "text/plain": [
       "Timestamp('2017-01-01 06:33:44.504000')"
      ]
     },
     "execution_count": 11,
     "metadata": {},
     "output_type": "execute_result"
    }
   ],
   "source": [
    "acquisition_date = data_take.right + pd.to_timedelta(30, 'm')\n",
    "acquisition_station = 'SV'  # Svalbard\n",
    "acquisition_date # start"
   ]
  },
  {
   "cell_type": "markdown",
   "id": "9908a367-b4ac-4689-b20c-16f51011b1d3",
   "metadata": {},
   "source": [
    "#### Affected Orbits"
   ]
  },
  {
   "cell_type": "code",
   "execution_count": 12,
   "id": "70144161-1431-4ac7-b8ac-80941a1447d2",
   "metadata": {},
   "outputs": [
    {
     "data": {
      "text/plain": [
       "[Interval('2017-01-01 06:00:01.272000', '2017-01-01 07:38:12.217000', closed='both')]"
      ]
     },
     "execution_count": 12,
     "metadata": {},
     "output_type": "execute_result"
    }
   ],
   "source": [
    "orbits = get_orbits(simulation, acq_idx)\n",
    "orbits"
   ]
  },
  {
   "cell_type": "markdown",
   "id": "78018604-777a-4267-9f11-2882fcda3555",
   "metadata": {},
   "source": [
    "#### Level 0 slices"
   ]
  },
  {
   "cell_type": "code",
   "execution_count": 13,
   "id": "4aa1090c-f78e-47b7-861b-e0d8222692ae",
   "metadata": {},
   "outputs": [
    {
     "data": {
      "text/html": [
       "<div>\n",
       "<style scoped>\n",
       "    .dataframe tbody tr th:only-of-type {\n",
       "        vertical-align: middle;\n",
       "    }\n",
       "\n",
       "    .dataframe tbody tr th {\n",
       "        vertical-align: top;\n",
       "    }\n",
       "\n",
       "    .dataframe thead th {\n",
       "        text-align: right;\n",
       "    }\n",
       "</style>\n",
       "<table border=\"1\" class=\"dataframe\">\n",
       "  <thead>\n",
       "    <tr style=\"text-align: right;\">\n",
       "      <th></th>\n",
       "      <th>n</th>\n",
       "      <th>start</th>\n",
       "      <th>stop</th>\n",
       "      <th>duration</th>\n",
       "    </tr>\n",
       "  </thead>\n",
       "  <tbody>\n",
       "    <tr>\n",
       "      <th>0</th>\n",
       "      <td>2</td>\n",
       "      <td>2017-01-01 06:01:31.394000000</td>\n",
       "      <td>2017-01-01 06:03:18.303615480</td>\n",
       "      <td>106.909615</td>\n",
       "    </tr>\n",
       "    <tr>\n",
       "      <th>1</th>\n",
       "      <td>3</td>\n",
       "      <td>2017-01-01 06:03:06.303615480</td>\n",
       "      <td>2017-01-01 06:03:44.504000000</td>\n",
       "      <td>38.200384</td>\n",
       "    </tr>\n",
       "  </tbody>\n",
       "</table>\n",
       "</div>"
      ],
      "text/plain": [
       "   n                         start                          stop    duration\n",
       "0  2 2017-01-01 06:01:31.394000000 2017-01-01 06:03:18.303615480  106.909615\n",
       "1  3 2017-01-01 06:03:06.303615480 2017-01-01 06:03:44.504000000   38.200384"
      ]
     },
     "execution_count": 13,
     "metadata": {},
     "output_type": "execute_result"
    }
   ],
   "source": [
    "slices = get_slices(orbits, data_take, SLICE_MIN_DURATION)\n",
    "slices"
   ]
  },
  {
   "cell_type": "markdown",
   "id": "25ce95b2-d751-45b0-b16a-bc538dca39d0",
   "metadata": {},
   "source": [
    "In case of platform ancillary data, validity starts 16 seconds before data take start:"
   ]
  },
  {
   "cell_type": "code",
   "execution_count": 14,
   "id": "7d184331-ae49-46ac-9a67-d18e8315efad",
   "metadata": {},
   "outputs": [
    {
     "data": {
      "text/html": [
       "<div>\n",
       "<style scoped>\n",
       "    .dataframe tbody tr th:only-of-type {\n",
       "        vertical-align: middle;\n",
       "    }\n",
       "\n",
       "    .dataframe tbody tr th {\n",
       "        vertical-align: top;\n",
       "    }\n",
       "\n",
       "    .dataframe thead th {\n",
       "        text-align: right;\n",
       "    }\n",
       "</style>\n",
       "<table border=\"1\" class=\"dataframe\">\n",
       "  <thead>\n",
       "    <tr style=\"text-align: right;\">\n",
       "      <th></th>\n",
       "      <th>n</th>\n",
       "      <th>start</th>\n",
       "      <th>stop</th>\n",
       "      <th>duration</th>\n",
       "    </tr>\n",
       "  </thead>\n",
       "  <tbody>\n",
       "    <tr>\n",
       "      <th>0</th>\n",
       "      <td>2</td>\n",
       "      <td>2017-01-01 06:01:15.394000000</td>\n",
       "      <td>2017-01-01 06:03:18.303615480</td>\n",
       "      <td>122.909615</td>\n",
       "    </tr>\n",
       "    <tr>\n",
       "      <th>1</th>\n",
       "      <td>3</td>\n",
       "      <td>2017-01-01 06:03:06.303615480</td>\n",
       "      <td>2017-01-01 06:03:44.504000000</td>\n",
       "      <td>38.200384</td>\n",
       "    </tr>\n",
       "  </tbody>\n",
       "</table>\n",
       "</div>"
      ],
      "text/plain": [
       "   n                         start                          stop    duration\n",
       "0  2 2017-01-01 06:01:15.394000000 2017-01-01 06:03:18.303615480  122.909615\n",
       "1  3 2017-01-01 06:03:06.303615480 2017-01-01 06:03:44.504000000   38.200384"
      ]
     },
     "execution_count": 14,
     "metadata": {},
     "output_type": "execute_result"
    }
   ],
   "source": [
    "plt_data_validity = pd.Interval(\n",
    "    data_take.left - pd.to_timedelta(const.PLATFORM_ANCILLARY_INITIAL_MARGIN, 's'),\n",
    "    data_take.right + pd.to_timedelta(const.PLATFORM_ANCILLARY_FINAL_MARGIN, 's'),\n",
    "    closed='both'\n",
    ")\n",
    "plt_slices = get_slices(orbits, plt_data_validity, SLICE_MIN_DURATION)\n",
    "plt_slices"
   ]
  },
  {
   "cell_type": "markdown",
   "id": "3341d206-2eff-4a82-8526-8198a330e740",
   "metadata": {},
   "source": [
    "#### Level 1 frames"
   ]
  },
  {
   "cell_type": "code",
   "execution_count": 15,
   "id": "b7c6542c-3dd0-4438-940c-bc39f9ed3065",
   "metadata": {},
   "outputs": [
    {
     "data": {
      "text/html": [
       "<div>\n",
       "<style scoped>\n",
       "    .dataframe tbody tr th:only-of-type {\n",
       "        vertical-align: middle;\n",
       "    }\n",
       "\n",
       "    .dataframe tbody tr th {\n",
       "        vertical-align: top;\n",
       "    }\n",
       "\n",
       "    .dataframe thead th {\n",
       "        text-align: right;\n",
       "    }\n",
       "</style>\n",
       "<table border=\"1\" class=\"dataframe\">\n",
       "  <thead>\n",
       "    <tr style=\"text-align: right;\">\n",
       "      <th></th>\n",
       "      <th>n</th>\n",
       "      <th>start</th>\n",
       "      <th>stop</th>\n",
       "      <th>duration</th>\n",
       "    </tr>\n",
       "  </thead>\n",
       "  <tbody>\n",
       "    <tr>\n",
       "      <th>0</th>\n",
       "      <td>6</td>\n",
       "      <td>2017-01-01 06:01:31.394000000</td>\n",
       "      <td>2017-01-01 06:01:57.290969288</td>\n",
       "      <td>25.896969</td>\n",
       "    </tr>\n",
       "    <tr>\n",
       "      <th>1</th>\n",
       "      <td>7</td>\n",
       "      <td>2017-01-01 06:01:55.290969288</td>\n",
       "      <td>2017-01-01 06:02:16.294130836</td>\n",
       "      <td>21.003161</td>\n",
       "    </tr>\n",
       "    <tr>\n",
       "      <th>2</th>\n",
       "      <td>8</td>\n",
       "      <td>2017-01-01 06:02:14.294130836</td>\n",
       "      <td>2017-01-01 06:02:35.297292384</td>\n",
       "      <td>21.003161</td>\n",
       "    </tr>\n",
       "    <tr>\n",
       "      <th>3</th>\n",
       "      <td>9</td>\n",
       "      <td>2017-01-01 06:02:33.297292384</td>\n",
       "      <td>2017-01-01 06:02:54.300453932</td>\n",
       "      <td>21.003161</td>\n",
       "    </tr>\n",
       "    <tr>\n",
       "      <th>4</th>\n",
       "      <td>10</td>\n",
       "      <td>2017-01-01 06:02:52.300453932</td>\n",
       "      <td>2017-01-01 06:03:13.303615480</td>\n",
       "      <td>21.003161</td>\n",
       "    </tr>\n",
       "    <tr>\n",
       "      <th>5</th>\n",
       "      <td>11</td>\n",
       "      <td>2017-01-01 06:03:11.303615480</td>\n",
       "      <td>2017-01-01 06:03:32.306777028</td>\n",
       "      <td>21.003161</td>\n",
       "    </tr>\n",
       "    <tr>\n",
       "      <th>6</th>\n",
       "      <td>12</td>\n",
       "      <td>2017-01-01 06:03:30.306777028</td>\n",
       "      <td>2017-01-01 06:03:44.504000000</td>\n",
       "      <td>14.197222</td>\n",
       "    </tr>\n",
       "  </tbody>\n",
       "</table>\n",
       "</div>"
      ],
      "text/plain": [
       "    n                         start                          stop   duration\n",
       "0   6 2017-01-01 06:01:31.394000000 2017-01-01 06:01:57.290969288  25.896969\n",
       "1   7 2017-01-01 06:01:55.290969288 2017-01-01 06:02:16.294130836  21.003161\n",
       "2   8 2017-01-01 06:02:14.294130836 2017-01-01 06:02:35.297292384  21.003161\n",
       "3   9 2017-01-01 06:02:33.297292384 2017-01-01 06:02:54.300453932  21.003161\n",
       "4  10 2017-01-01 06:02:52.300453932 2017-01-01 06:03:13.303615480  21.003161\n",
       "5  11 2017-01-01 06:03:11.303615480 2017-01-01 06:03:32.306777028  21.003161\n",
       "6  12 2017-01-01 06:03:30.306777028 2017-01-01 06:03:44.504000000  14.197222"
      ]
     },
     "execution_count": 15,
     "metadata": {},
     "output_type": "execute_result"
    }
   ],
   "source": [
    "frames = get_frames(orbits, data_take, FRAME_MIN_DURATION)\n",
    "frames"
   ]
  },
  {
   "cell_type": "markdown",
   "id": "c7597274-1e6b-45de-b3e5-2336ad9c7a3a",
   "metadata": {},
   "source": [
    "#### Additional data takes for stack"
   ]
  },
  {
   "cell_type": "markdown",
   "id": "41e39e42-dd93-4753-bffb-b91070b43dab",
   "metadata": {},
   "source": [
    "Select additional data takes having the same global coverage id, major cycle id, swath (sensor mode) and track:"
   ]
  },
  {
   "cell_type": "code",
   "execution_count": 16,
   "id": "8677b932-e5c9-4383-9503-afe1440d86fd",
   "metadata": {},
   "outputs": [
    {
     "data": {
      "text/html": [
       "<div>\n",
       "<style scoped>\n",
       "    .dataframe tbody tr th:only-of-type {\n",
       "        vertical-align: middle;\n",
       "    }\n",
       "\n",
       "    .dataframe tbody tr th {\n",
       "        vertical-align: top;\n",
       "    }\n",
       "\n",
       "    .dataframe thead th {\n",
       "        text-align: right;\n",
       "    }\n",
       "</style>\n",
       "<table border=\"1\" class=\"dataframe\">\n",
       "  <thead>\n",
       "    <tr style=\"text-align: right;\">\n",
       "      <th></th>\n",
       "      <th>Start</th>\n",
       "      <th>End</th>\n",
       "      <th>Duration</th>\n",
       "      <th>Satellite</th>\n",
       "      <th>SensorMode</th>\n",
       "      <th>Width</th>\n",
       "      <th>Length</th>\n",
       "      <th>SwathArea</th>\n",
       "      <th>Pass</th>\n",
       "      <th>NW_Lat</th>\n",
       "      <th>...</th>\n",
       "      <th>Orbit</th>\n",
       "      <th>Anx</th>\n",
       "      <th>AnxLon</th>\n",
       "      <th>TAnx</th>\n",
       "      <th>DTID</th>\n",
       "      <th>gcid</th>\n",
       "      <th>mcid</th>\n",
       "      <th>rcid</th>\n",
       "      <th>track</th>\n",
       "      <th>NextAnx</th>\n",
       "    </tr>\n",
       "  </thead>\n",
       "  <tbody>\n",
       "    <tr>\n",
       "      <th>0</th>\n",
       "      <td>2017-01-01 06:01:31.394</td>\n",
       "      <td>2017-01-01 06:03:44.504</td>\n",
       "      <td>133.110305</td>\n",
       "      <td>BIOMASS</td>\n",
       "      <td>Stripmap S1</td>\n",
       "      <td>53.961516</td>\n",
       "      <td>915.099690</td>\n",
       "      <td>49580.620718</td>\n",
       "      <td>ASCENDING</td>\n",
       "      <td>13.001162</td>\n",
       "      <td>...</td>\n",
       "      <td>1</td>\n",
       "      <td>2017-01-01 06:00:01.272</td>\n",
       "      <td>1.849826e-07</td>\n",
       "      <td>90.122152</td>\n",
       "      <td>8282</td>\n",
       "      <td>1</td>\n",
       "      <td>1</td>\n",
       "      <td>1</td>\n",
       "      <td>1</td>\n",
       "      <td>2017-01-01 07:38:12.217</td>\n",
       "    </tr>\n",
       "    <tr>\n",
       "      <th>203</th>\n",
       "      <td>2017-01-04 06:01:33.020</td>\n",
       "      <td>2017-01-04 06:03:46.097</td>\n",
       "      <td>133.076316</td>\n",
       "      <td>BIOMASS</td>\n",
       "      <td>Stripmap S1</td>\n",
       "      <td>53.961496</td>\n",
       "      <td>914.866109</td>\n",
       "      <td>49570.851246</td>\n",
       "      <td>ASCENDING</td>\n",
       "      <td>13.001108</td>\n",
       "      <td>...</td>\n",
       "      <td>45</td>\n",
       "      <td>2017-01-04 06:00:02.866</td>\n",
       "      <td>-6.647473e-03</td>\n",
       "      <td>90.154524</td>\n",
       "      <td>368730</td>\n",
       "      <td>1</td>\n",
       "      <td>1</td>\n",
       "      <td>2</td>\n",
       "      <td>1</td>\n",
       "      <td>2017-01-04 07:38:13.811</td>\n",
       "    </tr>\n",
       "    <tr>\n",
       "      <th>406</th>\n",
       "      <td>2017-01-07 06:01:34.646</td>\n",
       "      <td>2017-01-07 06:03:47.690</td>\n",
       "      <td>133.043820</td>\n",
       "      <td>BIOMASS</td>\n",
       "      <td>Stripmap S1</td>\n",
       "      <td>53.961496</td>\n",
       "      <td>914.642788</td>\n",
       "      <td>49558.247959</td>\n",
       "      <td>ASCENDING</td>\n",
       "      <td>13.001127</td>\n",
       "      <td>...</td>\n",
       "      <td>89</td>\n",
       "      <td>2017-01-07 06:00:04.459</td>\n",
       "      <td>-1.329131e-02</td>\n",
       "      <td>90.186905</td>\n",
       "      <td>729178</td>\n",
       "      <td>1</td>\n",
       "      <td>1</td>\n",
       "      <td>3</td>\n",
       "      <td>1</td>\n",
       "      <td>2017-01-07 07:38:15.404</td>\n",
       "    </tr>\n",
       "    <tr>\n",
       "      <th>609</th>\n",
       "      <td>2017-01-10 06:01:36.271</td>\n",
       "      <td>2017-01-10 06:03:49.285</td>\n",
       "      <td>133.013277</td>\n",
       "      <td>BIOMASS</td>\n",
       "      <td>Stripmap S1</td>\n",
       "      <td>53.961495</td>\n",
       "      <td>914.432883</td>\n",
       "      <td>49544.842820</td>\n",
       "      <td>ASCENDING</td>\n",
       "      <td>13.001220</td>\n",
       "      <td>...</td>\n",
       "      <td>133</td>\n",
       "      <td>2017-01-10 06:00:06.052</td>\n",
       "      <td>-1.992187e-02</td>\n",
       "      <td>90.219591</td>\n",
       "      <td>1089626</td>\n",
       "      <td>1</td>\n",
       "      <td>1</td>\n",
       "      <td>1</td>\n",
       "      <td>1</td>\n",
       "      <td>2017-01-10 07:38:16.997</td>\n",
       "    </tr>\n",
       "    <tr>\n",
       "      <th>812</th>\n",
       "      <td>2017-01-13 06:01:37.899</td>\n",
       "      <td>2017-01-13 06:03:50.878</td>\n",
       "      <td>132.979137</td>\n",
       "      <td>BIOMASS</td>\n",
       "      <td>Stripmap S1</td>\n",
       "      <td>53.961496</td>\n",
       "      <td>914.198236</td>\n",
       "      <td>49534.279940</td>\n",
       "      <td>ASCENDING</td>\n",
       "      <td>13.001225</td>\n",
       "      <td>...</td>\n",
       "      <td>177</td>\n",
       "      <td>2017-01-13 06:00:07.646</td>\n",
       "      <td>-2.657767e-02</td>\n",
       "      <td>90.252429</td>\n",
       "      <td>1450074</td>\n",
       "      <td>1</td>\n",
       "      <td>1</td>\n",
       "      <td>2</td>\n",
       "      <td>1</td>\n",
       "      <td>2017-01-13 07:38:18.591</td>\n",
       "    </tr>\n",
       "    <tr>\n",
       "      <th>1015</th>\n",
       "      <td>2017-01-16 06:01:39.523</td>\n",
       "      <td>2017-01-16 06:03:52.470</td>\n",
       "      <td>132.946797</td>\n",
       "      <td>BIOMASS</td>\n",
       "      <td>Stripmap S1</td>\n",
       "      <td>53.975102</td>\n",
       "      <td>913.975943</td>\n",
       "      <td>49519.171485</td>\n",
       "      <td>ASCENDING</td>\n",
       "      <td>13.001162</td>\n",
       "      <td>...</td>\n",
       "      <td>221</td>\n",
       "      <td>2017-01-16 06:00:09.237</td>\n",
       "      <td>-3.319050e-02</td>\n",
       "      <td>90.285979</td>\n",
       "      <td>1810522</td>\n",
       "      <td>1</td>\n",
       "      <td>1</td>\n",
       "      <td>3</td>\n",
       "      <td>1</td>\n",
       "      <td>2017-01-16 07:38:20.182</td>\n",
       "    </tr>\n",
       "    <tr>\n",
       "      <th>1218</th>\n",
       "      <td>2017-01-19 06:01:41.149</td>\n",
       "      <td>2017-01-19 06:03:54.064</td>\n",
       "      <td>132.914460</td>\n",
       "      <td>BIOMASS</td>\n",
       "      <td>Stripmap S1</td>\n",
       "      <td>53.975102</td>\n",
       "      <td>913.753669</td>\n",
       "      <td>49508.257056</td>\n",
       "      <td>ASCENDING</td>\n",
       "      <td>13.001202</td>\n",
       "      <td>...</td>\n",
       "      <td>265</td>\n",
       "      <td>2017-01-19 06:00:10.831</td>\n",
       "      <td>-3.983360e-02</td>\n",
       "      <td>90.318618</td>\n",
       "      <td>2170970</td>\n",
       "      <td>1</td>\n",
       "      <td>1</td>\n",
       "      <td>1</td>\n",
       "      <td>1</td>\n",
       "      <td>2017-01-19 07:38:21.776</td>\n",
       "    </tr>\n",
       "  </tbody>\n",
       "</table>\n",
       "<p>7 rows × 27 columns</p>\n",
       "</div>"
      ],
      "text/plain": [
       "                       Start                     End    Duration Satellite  \\\n",
       "0    2017-01-01 06:01:31.394 2017-01-01 06:03:44.504  133.110305   BIOMASS   \n",
       "203  2017-01-04 06:01:33.020 2017-01-04 06:03:46.097  133.076316   BIOMASS   \n",
       "406  2017-01-07 06:01:34.646 2017-01-07 06:03:47.690  133.043820   BIOMASS   \n",
       "609  2017-01-10 06:01:36.271 2017-01-10 06:03:49.285  133.013277   BIOMASS   \n",
       "812  2017-01-13 06:01:37.899 2017-01-13 06:03:50.878  132.979137   BIOMASS   \n",
       "1015 2017-01-16 06:01:39.523 2017-01-16 06:03:52.470  132.946797   BIOMASS   \n",
       "1218 2017-01-19 06:01:41.149 2017-01-19 06:03:54.064  132.914460   BIOMASS   \n",
       "\n",
       "       SensorMode      Width      Length     SwathArea       Pass     NW_Lat  \\\n",
       "0     Stripmap S1  53.961516  915.099690  49580.620718  ASCENDING  13.001162   \n",
       "203   Stripmap S1  53.961496  914.866109  49570.851246  ASCENDING  13.001108   \n",
       "406   Stripmap S1  53.961496  914.642788  49558.247959  ASCENDING  13.001127   \n",
       "609   Stripmap S1  53.961495  914.432883  49544.842820  ASCENDING  13.001220   \n",
       "812   Stripmap S1  53.961496  914.198236  49534.279940  ASCENDING  13.001225   \n",
       "1015  Stripmap S1  53.975102  913.975943  49519.171485  ASCENDING  13.001162   \n",
       "1218  Stripmap S1  53.975102  913.753669  49508.257056  ASCENDING  13.001202   \n",
       "\n",
       "      ...  Orbit                     Anx        AnxLon       TAnx     DTID  \\\n",
       "0     ...      1 2017-01-01 06:00:01.272  1.849826e-07  90.122152     8282   \n",
       "203   ...     45 2017-01-04 06:00:02.866 -6.647473e-03  90.154524   368730   \n",
       "406   ...     89 2017-01-07 06:00:04.459 -1.329131e-02  90.186905   729178   \n",
       "609   ...    133 2017-01-10 06:00:06.052 -1.992187e-02  90.219591  1089626   \n",
       "812   ...    177 2017-01-13 06:00:07.646 -2.657767e-02  90.252429  1450074   \n",
       "1015  ...    221 2017-01-16 06:00:09.237 -3.319050e-02  90.285979  1810522   \n",
       "1218  ...    265 2017-01-19 06:00:10.831 -3.983360e-02  90.318618  2170970   \n",
       "\n",
       "      gcid  mcid  rcid track                 NextAnx  \n",
       "0        1     1     1     1 2017-01-01 07:38:12.217  \n",
       "203      1     1     2     1 2017-01-04 07:38:13.811  \n",
       "406      1     1     3     1 2017-01-07 07:38:15.404  \n",
       "609      1     1     1     1 2017-01-10 07:38:16.997  \n",
       "812      1     1     2     1 2017-01-13 07:38:18.591  \n",
       "1015     1     1     3     1 2017-01-16 07:38:20.182  \n",
       "1218     1     1     1     1 2017-01-19 07:38:21.776  \n",
       "\n",
       "[7 rows x 27 columns]"
      ]
     },
     "execution_count": 16,
     "metadata": {},
     "output_type": "execute_result"
    }
   ],
   "source": [
    "def overlap(data_take_start, data_take_stop, orbit_start, orbit_stop, frame_numbers):\n",
    "    data_take = pd.Interval(data_take_start, data_take_stop, closed='both')\n",
    "    frame_grid = FrameGrid(orbit_start, orbit_stop)\n",
    "    for frame_number in frame_numbers:\n",
    "        overlap = frame_grid.interval(frame_number).overlaps(data_take)\n",
    "        if overlap is False:\n",
    "            return False\n",
    "    return True\n",
    "\n",
    "sensor_mode = simulation.loc[acq_idx]['SensorMode']\n",
    "track = simulation.loc[acq_idx]['track']\n",
    "result = simulation.query(\"gcid == @gcid and mcid == @mcid and SensorMode == @sensor_mode and track == @track\")\n",
    "# Select only data takes having overlaps with frame numbers selected above\n",
    "idx = result.apply(\n",
    "    lambda r: overlap(r['Start'], r['End'], r['Anx'], r['NextAnx'], frames['n']),\n",
    "    axis=1\n",
    ")\n",
    "result[idx]"
   ]
  },
  {
   "cell_type": "code",
   "execution_count": 17,
   "id": "073edeb6-5a35-4d8b-bd0c-957331512011",
   "metadata": {},
   "outputs": [
    {
     "data": {
      "text/plain": [
       "[0, 203, 406, 609, 812, 1015, 1218]"
      ]
     },
     "execution_count": 17,
     "metadata": {},
     "output_type": "execute_result"
    }
   ],
   "source": [
    "idxs = list(result[idx].index.to_numpy())\n",
    "idxs"
   ]
  },
  {
   "cell_type": "markdown",
   "id": "af8a8e0b-3578-4951-a4f3-bca7b407d90e",
   "metadata": {},
   "source": [
    "#### Raw Data generation"
   ]
  },
  {
   "cell_type": "markdown",
   "id": "e95df0f6-8b93-427c-800c-62ef7e95e007",
   "metadata": {},
   "source": [
    "Scenario generation"
   ]
  },
  {
   "cell_type": "code",
   "execution_count": 18,
   "id": "f9bb753c-6904-4505-aa37-4f313c9ea6e8",
   "metadata": {},
   "outputs": [],
   "source": [
    "config = {\n",
    "    'mission': 'biomass',\n",
    "    'scenarios': [raw_generation_scenario('TOM_TDS', simulation, idx, 'MM') for idx in idxs]\n",
    "}\n",
    "with open('tom-tds-raw-gen-scenarios.json', 'w') as fh:\n",
    "    json.dump(config, fh, indent=2)"
   ]
  },
  {
   "cell_type": "markdown",
   "id": "6999c4b6-38b6-49ff-bb9a-977bed797f6e",
   "metadata": {},
   "source": [
    "#### Level 0"
   ]
  },
  {
   "cell_type": "markdown",
   "id": "6eb0f81c-be03-4faa-9074-7f8805431144",
   "metadata": {},
   "source": [
    "Scenario generation"
   ]
  },
  {
   "cell_type": "code",
   "execution_count": 19,
   "id": "e9718a81-7d9c-4187-b644-973d00a934a4",
   "metadata": {},
   "outputs": [],
   "source": [
    "config = {\n",
    "    'mission': 'biomass',\n",
    "    'scenarios': []\n",
    "}\n",
    "for idx in idxs:\n",
    "    config['scenarios'].extend(l0pfs1_processing_scenarios('TOM_TDS', simulation, idx, 'MM', 'TOMOGRAPHIC'))\n",
    "    config['scenarios'].append(l0pfs2_processing_scenario('TOM_TDS', simulation, idx, 'MM', 'TOMOGRAPHIC'))\n",
    "    config['scenarios'].append(l0pfs3_processing_scenario('TOM_TDS', simulation, idx, 'MM', 'TOMOGRAPHIC'))\n",
    "    config['scenarios'].append(l0pfs4_processing_scenario('TOM_TDS', simulation, idx, 'MM', 'TOMOGRAPHIC'))\n",
    "    config['scenarios'].append(oapf_processing_scenario('TOM_TDS', simulation, idx, 'MM', 'TOMOGRAPHIC'))\n",
    "with open('tom-tds-l0-scenarios.json', 'w') as fh:\n",
    "    json.dump(config, fh, indent=2)"
   ]
  },
  {
   "cell_type": "markdown",
   "id": "f700697c-5ea5-44f6-ad92-ad14205864f1",
   "metadata": {},
   "source": [
    "#### Level 1a/b"
   ]
  },
  {
   "cell_type": "code",
   "execution_count": 20,
   "id": "ff6aa718-224a-4673-be08-188a6f03bbb9",
   "metadata": {},
   "outputs": [],
   "source": [
    "config = {\n",
    "    'mission': 'biomass',\n",
    "    'scenarios': []\n",
    "}\n",
    "for idx in idxs:\n",
    "    config['scenarios'].extend(l1_processing_scenarios('TOM_TDS', simulation, idx, 'TOMOGRAPHIC'))\n",
    "with open('tom-tds-l1-scenarios.json', 'w') as fh:\n",
    "    json.dump(config, fh, indent=2)"
   ]
  },
  {
   "cell_type": "markdown",
   "id": "263b39a1-e429-44fd-a198-e083dda66aac",
   "metadata": {},
   "source": [
    "#### Level 1c "
   ]
  },
  {
   "cell_type": "code",
   "execution_count": 21,
   "id": "a751b6fb-74cd-4f71-ba32-e9528dd1108d",
   "metadata": {},
   "outputs": [],
   "source": [
    "config = {\n",
    "    'mission': 'biomass',\n",
    "    'scenarios': []\n",
    "}\n",
    "for idx in idxs:\n",
    "    config['scenarios'].extend(l1c_processing_scenarios('TOM_TDS', simulation, idx, 'TOMOGRAPHIC'))\n",
    "with open('tom-tds-l1c-l2a-scenarios.json', 'w') as fh:\n",
    "    json.dump(config, fh, indent=2)"
   ]
  },
  {
   "cell_type": "markdown",
   "id": "f3b5b86f-1040-4654-b2e1-58c0ee87c535",
   "metadata": {},
   "source": [
    "### RO scenario"
   ]
  },
  {
   "cell_type": "markdown",
   "id": "88ae0b12-5986-4427-946a-852c9fcafab2",
   "metadata": {},
   "source": [
    "#### Data Take selection"
   ]
  },
  {
   "cell_type": "code",
   "execution_count": 22,
   "id": "cb875557-e47b-48d2-8929-98ef9700c1f2",
   "metadata": {},
   "outputs": [
    {
     "data": {
      "text/html": [
       "<div>\n",
       "<style scoped>\n",
       "    .dataframe tbody tr th:only-of-type {\n",
       "        vertical-align: middle;\n",
       "    }\n",
       "\n",
       "    .dataframe tbody tr th {\n",
       "        vertical-align: top;\n",
       "    }\n",
       "\n",
       "    .dataframe thead th {\n",
       "        text-align: right;\n",
       "    }\n",
       "</style>\n",
       "<table border=\"1\" class=\"dataframe\">\n",
       "  <thead>\n",
       "    <tr style=\"text-align: right;\">\n",
       "      <th></th>\n",
       "      <th>Anx</th>\n",
       "      <th>Start</th>\n",
       "      <th>End</th>\n",
       "      <th>NextAnx</th>\n",
       "      <th>Duration</th>\n",
       "      <th>gcid</th>\n",
       "      <th>mcid</th>\n",
       "      <th>rcid</th>\n",
       "      <th>Orbit</th>\n",
       "      <th>track</th>\n",
       "    </tr>\n",
       "  </thead>\n",
       "  <tbody>\n",
       "    <tr>\n",
       "      <th>14804</th>\n",
       "      <td>2017-10-18 15:37:54.823</td>\n",
       "      <td>2017-10-18 16:10:38.205</td>\n",
       "      <td>2017-10-18 16:12:55.049</td>\n",
       "      <td>2017-10-18 17:16:05.768</td>\n",
       "      <td>136.843692</td>\n",
       "      <td>2</td>\n",
       "      <td>2</td>\n",
       "      <td>1</td>\n",
       "      <td>4260</td>\n",
       "      <td>36</td>\n",
       "    </tr>\n",
       "    <tr>\n",
       "      <th>15006</th>\n",
       "      <td>2017-10-21 15:37:56.417</td>\n",
       "      <td>2017-10-21 16:10:39.347</td>\n",
       "      <td>2017-10-21 16:12:56.870</td>\n",
       "      <td>2017-10-21 17:16:07.362</td>\n",
       "      <td>137.523319</td>\n",
       "      <td>2</td>\n",
       "      <td>2</td>\n",
       "      <td>2</td>\n",
       "      <td>4304</td>\n",
       "      <td>36</td>\n",
       "    </tr>\n",
       "    <tr>\n",
       "      <th>15208</th>\n",
       "      <td>2017-10-24 15:37:58.009</td>\n",
       "      <td>2017-10-24 16:10:40.491</td>\n",
       "      <td>2017-10-24 16:12:58.691</td>\n",
       "      <td>2017-10-24 17:16:08.954</td>\n",
       "      <td>138.200432</td>\n",
       "      <td>2</td>\n",
       "      <td>2</td>\n",
       "      <td>3</td>\n",
       "      <td>4348</td>\n",
       "      <td>36</td>\n",
       "    </tr>\n",
       "    <tr>\n",
       "      <th>15410</th>\n",
       "      <td>2017-10-27 15:37:59.603</td>\n",
       "      <td>2017-10-27 16:10:41.636</td>\n",
       "      <td>2017-10-27 16:13:00.506</td>\n",
       "      <td>2017-10-27 17:16:10.548</td>\n",
       "      <td>138.869413</td>\n",
       "      <td>2</td>\n",
       "      <td>2</td>\n",
       "      <td>0</td>\n",
       "      <td>4392</td>\n",
       "      <td>0</td>\n",
       "    </tr>\n",
       "    <tr>\n",
       "      <th>15612</th>\n",
       "      <td>2017-10-30 15:38:01.195</td>\n",
       "      <td>2017-10-30 16:10:42.782</td>\n",
       "      <td>2017-10-30 16:13:02.326</td>\n",
       "      <td>2017-10-30 17:16:12.140</td>\n",
       "      <td>139.544101</td>\n",
       "      <td>2</td>\n",
       "      <td>2</td>\n",
       "      <td>0</td>\n",
       "      <td>4436</td>\n",
       "      <td>0</td>\n",
       "    </tr>\n",
       "  </tbody>\n",
       "</table>\n",
       "</div>"
      ],
      "text/plain": [
       "                          Anx                   Start                     End  \\\n",
       "14804 2017-10-18 15:37:54.823 2017-10-18 16:10:38.205 2017-10-18 16:12:55.049   \n",
       "15006 2017-10-21 15:37:56.417 2017-10-21 16:10:39.347 2017-10-21 16:12:56.870   \n",
       "15208 2017-10-24 15:37:58.009 2017-10-24 16:10:40.491 2017-10-24 16:12:58.691   \n",
       "15410 2017-10-27 15:37:59.603 2017-10-27 16:10:41.636 2017-10-27 16:13:00.506   \n",
       "15612 2017-10-30 15:38:01.195 2017-10-30 16:10:42.782 2017-10-30 16:13:02.326   \n",
       "\n",
       "                      NextAnx    Duration  gcid  mcid  rcid  Orbit  track  \n",
       "14804 2017-10-18 17:16:05.768  136.843692     2     2     1   4260     36  \n",
       "15006 2017-10-21 17:16:07.362  137.523319     2     2     2   4304     36  \n",
       "15208 2017-10-24 17:16:08.954  138.200432     2     2     3   4348     36  \n",
       "15410 2017-10-27 17:16:10.548  138.869413     2     2     0   4392      0  \n",
       "15612 2017-10-30 17:16:12.140  139.544101     2     2     0   4436      0  "
      ]
     },
     "execution_count": 22,
     "metadata": {},
     "output_type": "execute_result"
    }
   ],
   "source": [
    "columns = ['Anx', 'Start', 'End', 'NextAnx', 'Duration', 'gcid', 'mcid', 'rcid', 'Orbit', 'track']\n",
    "simulation.query(\"SensorMode == 'Receive Only' and 100 < Duration < 150\")[columns].head()"
   ]
  },
  {
   "cell_type": "markdown",
   "id": "b977f3ca-4472-4b10-a437-1c87096d39df",
   "metadata": {},
   "source": [
    "ID of selected acquisition: 14484"
   ]
  },
  {
   "cell_type": "code",
   "execution_count": 23,
   "id": "4e9bfcc1-524e-42e1-890c-c0c0222372d7",
   "metadata": {},
   "outputs": [],
   "source": [
    "acq_idx = 14804"
   ]
  },
  {
   "cell_type": "code",
   "execution_count": 24,
   "id": "55d9e048-0135-4975-9448-4d38d8e2afaf",
   "metadata": {},
   "outputs": [
    {
     "data": {
      "text/plain": [
       "Interval('2017-10-18 16:10:38.205000', '2017-10-18 16:12:55.049000', closed='both')"
      ]
     },
     "execution_count": 24,
     "metadata": {},
     "output_type": "execute_result"
    }
   ],
   "source": [
    "data_take = pd.Interval(simulation.loc[acq_idx, 'Start'], simulation.loc[acq_idx, 'End'], closed='both')\n",
    "data_take"
   ]
  },
  {
   "cell_type": "code",
   "execution_count": 25,
   "id": "b6423667-da4f-4128-9100-4c0f1f0f3320",
   "metadata": {},
   "outputs": [
    {
     "data": {
      "text/plain": [
       "34899883"
      ]
     },
     "execution_count": 25,
     "metadata": {},
     "output_type": "execute_result"
    }
   ],
   "source": [
    "dtid = simulation.loc[acq_idx, 'DTID']\n",
    "dtid"
   ]
  },
  {
   "cell_type": "markdown",
   "id": "e7fe990c-4d67-41ec-b6e8-c5de3f84cb9f",
   "metadata": {},
   "source": [
    "#### Swath"
   ]
  },
  {
   "cell_type": "code",
   "execution_count": 26,
   "id": "d3cbd548-a1ae-4b3a-832d-c89b93df0fde",
   "metadata": {},
   "outputs": [],
   "source": [
    "swath_id = 'RO'"
   ]
  },
  {
   "cell_type": "markdown",
   "id": "82424437-2db2-422b-9602-cf5b5e923d9f",
   "metadata": {},
   "source": [
    "#### Global coverage id, major cycle id, repeat cycle id, drift flag, orbit and track"
   ]
  },
  {
   "cell_type": "code",
   "execution_count": 27,
   "id": "cc97b1e1-44fe-4c20-8be6-45594ea315a1",
   "metadata": {
    "tags": []
   },
   "outputs": [],
   "source": [
    "gcid = simulation.loc[acq_idx]['gcid']\n",
    "mcid = simulation.loc[acq_idx]['mcid']\n",
    "rcid = simulation.loc[acq_idx]['rcid']\n",
    "track = simulation.loc[acq_idx]['track']"
   ]
  },
  {
   "cell_type": "code",
   "execution_count": 28,
   "id": "c1b3104f-09cc-48c0-846e-5c91921a0fac",
   "metadata": {},
   "outputs": [],
   "source": [
    "dt_polygon = simulation.loc[acq_idx, ['NW_Lat', 'NW_Lon', 'NE_Lat', 'NE_Lon', 'SE_Lat', 'SE_Lon', 'SW_Lat', 'SW_Lon', 'NW_Lat', 'NW_Lon']].to_numpy()\n",
    "\n",
    "footprint_polygon = ' '.join(dt_polygon.astype(str))"
   ]
  },
  {
   "cell_type": "markdown",
   "id": "162363c5-b4cf-4f02-a813-7016770eef29",
   "metadata": {},
   "source": [
    "#### Acquisition"
   ]
  },
  {
   "cell_type": "markdown",
   "id": "efcbb501-6b0c-4e75-86a8-dc7a5ab00928",
   "metadata": {},
   "source": [
    "Acquisition date is set to 30 minutes after data take stop"
   ]
  },
  {
   "cell_type": "code",
   "execution_count": 29,
   "id": "84bde67b-3795-4915-9c0a-0618a07c3836",
   "metadata": {},
   "outputs": [
    {
     "data": {
      "text/plain": [
       "Timestamp('2017-10-18 16:42:55.049000')"
      ]
     },
     "execution_count": 29,
     "metadata": {},
     "output_type": "execute_result"
    }
   ],
   "source": [
    "acquisition_date = data_take.right + pd.to_timedelta(30, 'm')\n",
    "acquisition_station = 'SV'  # Svalbard\n",
    "acquisition_date # start"
   ]
  },
  {
   "cell_type": "markdown",
   "id": "da039455-c7a2-45dd-a686-f6f2cd0ca3c0",
   "metadata": {},
   "source": [
    "#### Affected Orbits"
   ]
  },
  {
   "cell_type": "code",
   "execution_count": 30,
   "id": "d6ad7fa5-25b0-4046-98b5-ec68524a5941",
   "metadata": {},
   "outputs": [
    {
     "data": {
      "text/plain": [
       "[Interval('2017-10-18 15:37:54.823000', '2017-10-18 17:16:05.768000', closed='both')]"
      ]
     },
     "execution_count": 30,
     "metadata": {},
     "output_type": "execute_result"
    }
   ],
   "source": [
    "orbits = get_orbits(simulation, acq_idx)\n",
    "orbits"
   ]
  },
  {
   "cell_type": "markdown",
   "id": "ccdbc013-3e04-452e-838e-124cc4111569",
   "metadata": {},
   "source": [
    "#### Level 0 slices"
   ]
  },
  {
   "cell_type": "code",
   "execution_count": 31,
   "id": "2d0abb57-8e39-4cd6-b41b-064676fba0e7",
   "metadata": {},
   "outputs": [
    {
     "data": {
      "text/html": [
       "<div>\n",
       "<style scoped>\n",
       "    .dataframe tbody tr th:only-of-type {\n",
       "        vertical-align: middle;\n",
       "    }\n",
       "\n",
       "    .dataframe tbody tr th {\n",
       "        vertical-align: top;\n",
       "    }\n",
       "\n",
       "    .dataframe thead th {\n",
       "        text-align: right;\n",
       "    }\n",
       "</style>\n",
       "<table border=\"1\" class=\"dataframe\">\n",
       "  <thead>\n",
       "    <tr style=\"text-align: right;\">\n",
       "      <th></th>\n",
       "      <th>n</th>\n",
       "      <th>start</th>\n",
       "      <th>stop</th>\n",
       "      <th>duration</th>\n",
       "    </tr>\n",
       "  </thead>\n",
       "  <tbody>\n",
       "    <tr>\n",
       "      <th>0</th>\n",
       "      <td>21</td>\n",
       "      <td>2017-10-18 16:10:38.205000000</td>\n",
       "      <td>2017-10-18 16:11:17.154962540</td>\n",
       "      <td>38.949962</td>\n",
       "    </tr>\n",
       "    <tr>\n",
       "      <th>1</th>\n",
       "      <td>22</td>\n",
       "      <td>2017-10-18 16:11:05.154962540</td>\n",
       "      <td>2017-10-18 16:12:55.049000000</td>\n",
       "      <td>109.894037</td>\n",
       "    </tr>\n",
       "  </tbody>\n",
       "</table>\n",
       "</div>"
      ],
      "text/plain": [
       "    n                         start                          stop    duration\n",
       "0  21 2017-10-18 16:10:38.205000000 2017-10-18 16:11:17.154962540   38.949962\n",
       "1  22 2017-10-18 16:11:05.154962540 2017-10-18 16:12:55.049000000  109.894037"
      ]
     },
     "execution_count": 31,
     "metadata": {},
     "output_type": "execute_result"
    }
   ],
   "source": [
    "slices = get_slices(orbits, data_take, SLICE_MIN_DURATION)\n",
    "slices"
   ]
  },
  {
   "cell_type": "markdown",
   "id": "cade3d38-0d23-4f91-a8cd-a7d2bc6a0409",
   "metadata": {},
   "source": [
    "In case of platform ancillary data, validity starts 16 seconds before data take start:"
   ]
  },
  {
   "cell_type": "code",
   "execution_count": 32,
   "id": "edd9d4c8-baba-41e9-aa49-19bb0e37cc23",
   "metadata": {},
   "outputs": [
    {
     "data": {
      "text/html": [
       "<div>\n",
       "<style scoped>\n",
       "    .dataframe tbody tr th:only-of-type {\n",
       "        vertical-align: middle;\n",
       "    }\n",
       "\n",
       "    .dataframe tbody tr th {\n",
       "        vertical-align: top;\n",
       "    }\n",
       "\n",
       "    .dataframe thead th {\n",
       "        text-align: right;\n",
       "    }\n",
       "</style>\n",
       "<table border=\"1\" class=\"dataframe\">\n",
       "  <thead>\n",
       "    <tr style=\"text-align: right;\">\n",
       "      <th></th>\n",
       "      <th>n</th>\n",
       "      <th>start</th>\n",
       "      <th>stop</th>\n",
       "      <th>duration</th>\n",
       "    </tr>\n",
       "  </thead>\n",
       "  <tbody>\n",
       "    <tr>\n",
       "      <th>0</th>\n",
       "      <td>21</td>\n",
       "      <td>2017-10-18 16:10:22.205000000</td>\n",
       "      <td>2017-10-18 16:11:17.154962540</td>\n",
       "      <td>54.949962</td>\n",
       "    </tr>\n",
       "    <tr>\n",
       "      <th>1</th>\n",
       "      <td>22</td>\n",
       "      <td>2017-10-18 16:11:05.154962540</td>\n",
       "      <td>2017-10-18 16:12:55.049000000</td>\n",
       "      <td>109.894037</td>\n",
       "    </tr>\n",
       "  </tbody>\n",
       "</table>\n",
       "</div>"
      ],
      "text/plain": [
       "    n                         start                          stop    duration\n",
       "0  21 2017-10-18 16:10:22.205000000 2017-10-18 16:11:17.154962540   54.949962\n",
       "1  22 2017-10-18 16:11:05.154962540 2017-10-18 16:12:55.049000000  109.894037"
      ]
     },
     "execution_count": 32,
     "metadata": {},
     "output_type": "execute_result"
    }
   ],
   "source": [
    "plt_data_validity = pd.Interval(\n",
    "    data_take.left - pd.to_timedelta(const.PLATFORM_ANCILLARY_INITIAL_MARGIN, 's'),\n",
    "    data_take.right + pd.to_timedelta(const.PLATFORM_ANCILLARY_FINAL_MARGIN, 's'),\n",
    "    closed='both'\n",
    ")\n",
    "plt_slices = get_slices(orbits, plt_data_validity, SLICE_MIN_DURATION)\n",
    "plt_slices"
   ]
  },
  {
   "cell_type": "markdown",
   "id": "8702ce98-9208-4924-afcd-36c835277325",
   "metadata": {},
   "source": [
    "#### Level 1 frames"
   ]
  },
  {
   "cell_type": "code",
   "execution_count": 33,
   "id": "0b381446-b033-47b1-899d-613445a6d728",
   "metadata": {},
   "outputs": [
    {
     "data": {
      "text/html": [
       "<div>\n",
       "<style scoped>\n",
       "    .dataframe tbody tr th:only-of-type {\n",
       "        vertical-align: middle;\n",
       "    }\n",
       "\n",
       "    .dataframe tbody tr th {\n",
       "        vertical-align: top;\n",
       "    }\n",
       "\n",
       "    .dataframe thead th {\n",
       "        text-align: right;\n",
       "    }\n",
       "</style>\n",
       "<table border=\"1\" class=\"dataframe\">\n",
       "  <thead>\n",
       "    <tr style=\"text-align: right;\">\n",
       "      <th></th>\n",
       "      <th>n</th>\n",
       "      <th>start</th>\n",
       "      <th>stop</th>\n",
       "      <th>duration</th>\n",
       "    </tr>\n",
       "  </thead>\n",
       "  <tbody>\n",
       "    <tr>\n",
       "      <th>0</th>\n",
       "      <td>104</td>\n",
       "      <td>2017-10-18 16:10:38.205000000</td>\n",
       "      <td>2017-10-18 16:10:53.151800992</td>\n",
       "      <td>14.946800</td>\n",
       "    </tr>\n",
       "    <tr>\n",
       "      <th>1</th>\n",
       "      <td>105</td>\n",
       "      <td>2017-10-18 16:10:51.151800992</td>\n",
       "      <td>2017-10-18 16:11:12.154962540</td>\n",
       "      <td>21.003161</td>\n",
       "    </tr>\n",
       "    <tr>\n",
       "      <th>2</th>\n",
       "      <td>106</td>\n",
       "      <td>2017-10-18 16:11:10.154962540</td>\n",
       "      <td>2017-10-18 16:11:31.158124088</td>\n",
       "      <td>21.003161</td>\n",
       "    </tr>\n",
       "    <tr>\n",
       "      <th>3</th>\n",
       "      <td>107</td>\n",
       "      <td>2017-10-18 16:11:29.158124088</td>\n",
       "      <td>2017-10-18 16:11:50.161285636</td>\n",
       "      <td>21.003161</td>\n",
       "    </tr>\n",
       "    <tr>\n",
       "      <th>4</th>\n",
       "      <td>108</td>\n",
       "      <td>2017-10-18 16:11:48.161285636</td>\n",
       "      <td>2017-10-18 16:12:09.164447184</td>\n",
       "      <td>21.003161</td>\n",
       "    </tr>\n",
       "    <tr>\n",
       "      <th>5</th>\n",
       "      <td>109</td>\n",
       "      <td>2017-10-18 16:12:07.164447184</td>\n",
       "      <td>2017-10-18 16:12:28.167608732</td>\n",
       "      <td>21.003161</td>\n",
       "    </tr>\n",
       "    <tr>\n",
       "      <th>6</th>\n",
       "      <td>110</td>\n",
       "      <td>2017-10-18 16:12:26.167608732</td>\n",
       "      <td>2017-10-18 16:12:47.170770280</td>\n",
       "      <td>21.003161</td>\n",
       "    </tr>\n",
       "    <tr>\n",
       "      <th>7</th>\n",
       "      <td>111</td>\n",
       "      <td>2017-10-18 16:12:45.170770280</td>\n",
       "      <td>2017-10-18 16:12:55.049000000</td>\n",
       "      <td>9.878229</td>\n",
       "    </tr>\n",
       "  </tbody>\n",
       "</table>\n",
       "</div>"
      ],
      "text/plain": [
       "     n                         start                          stop   duration\n",
       "0  104 2017-10-18 16:10:38.205000000 2017-10-18 16:10:53.151800992  14.946800\n",
       "1  105 2017-10-18 16:10:51.151800992 2017-10-18 16:11:12.154962540  21.003161\n",
       "2  106 2017-10-18 16:11:10.154962540 2017-10-18 16:11:31.158124088  21.003161\n",
       "3  107 2017-10-18 16:11:29.158124088 2017-10-18 16:11:50.161285636  21.003161\n",
       "4  108 2017-10-18 16:11:48.161285636 2017-10-18 16:12:09.164447184  21.003161\n",
       "5  109 2017-10-18 16:12:07.164447184 2017-10-18 16:12:28.167608732  21.003161\n",
       "6  110 2017-10-18 16:12:26.167608732 2017-10-18 16:12:47.170770280  21.003161\n",
       "7  111 2017-10-18 16:12:45.170770280 2017-10-18 16:12:55.049000000   9.878229"
      ]
     },
     "execution_count": 33,
     "metadata": {},
     "output_type": "execute_result"
    }
   ],
   "source": [
    "frames = get_frames(orbits, data_take, FRAME_MIN_DURATION)\n",
    "frames"
   ]
  },
  {
   "cell_type": "markdown",
   "id": "03b68a67-9ce2-4f93-9b00-0a4163c08e40",
   "metadata": {},
   "source": [
    "#### Raw Data generation"
   ]
  },
  {
   "cell_type": "markdown",
   "id": "48a16bdf-853b-4f83-a98f-9691b0dd1946",
   "metadata": {},
   "source": [
    "Scenario generation"
   ]
  },
  {
   "cell_type": "code",
   "execution_count": 34,
   "id": "a6b8fadb-4be9-4bb2-aa80-0e908da4e4f5",
   "metadata": {},
   "outputs": [],
   "source": [
    "with open('tom-tds-raw-gen-scenarios.json') as fh:\n",
    "    config = json.load(fh)\n",
    "\n",
    "config['scenarios'].append(raw_generation_scenario('TOM_TDS', simulation, acq_idx, 'RO'))\n",
    "\n",
    "with open('tom-tds-raw-gen-scenarios.json', 'w') as fh:\n",
    "    json.dump(config, fh, indent=2)"
   ]
  },
  {
   "cell_type": "markdown",
   "id": "ed41a17b-c215-45b7-99c8-77a776f339be",
   "metadata": {},
   "source": [
    "#### Level 0"
   ]
  },
  {
   "cell_type": "markdown",
   "id": "5f10daff-0e00-4541-8303-27990d9ad35a",
   "metadata": {},
   "source": [
    "Scenario generation"
   ]
  },
  {
   "cell_type": "code",
   "execution_count": 35,
   "id": "5176a1d2-20d7-4fa0-b0d5-399ce37b8fb3",
   "metadata": {},
   "outputs": [],
   "source": [
    "with open('tom-tds-l0-scenarios.json') as fh:\n",
    "    config = json.load(fh)\n",
    "\n",
    "config['scenarios'].extend(l0pfs1_processing_scenarios('TOM_TDS', simulation, acq_idx, 'RO', 'TOMOGRAPHIC'))\n",
    "config['scenarios'].append(l0pfs2_processing_scenario('TOM_TDS', simulation, acq_idx, 'RO', 'TOMOGRAPHIC'))\n",
    "config['scenarios'].append(l0pfs4_processing_scenario('TOM_TDS', simulation, acq_idx, 'RO', 'TOMOGRAPHIC'))\n",
    "config['scenarios'].append(oapf_processing_scenario('TOM_TDS', simulation, acq_idx, 'RO', 'TOMOGRAPHIC'))\n",
    "\n",
    "with open('tom-tds-l0-scenarios.json', 'w') as fh:\n",
    "    json.dump(config, fh, indent=2)"
   ]
  },
  {
   "cell_type": "markdown",
   "id": "bb2402ac-e5b0-4b31-9653-260d7b3bca37",
   "metadata": {},
   "source": [
    "## INT_TDS\n",
    "\n",
    "### Load data from SaVoir simulation"
   ]
  },
  {
   "cell_type": "code",
   "execution_count": 36,
   "id": "b77584a5-04c3-4944-8e32-46d33e598cb6",
   "metadata": {},
   "outputs": [
    {
     "data": {
      "text/plain": [
       "Index(['Start', 'End', 'Duration', 'Satellite', 'SensorMode', 'Width',\n",
       "       'Length', 'SwathArea', 'Pass', 'NW_Lat', 'NW_Lon', 'NE_Lat', 'NE_Lon',\n",
       "       'SE_Lat', 'SE_Lon', 'SW_Lat', 'SW_Lon', 'Orbit', 'Anx', 'AnxLon',\n",
       "       'TAnx', 'DTID', 'gcid', 'mcid', 'rcid', 'track', 'NextAnx'],\n",
       "      dtype='object')"
      ]
     },
     "execution_count": 36,
     "metadata": {},
     "output_type": "execute_result"
    }
   ],
   "source": [
    "def next_anx(row):\n",
    "    next_orbit = row['Orbit'] + 1\n",
    "    next_anx = row['Anx'] + pd.to_timedelta(ORBIT_DURATION, 's')\n",
    "    r = simulation.query(\"Orbit == @next_orbit\")\n",
    "    if r.shape[0] > 0:\n",
    "        next_anx = r['Anx'].min()\n",
    "    return next_anx\n",
    "\n",
    "simulation = pd.read_excel('Export_INT_Full_GC_S1_S2_S3_RO_S1SRM.xlsx')\n",
    "\n",
    "# add DTID\n",
    "simulation['DTID'] = [int(tm.DataTakeID(row.Orbit, row.TAnx).tobytes().hex(), 16) for row in simulation.itertuples()]\n",
    "# add mcid, rcid, track, ext anx\n",
    "orbits = [AbsoluteOrbit(n, tm.MissionPhase.INT) for n in simulation['Orbit']]\n",
    "simulation['gcid'] = [o.gcid() for o in orbits]\n",
    "simulation['mcid'] = [o.mcid() for o in orbits]\n",
    "simulation['rcid'] = [o.rcid() for o in orbits]\n",
    "simulation['track'] = [o.track() for o in orbits]\n",
    "simulation['NextAnx'] = simulation.apply(next_anx, axis=1)\n",
    "\n",
    "simulation.sort_values(by=['Start'], inplace=True)\n",
    "\n",
    "simulation.columns"
   ]
  },
  {
   "cell_type": "markdown",
   "id": "e8ee153d-891c-49ab-95f1-0184e267b934",
   "metadata": {},
   "source": [
    "### MM scenario"
   ]
  },
  {
   "cell_type": "markdown",
   "id": "cbbd7a43-4ac3-4329-b487-7ba905b9e220",
   "metadata": {},
   "source": [
    "#### Data Take selection"
   ]
  },
  {
   "cell_type": "markdown",
   "id": "f2c676d5-8408-4afa-843b-d2f14499a77c",
   "metadata": {},
   "source": [
    "Select Data Take across ANX"
   ]
  },
  {
   "cell_type": "code",
   "execution_count": 37,
   "id": "e7817996-27d8-4906-892e-0becbe1533af",
   "metadata": {},
   "outputs": [
    {
     "data": {
      "text/html": [
       "<div>\n",
       "<style scoped>\n",
       "    .dataframe tbody tr th:only-of-type {\n",
       "        vertical-align: middle;\n",
       "    }\n",
       "\n",
       "    .dataframe tbody tr th {\n",
       "        vertical-align: top;\n",
       "    }\n",
       "\n",
       "    .dataframe thead th {\n",
       "        text-align: right;\n",
       "    }\n",
       "</style>\n",
       "<table border=\"1\" class=\"dataframe\">\n",
       "  <thead>\n",
       "    <tr style=\"text-align: right;\">\n",
       "      <th></th>\n",
       "      <th>Anx</th>\n",
       "      <th>Start</th>\n",
       "      <th>End</th>\n",
       "      <th>NextAnx</th>\n",
       "      <th>Duration</th>\n",
       "      <th>SensorMode</th>\n",
       "    </tr>\n",
       "  </thead>\n",
       "  <tbody>\n",
       "    <tr>\n",
       "      <th>0</th>\n",
       "      <td>2017-01-01 06:00:01.272</td>\n",
       "      <td>2017-01-01 06:01:31.396</td>\n",
       "      <td>2017-01-01 06:03:44.506</td>\n",
       "      <td>2017-01-01 07:38:12.253</td>\n",
       "      <td>133.109331</td>\n",
       "      <td>Stripmap S1</td>\n",
       "    </tr>\n",
       "    <tr>\n",
       "      <th>2</th>\n",
       "      <td>2017-01-01 06:00:01.272</td>\n",
       "      <td>2017-01-01 06:52:49.335</td>\n",
       "      <td>2017-01-01 06:55:03.761</td>\n",
       "      <td>2017-01-01 07:38:12.253</td>\n",
       "      <td>134.425245</td>\n",
       "      <td>Stripmap S1</td>\n",
       "    </tr>\n",
       "    <tr>\n",
       "      <th>3</th>\n",
       "      <td>2017-01-01 06:00:01.272</td>\n",
       "      <td>2017-01-01 07:06:50.302</td>\n",
       "      <td>2017-01-01 07:20:24.262</td>\n",
       "      <td>2017-01-01 07:38:12.253</td>\n",
       "      <td>813.959573</td>\n",
       "      <td>Stripmap S1</td>\n",
       "    </tr>\n",
       "    <tr>\n",
       "      <th>5</th>\n",
       "      <td>2017-01-01 07:38:12.253</td>\n",
       "      <td>2017-01-01 08:28:10.551</td>\n",
       "      <td>2017-01-01 08:29:15.406</td>\n",
       "      <td>2017-01-01 09:16:23.235</td>\n",
       "      <td>64.854735</td>\n",
       "      <td>Stripmap S1</td>\n",
       "    </tr>\n",
       "    <tr>\n",
       "      <th>6</th>\n",
       "      <td>2017-01-01 07:38:12.253</td>\n",
       "      <td>2017-01-01 08:30:20.822</td>\n",
       "      <td>2017-01-01 08:36:51.284</td>\n",
       "      <td>2017-01-01 09:16:23.235</td>\n",
       "      <td>390.461360</td>\n",
       "      <td>Stripmap S1</td>\n",
       "    </tr>\n",
       "    <tr>\n",
       "      <th>7</th>\n",
       "      <td>2017-01-01 07:38:12.253</td>\n",
       "      <td>2017-01-01 08:45:01.315</td>\n",
       "      <td>2017-01-01 08:58:01.231</td>\n",
       "      <td>2017-01-01 09:16:23.235</td>\n",
       "      <td>779.916300</td>\n",
       "      <td>Stripmap S1</td>\n",
       "    </tr>\n",
       "    <tr>\n",
       "      <th>8</th>\n",
       "      <td>2017-01-01 07:38:12.253</td>\n",
       "      <td>2017-01-01 09:09:51.681</td>\n",
       "      <td>2017-01-01 09:18:02.746</td>\n",
       "      <td>2017-01-01 09:16:23.235</td>\n",
       "      <td>491.064347</td>\n",
       "      <td>Stripmap S1</td>\n",
       "    </tr>\n",
       "    <tr>\n",
       "      <th>10</th>\n",
       "      <td>2017-01-01 09:16:23.235</td>\n",
       "      <td>2017-01-01 09:46:41.020</td>\n",
       "      <td>2017-01-01 09:49:12.943</td>\n",
       "      <td>2017-01-01 10:54:34.216</td>\n",
       "      <td>151.922865</td>\n",
       "      <td>Stripmap S1</td>\n",
       "    </tr>\n",
       "    <tr>\n",
       "      <th>11</th>\n",
       "      <td>2017-01-01 09:16:23.235</td>\n",
       "      <td>2017-01-01 09:50:14.404</td>\n",
       "      <td>2017-01-01 09:53:27.306</td>\n",
       "      <td>2017-01-01 10:54:34.216</td>\n",
       "      <td>192.902257</td>\n",
       "      <td>Stripmap S1</td>\n",
       "    </tr>\n",
       "    <tr>\n",
       "      <th>12</th>\n",
       "      <td>2017-01-01 09:16:23.235</td>\n",
       "      <td>2017-01-01 09:55:51.239</td>\n",
       "      <td>2017-01-01 09:56:23.239</td>\n",
       "      <td>2017-01-01 10:54:34.216</td>\n",
       "      <td>32.000000</td>\n",
       "      <td>Stripmap S1</td>\n",
       "    </tr>\n",
       "  </tbody>\n",
       "</table>\n",
       "</div>"
      ],
      "text/plain": [
       "                       Anx                   Start                     End  \\\n",
       "0  2017-01-01 06:00:01.272 2017-01-01 06:01:31.396 2017-01-01 06:03:44.506   \n",
       "2  2017-01-01 06:00:01.272 2017-01-01 06:52:49.335 2017-01-01 06:55:03.761   \n",
       "3  2017-01-01 06:00:01.272 2017-01-01 07:06:50.302 2017-01-01 07:20:24.262   \n",
       "5  2017-01-01 07:38:12.253 2017-01-01 08:28:10.551 2017-01-01 08:29:15.406   \n",
       "6  2017-01-01 07:38:12.253 2017-01-01 08:30:20.822 2017-01-01 08:36:51.284   \n",
       "7  2017-01-01 07:38:12.253 2017-01-01 08:45:01.315 2017-01-01 08:58:01.231   \n",
       "8  2017-01-01 07:38:12.253 2017-01-01 09:09:51.681 2017-01-01 09:18:02.746   \n",
       "10 2017-01-01 09:16:23.235 2017-01-01 09:46:41.020 2017-01-01 09:49:12.943   \n",
       "11 2017-01-01 09:16:23.235 2017-01-01 09:50:14.404 2017-01-01 09:53:27.306   \n",
       "12 2017-01-01 09:16:23.235 2017-01-01 09:55:51.239 2017-01-01 09:56:23.239   \n",
       "\n",
       "                   NextAnx    Duration   SensorMode  \n",
       "0  2017-01-01 07:38:12.253  133.109331  Stripmap S1  \n",
       "2  2017-01-01 07:38:12.253  134.425245  Stripmap S1  \n",
       "3  2017-01-01 07:38:12.253  813.959573  Stripmap S1  \n",
       "5  2017-01-01 09:16:23.235   64.854735  Stripmap S1  \n",
       "6  2017-01-01 09:16:23.235  390.461360  Stripmap S1  \n",
       "7  2017-01-01 09:16:23.235  779.916300  Stripmap S1  \n",
       "8  2017-01-01 09:16:23.235  491.064347  Stripmap S1  \n",
       "10 2017-01-01 10:54:34.216  151.922865  Stripmap S1  \n",
       "11 2017-01-01 10:54:34.216  192.902257  Stripmap S1  \n",
       "12 2017-01-01 10:54:34.216   32.000000  Stripmap S1  "
      ]
     },
     "execution_count": 37,
     "metadata": {},
     "output_type": "execute_result"
    }
   ],
   "source": [
    "simulation.query(\"SensorMode != 'Receive Only'\")[['Anx', 'Start', 'End', 'NextAnx', 'Duration', 'SensorMode']].head(10)"
   ]
  },
  {
   "cell_type": "markdown",
   "id": "5b0d582c-4172-448a-9e4b-d7babbb62b9f",
   "metadata": {},
   "source": [
    "ID of selected acquisition: 124"
   ]
  },
  {
   "cell_type": "code",
   "execution_count": 38,
   "id": "e4282673-0d4f-478e-9beb-867bd7916c46",
   "metadata": {},
   "outputs": [],
   "source": [
    "acq_idx = 2"
   ]
  },
  {
   "cell_type": "code",
   "execution_count": 39,
   "id": "b46a417b-1424-41fb-aa57-3ccf073fe6a9",
   "metadata": {},
   "outputs": [
    {
     "data": {
      "text/plain": [
       "Interval('2017-01-01 06:52:49.335000', '2017-01-01 06:55:03.761000', closed='both')"
      ]
     },
     "execution_count": 39,
     "metadata": {},
     "output_type": "execute_result"
    }
   ],
   "source": [
    "data_take = pd.Interval(simulation.loc[acq_idx, 'Start'], simulation.loc[acq_idx, 'End'], closed='both')\n",
    "data_take"
   ]
  },
  {
   "cell_type": "code",
   "execution_count": 40,
   "id": "71306509-97a0-479b-aaa6-73180b9f9838",
   "metadata": {},
   "outputs": [
    {
     "data": {
      "text/plain": [
       "11360"
      ]
     },
     "execution_count": 40,
     "metadata": {},
     "output_type": "execute_result"
    }
   ],
   "source": [
    "dtid = simulation.loc[acq_idx, 'DTID']\n",
    "dtid"
   ]
  },
  {
   "cell_type": "markdown",
   "id": "846abcdf-4435-456e-a0be-dc6339003f25",
   "metadata": {},
   "source": [
    "#### Swath"
   ]
  },
  {
   "cell_type": "code",
   "execution_count": 41,
   "id": "a513296d-14f9-4b43-901b-61df232b5a33",
   "metadata": {},
   "outputs": [
    {
     "data": {
      "text/plain": [
       "'S1'"
      ]
     },
     "execution_count": 41,
     "metadata": {},
     "output_type": "execute_result"
    }
   ],
   "source": [
    "# get swath id from SensorMode name\n",
    "swath_id = simulation.loc[acq_idx]['SensorMode'][-2:]\n",
    "swath_id"
   ]
  },
  {
   "cell_type": "code",
   "execution_count": 42,
   "id": "a7a14ba0-2993-46bc-a1c6-294cf1a9d9ae",
   "metadata": {},
   "outputs": [
    {
     "data": {
      "text/plain": [
       "1"
      ]
     },
     "execution_count": 42,
     "metadata": {},
     "output_type": "execute_result"
    }
   ],
   "source": [
    "# crosscheck with orbit number\n",
    "AbsoluteOrbit(simulation.loc[acq_idx]['Orbit'], tm.MissionPhase.INT).swathid()"
   ]
  },
  {
   "cell_type": "markdown",
   "id": "a1167010-03ca-42f8-8943-d26db54fdb2d",
   "metadata": {},
   "source": [
    "#### Global coverage id, major cycle id, repeat cycle id, drift flag, orbit and track"
   ]
  },
  {
   "cell_type": "code",
   "execution_count": 43,
   "id": "34f88725-8633-4365-b0f1-9b693e605eb7",
   "metadata": {
    "tags": []
   },
   "outputs": [],
   "source": [
    "gcid = simulation.loc[acq_idx]['gcid']\n",
    "mcid = simulation.loc[acq_idx]['mcid']\n",
    "rcid = simulation.loc[acq_idx]['rcid']\n",
    "track = simulation.loc[acq_idx]['track']"
   ]
  },
  {
   "cell_type": "code",
   "execution_count": 44,
   "id": "31087ee0-e6fc-4451-a175-f6f3272fe23c",
   "metadata": {},
   "outputs": [],
   "source": [
    "dt_polygon = simulation.loc[acq_idx, ['NW_Lat', 'NW_Lon', 'NE_Lat', 'NE_Lon', 'SE_Lat', 'SE_Lon', 'SW_Lat', 'SW_Lon', 'NW_Lat', 'NW_Lon']].to_numpy()\n",
    "\n",
    "footprint_polygon = ' '.join(dt_polygon.astype(str))"
   ]
  },
  {
   "cell_type": "markdown",
   "id": "6384dd1f-87ba-4d2e-a406-cbfbf1bc1f65",
   "metadata": {},
   "source": [
    "#### Acquisition"
   ]
  },
  {
   "cell_type": "markdown",
   "id": "b4a3fbea-db37-4f8f-9db3-9cfd0226333f",
   "metadata": {},
   "source": [
    "Acquisition date is set to 30 minutes after data take stop"
   ]
  },
  {
   "cell_type": "code",
   "execution_count": 45,
   "id": "09ca5320-b4ec-4e02-a929-3a3268376f6e",
   "metadata": {},
   "outputs": [
    {
     "data": {
      "text/plain": [
       "Timestamp('2017-01-01 07:25:03.761000')"
      ]
     },
     "execution_count": 45,
     "metadata": {},
     "output_type": "execute_result"
    }
   ],
   "source": [
    "acquisition_date = data_take.right + pd.to_timedelta(30, 'm')\n",
    "acquisition_station = 'SV'  # Svalbard\n",
    "acquisition_date # start"
   ]
  },
  {
   "cell_type": "markdown",
   "id": "80655fee-4b84-49be-af78-dbcb682f765d",
   "metadata": {},
   "source": [
    "#### Affected Orbits"
   ]
  },
  {
   "cell_type": "code",
   "execution_count": 46,
   "id": "f87cc242-5e7e-4148-9f89-3e5f59709824",
   "metadata": {},
   "outputs": [
    {
     "data": {
      "text/plain": [
       "[Interval('2017-01-01 06:00:01.272000', '2017-01-01 07:38:12.253000', closed='both')]"
      ]
     },
     "execution_count": 46,
     "metadata": {},
     "output_type": "execute_result"
    }
   ],
   "source": [
    "orbits = get_orbits(simulation, acq_idx)\n",
    "orbits"
   ]
  },
  {
   "cell_type": "markdown",
   "id": "cc642c5b-c2ce-47e1-8fe7-a5d47a298b85",
   "metadata": {},
   "source": [
    "#### Level 0 slices"
   ]
  },
  {
   "cell_type": "code",
   "execution_count": 47,
   "id": "d03e1b68-ece2-429d-8ff4-4db494b6fb52",
   "metadata": {},
   "outputs": [
    {
     "data": {
      "text/html": [
       "<div>\n",
       "<style scoped>\n",
       "    .dataframe tbody tr th:only-of-type {\n",
       "        vertical-align: middle;\n",
       "    }\n",
       "\n",
       "    .dataframe tbody tr th {\n",
       "        vertical-align: top;\n",
       "    }\n",
       "\n",
       "    .dataframe thead th {\n",
       "        text-align: right;\n",
       "    }\n",
       "</style>\n",
       "<table border=\"1\" class=\"dataframe\">\n",
       "  <thead>\n",
       "    <tr style=\"text-align: right;\">\n",
       "      <th></th>\n",
       "      <th>n</th>\n",
       "      <th>start</th>\n",
       "      <th>stop</th>\n",
       "      <th>duration</th>\n",
       "    </tr>\n",
       "  </thead>\n",
       "  <tbody>\n",
       "    <tr>\n",
       "      <th>0</th>\n",
       "      <td>34</td>\n",
       "      <td>2017-01-01 06:52:49.335000000</td>\n",
       "      <td>2017-01-01 06:53:58.809463160</td>\n",
       "      <td>69.474463</td>\n",
       "    </tr>\n",
       "    <tr>\n",
       "      <th>1</th>\n",
       "      <td>35</td>\n",
       "      <td>2017-01-01 06:53:46.809463160</td>\n",
       "      <td>2017-01-01 06:55:03.761000000</td>\n",
       "      <td>76.951536</td>\n",
       "    </tr>\n",
       "  </tbody>\n",
       "</table>\n",
       "</div>"
      ],
      "text/plain": [
       "    n                         start                          stop   duration\n",
       "0  34 2017-01-01 06:52:49.335000000 2017-01-01 06:53:58.809463160  69.474463\n",
       "1  35 2017-01-01 06:53:46.809463160 2017-01-01 06:55:03.761000000  76.951536"
      ]
     },
     "execution_count": 47,
     "metadata": {},
     "output_type": "execute_result"
    }
   ],
   "source": [
    "slices = get_slices(orbits, data_take, SLICE_MIN_DURATION)\n",
    "slices"
   ]
  },
  {
   "cell_type": "markdown",
   "id": "bfbaaee2-b575-4c4a-804c-37d2b0ca0e3c",
   "metadata": {},
   "source": [
    "In case of platform ancillary data, validity starts 16 seconds before data take start:"
   ]
  },
  {
   "cell_type": "code",
   "execution_count": 48,
   "id": "f0151403-6797-448d-bed2-158d02a13000",
   "metadata": {},
   "outputs": [
    {
     "data": {
      "text/html": [
       "<div>\n",
       "<style scoped>\n",
       "    .dataframe tbody tr th:only-of-type {\n",
       "        vertical-align: middle;\n",
       "    }\n",
       "\n",
       "    .dataframe tbody tr th {\n",
       "        vertical-align: top;\n",
       "    }\n",
       "\n",
       "    .dataframe thead th {\n",
       "        text-align: right;\n",
       "    }\n",
       "</style>\n",
       "<table border=\"1\" class=\"dataframe\">\n",
       "  <thead>\n",
       "    <tr style=\"text-align: right;\">\n",
       "      <th></th>\n",
       "      <th>n</th>\n",
       "      <th>start</th>\n",
       "      <th>stop</th>\n",
       "      <th>duration</th>\n",
       "    </tr>\n",
       "  </thead>\n",
       "  <tbody>\n",
       "    <tr>\n",
       "      <th>0</th>\n",
       "      <td>34</td>\n",
       "      <td>2017-01-01 06:52:33.335000000</td>\n",
       "      <td>2017-01-01 06:53:58.809463160</td>\n",
       "      <td>85.474463</td>\n",
       "    </tr>\n",
       "    <tr>\n",
       "      <th>1</th>\n",
       "      <td>35</td>\n",
       "      <td>2017-01-01 06:53:46.809463160</td>\n",
       "      <td>2017-01-01 06:55:03.761000000</td>\n",
       "      <td>76.951536</td>\n",
       "    </tr>\n",
       "  </tbody>\n",
       "</table>\n",
       "</div>"
      ],
      "text/plain": [
       "    n                         start                          stop   duration\n",
       "0  34 2017-01-01 06:52:33.335000000 2017-01-01 06:53:58.809463160  85.474463\n",
       "1  35 2017-01-01 06:53:46.809463160 2017-01-01 06:55:03.761000000  76.951536"
      ]
     },
     "execution_count": 48,
     "metadata": {},
     "output_type": "execute_result"
    }
   ],
   "source": [
    "plt_data_validity = pd.Interval(\n",
    "    data_take.left - pd.to_timedelta(const.PLATFORM_ANCILLARY_INITIAL_MARGIN, 's'),\n",
    "    data_take.right + pd.to_timedelta(const.PLATFORM_ANCILLARY_FINAL_MARGIN, 's'),\n",
    "    closed='both'\n",
    ")\n",
    "plt_slices = get_slices(orbits, plt_data_validity, SLICE_MIN_DURATION)\n",
    "plt_slices"
   ]
  },
  {
   "cell_type": "markdown",
   "id": "fba38e29-7081-4768-af33-660121ef2faa",
   "metadata": {},
   "source": [
    "#### Level 1 frames"
   ]
  },
  {
   "cell_type": "code",
   "execution_count": 49,
   "id": "673d9bbd-ac78-4936-81f3-d86d49908bf9",
   "metadata": {},
   "outputs": [
    {
     "data": {
      "text/html": [
       "<div>\n",
       "<style scoped>\n",
       "    .dataframe tbody tr th:only-of-type {\n",
       "        vertical-align: middle;\n",
       "    }\n",
       "\n",
       "    .dataframe tbody tr th {\n",
       "        vertical-align: top;\n",
       "    }\n",
       "\n",
       "    .dataframe thead th {\n",
       "        text-align: right;\n",
       "    }\n",
       "</style>\n",
       "<table border=\"1\" class=\"dataframe\">\n",
       "  <thead>\n",
       "    <tr style=\"text-align: right;\">\n",
       "      <th></th>\n",
       "      <th>n</th>\n",
       "      <th>start</th>\n",
       "      <th>stop</th>\n",
       "      <th>duration</th>\n",
       "    </tr>\n",
       "  </thead>\n",
       "  <tbody>\n",
       "    <tr>\n",
       "      <th>0</th>\n",
       "      <td>167</td>\n",
       "      <td>2017-01-01 06:52:49.335000000</td>\n",
       "      <td>2017-01-01 06:52:56.799978516</td>\n",
       "      <td>7.464978</td>\n",
       "    </tr>\n",
       "    <tr>\n",
       "      <th>1</th>\n",
       "      <td>168</td>\n",
       "      <td>2017-01-01 06:52:54.799978516</td>\n",
       "      <td>2017-01-01 06:53:15.803140064</td>\n",
       "      <td>21.003161</td>\n",
       "    </tr>\n",
       "    <tr>\n",
       "      <th>2</th>\n",
       "      <td>169</td>\n",
       "      <td>2017-01-01 06:53:13.803140064</td>\n",
       "      <td>2017-01-01 06:53:34.806301612</td>\n",
       "      <td>21.003161</td>\n",
       "    </tr>\n",
       "    <tr>\n",
       "      <th>3</th>\n",
       "      <td>170</td>\n",
       "      <td>2017-01-01 06:53:32.806301612</td>\n",
       "      <td>2017-01-01 06:53:53.809463160</td>\n",
       "      <td>21.003161</td>\n",
       "    </tr>\n",
       "    <tr>\n",
       "      <th>4</th>\n",
       "      <td>171</td>\n",
       "      <td>2017-01-01 06:53:51.809463160</td>\n",
       "      <td>2017-01-01 06:54:12.812624708</td>\n",
       "      <td>21.003161</td>\n",
       "    </tr>\n",
       "    <tr>\n",
       "      <th>5</th>\n",
       "      <td>172</td>\n",
       "      <td>2017-01-01 06:54:10.812624708</td>\n",
       "      <td>2017-01-01 06:54:31.815786256</td>\n",
       "      <td>21.003161</td>\n",
       "    </tr>\n",
       "    <tr>\n",
       "      <th>6</th>\n",
       "      <td>173</td>\n",
       "      <td>2017-01-01 06:54:29.815786256</td>\n",
       "      <td>2017-01-01 06:54:50.818947804</td>\n",
       "      <td>21.003161</td>\n",
       "    </tr>\n",
       "    <tr>\n",
       "      <th>7</th>\n",
       "      <td>174</td>\n",
       "      <td>2017-01-01 06:54:48.818947804</td>\n",
       "      <td>2017-01-01 06:55:03.761000000</td>\n",
       "      <td>14.942052</td>\n",
       "    </tr>\n",
       "  </tbody>\n",
       "</table>\n",
       "</div>"
      ],
      "text/plain": [
       "     n                         start                          stop   duration\n",
       "0  167 2017-01-01 06:52:49.335000000 2017-01-01 06:52:56.799978516   7.464978\n",
       "1  168 2017-01-01 06:52:54.799978516 2017-01-01 06:53:15.803140064  21.003161\n",
       "2  169 2017-01-01 06:53:13.803140064 2017-01-01 06:53:34.806301612  21.003161\n",
       "3  170 2017-01-01 06:53:32.806301612 2017-01-01 06:53:53.809463160  21.003161\n",
       "4  171 2017-01-01 06:53:51.809463160 2017-01-01 06:54:12.812624708  21.003161\n",
       "5  172 2017-01-01 06:54:10.812624708 2017-01-01 06:54:31.815786256  21.003161\n",
       "6  173 2017-01-01 06:54:29.815786256 2017-01-01 06:54:50.818947804  21.003161\n",
       "7  174 2017-01-01 06:54:48.818947804 2017-01-01 06:55:03.761000000  14.942052"
      ]
     },
     "execution_count": 49,
     "metadata": {},
     "output_type": "execute_result"
    }
   ],
   "source": [
    "frames = get_frames(orbits, data_take, FRAME_MIN_DURATION)\n",
    "frames"
   ]
  },
  {
   "cell_type": "markdown",
   "id": "bd74eae7-e695-4a06-a9cb-e8fe84ab4b2f",
   "metadata": {},
   "source": [
    "#### Additional data takes for stack"
   ]
  },
  {
   "cell_type": "markdown",
   "id": "a1709ee0-0c2c-428a-b90f-fc95ce122f7d",
   "metadata": {},
   "source": [
    "Select additional data takes having the same global coverage id, major cycle id, swath (sensor mode) and track:"
   ]
  },
  {
   "cell_type": "code",
   "execution_count": 50,
   "id": "c965c669-abbb-473d-87ff-e76a3abbfc71",
   "metadata": {},
   "outputs": [
    {
     "data": {
      "text/html": [
       "<div>\n",
       "<style scoped>\n",
       "    .dataframe tbody tr th:only-of-type {\n",
       "        vertical-align: middle;\n",
       "    }\n",
       "\n",
       "    .dataframe tbody tr th {\n",
       "        vertical-align: top;\n",
       "    }\n",
       "\n",
       "    .dataframe thead th {\n",
       "        text-align: right;\n",
       "    }\n",
       "</style>\n",
       "<table border=\"1\" class=\"dataframe\">\n",
       "  <thead>\n",
       "    <tr style=\"text-align: right;\">\n",
       "      <th></th>\n",
       "      <th>Start</th>\n",
       "      <th>End</th>\n",
       "      <th>Duration</th>\n",
       "      <th>Satellite</th>\n",
       "      <th>SensorMode</th>\n",
       "      <th>Width</th>\n",
       "      <th>Length</th>\n",
       "      <th>SwathArea</th>\n",
       "      <th>Pass</th>\n",
       "      <th>NW_Lat</th>\n",
       "      <th>...</th>\n",
       "      <th>Orbit</th>\n",
       "      <th>Anx</th>\n",
       "      <th>AnxLon</th>\n",
       "      <th>TAnx</th>\n",
       "      <th>DTID</th>\n",
       "      <th>gcid</th>\n",
       "      <th>mcid</th>\n",
       "      <th>rcid</th>\n",
       "      <th>track</th>\n",
       "      <th>NextAnx</th>\n",
       "    </tr>\n",
       "  </thead>\n",
       "  <tbody>\n",
       "    <tr>\n",
       "      <th>2</th>\n",
       "      <td>2017-01-01 06:52:49.335</td>\n",
       "      <td>2017-01-01 06:55:03.761</td>\n",
       "      <td>134.425245</td>\n",
       "      <td>BIOMASS</td>\n",
       "      <td>Stripmap S1</td>\n",
       "      <td>54.466270</td>\n",
       "      <td>920.063964</td>\n",
       "      <td>50254.777249</td>\n",
       "      <td>DESCENDING</td>\n",
       "      <td>-14.294510</td>\n",
       "      <td>...</td>\n",
       "      <td>1</td>\n",
       "      <td>2017-01-01 06:00:01.272</td>\n",
       "      <td>-1.141720e-07</td>\n",
       "      <td>3168.063289</td>\n",
       "      <td>11360</td>\n",
       "      <td>1</td>\n",
       "      <td>1</td>\n",
       "      <td>1</td>\n",
       "      <td>1</td>\n",
       "      <td>2017-01-01 07:38:12.253</td>\n",
       "    </tr>\n",
       "    <tr>\n",
       "      <th>217</th>\n",
       "      <td>2017-01-04 06:52:52.438</td>\n",
       "      <td>2017-01-04 06:55:06.805</td>\n",
       "      <td>134.366732</td>\n",
       "      <td>BIOMASS</td>\n",
       "      <td>Stripmap S1</td>\n",
       "      <td>54.466132</td>\n",
       "      <td>919.664998</td>\n",
       "      <td>50246.328664</td>\n",
       "      <td>DESCENDING</td>\n",
       "      <td>-14.289509</td>\n",
       "      <td>...</td>\n",
       "      <td>45</td>\n",
       "      <td>2017-01-04 06:00:04.459</td>\n",
       "      <td>-1.328532e-02</td>\n",
       "      <td>3167.979528</td>\n",
       "      <td>371807</td>\n",
       "      <td>1</td>\n",
       "      <td>1</td>\n",
       "      <td>2</td>\n",
       "      <td>1</td>\n",
       "      <td>2017-01-04 07:38:15.440</td>\n",
       "    </tr>\n",
       "    <tr>\n",
       "      <th>431</th>\n",
       "      <td>2017-01-07 06:52:55.587</td>\n",
       "      <td>2017-01-07 06:55:09.850</td>\n",
       "      <td>134.263520</td>\n",
       "      <td>BIOMASS</td>\n",
       "      <td>Stripmap S1</td>\n",
       "      <td>54.466155</td>\n",
       "      <td>918.959438</td>\n",
       "      <td>50210.451058</td>\n",
       "      <td>DESCENDING</td>\n",
       "      <td>-14.287216</td>\n",
       "      <td>...</td>\n",
       "      <td>89</td>\n",
       "      <td>2017-01-07 06:00:07.645</td>\n",
       "      <td>-2.656646e-02</td>\n",
       "      <td>3167.941390</td>\n",
       "      <td>732255</td>\n",
       "      <td>1</td>\n",
       "      <td>1</td>\n",
       "      <td>3</td>\n",
       "      <td>1</td>\n",
       "      <td>2017-01-07 07:38:18.626</td>\n",
       "    </tr>\n",
       "  </tbody>\n",
       "</table>\n",
       "<p>3 rows × 27 columns</p>\n",
       "</div>"
      ],
      "text/plain": [
       "                      Start                     End    Duration Satellite  \\\n",
       "2   2017-01-01 06:52:49.335 2017-01-01 06:55:03.761  134.425245   BIOMASS   \n",
       "217 2017-01-04 06:52:52.438 2017-01-04 06:55:06.805  134.366732   BIOMASS   \n",
       "431 2017-01-07 06:52:55.587 2017-01-07 06:55:09.850  134.263520   BIOMASS   \n",
       "\n",
       "      SensorMode      Width      Length     SwathArea        Pass     NW_Lat  \\\n",
       "2    Stripmap S1  54.466270  920.063964  50254.777249  DESCENDING -14.294510   \n",
       "217  Stripmap S1  54.466132  919.664998  50246.328664  DESCENDING -14.289509   \n",
       "431  Stripmap S1  54.466155  918.959438  50210.451058  DESCENDING -14.287216   \n",
       "\n",
       "     ...  Orbit                     Anx        AnxLon         TAnx    DTID  \\\n",
       "2    ...      1 2017-01-01 06:00:01.272 -1.141720e-07  3168.063289   11360   \n",
       "217  ...     45 2017-01-04 06:00:04.459 -1.328532e-02  3167.979528  371807   \n",
       "431  ...     89 2017-01-07 06:00:07.645 -2.656646e-02  3167.941390  732255   \n",
       "\n",
       "     gcid  mcid  rcid track                 NextAnx  \n",
       "2       1     1     1     1 2017-01-01 07:38:12.253  \n",
       "217     1     1     2     1 2017-01-04 07:38:15.440  \n",
       "431     1     1     3     1 2017-01-07 07:38:18.626  \n",
       "\n",
       "[3 rows x 27 columns]"
      ]
     },
     "execution_count": 50,
     "metadata": {},
     "output_type": "execute_result"
    }
   ],
   "source": [
    "def overlap(data_take_start, data_take_stop, orbit_start, orbit_stop, frame_numbers):\n",
    "    data_take = pd.Interval(data_take_start, data_take_stop, closed='both')\n",
    "    frame_grid = FrameGrid(orbit_start, orbit_stop)\n",
    "    for frame_number in frame_numbers:\n",
    "        overlap = frame_grid.interval(frame_number).overlaps(data_take)\n",
    "        if overlap is False:\n",
    "            return False\n",
    "    return True\n",
    "\n",
    "sensor_mode = simulation.loc[acq_idx]['SensorMode']\n",
    "track = simulation.loc[acq_idx]['track']\n",
    "result = simulation.query(\"gcid == @gcid and mcid == @mcid and SensorMode == @sensor_mode and track == @track\")\n",
    "# Select only data takes having overlaps with frame numbers selected above\n",
    "idx = result.apply(\n",
    "    lambda r: overlap(r['Start'], r['End'], r['Anx'], r['NextAnx'], frames['n']),\n",
    "    axis=1\n",
    ")\n",
    "result[idx]"
   ]
  },
  {
   "cell_type": "code",
   "execution_count": 51,
   "id": "8a9fb113-7976-4c1e-83bf-03f7df669876",
   "metadata": {},
   "outputs": [
    {
     "data": {
      "text/plain": [
       "[2, 217, 431]"
      ]
     },
     "execution_count": 51,
     "metadata": {},
     "output_type": "execute_result"
    }
   ],
   "source": [
    "idxs = list(result[idx].index.to_numpy())\n",
    "idxs"
   ]
  },
  {
   "cell_type": "markdown",
   "id": "e6da319f-7dce-49c8-abbf-2bba871f8c93",
   "metadata": {},
   "source": [
    "#### Raw Data generation"
   ]
  },
  {
   "cell_type": "markdown",
   "id": "26563c58-c6d6-4ee2-976a-fa32408225c3",
   "metadata": {},
   "source": [
    "Scenario generation"
   ]
  },
  {
   "cell_type": "code",
   "execution_count": 52,
   "id": "e3d2be34-848e-4987-ae3d-0327f3cea4f1",
   "metadata": {},
   "outputs": [],
   "source": [
    "config = {\n",
    "    'mission': 'biomass',\n",
    "    'scenarios': [raw_generation_scenario('INT_TDS', simulation, idx, 'MM') for idx in idxs]\n",
    "}\n",
    "with open('int-tds-raw-gen-scenarios.json', 'w') as fh:\n",
    "    json.dump(config, fh, indent=2)"
   ]
  },
  {
   "cell_type": "markdown",
   "id": "3f7caeed-6b34-46c4-a855-e28f6ca95772",
   "metadata": {},
   "source": [
    "#### Level 0"
   ]
  },
  {
   "cell_type": "markdown",
   "id": "bd988941-8e80-42fb-9ccb-b3c64c46fa0b",
   "metadata": {},
   "source": [
    "Scenario generation"
   ]
  },
  {
   "cell_type": "code",
   "execution_count": 53,
   "id": "5f707362-ec97-4a63-bfee-ab2059610be0",
   "metadata": {},
   "outputs": [],
   "source": [
    "config = {\n",
    "    'mission': 'biomass',\n",
    "    'scenarios': []\n",
    "}\n",
    "for idx in idxs:\n",
    "    config['scenarios'].extend(l0pfs1_processing_scenarios('INT_TDS', simulation, idx, 'MM', 'INTERFEROMETRIC'))\n",
    "    config['scenarios'].append(l0pfs2_processing_scenario('INT_TDS', simulation, idx, 'MM', 'INTERFEROMETRIC'))\n",
    "    config['scenarios'].append(l0pfs3_processing_scenario('INT_TDS', simulation, idx, 'MM', 'INTERFEROMETRIC'))\n",
    "    config['scenarios'].append(l0pfs4_processing_scenario('INT_TDS', simulation, idx, 'MM', 'INTERFEROMETRIC'))\n",
    "    config['scenarios'].append(oapf_processing_scenario('INT_TDS', simulation, idx, 'MM', 'INTERFEROMETRIC'))\n",
    "with open('int-tds-l0-scenarios.json', 'w') as fh:\n",
    "    json.dump(config, fh, indent=2)"
   ]
  },
  {
   "cell_type": "markdown",
   "id": "1738be2f-d2ec-4c5c-9c06-ba0af5e7f721",
   "metadata": {},
   "source": [
    "#### Level 1a/b"
   ]
  },
  {
   "cell_type": "code",
   "execution_count": 54,
   "id": "412efa7f-3a4b-4a9d-ac87-c5892c69e5ea",
   "metadata": {},
   "outputs": [],
   "source": [
    "config = {\n",
    "    'mission': 'biomass',\n",
    "    'scenarios': []\n",
    "}\n",
    "for idx in idxs:\n",
    "    config['scenarios'].extend(l1_processing_scenarios('INT_TDS', simulation, idx, 'INTERFEROMETRIC'))\n",
    "with open('int-tds-l1-scenarios.json', 'w') as fh:\n",
    "    json.dump(config, fh, indent=2)"
   ]
  },
  {
   "cell_type": "markdown",
   "id": "265a04ee-b973-4fe1-be4d-10a91a746e96",
   "metadata": {},
   "source": [
    "#### Level 1c "
   ]
  },
  {
   "cell_type": "code",
   "execution_count": 55,
   "id": "78a38aea-fe8a-43f8-a29e-d35af182fe22",
   "metadata": {},
   "outputs": [],
   "source": [
    "config = {\n",
    "    'mission': 'biomass',\n",
    "    'scenarios': []\n",
    "}\n",
    "for idx in idxs:\n",
    "    config['scenarios'].extend(l1c_processing_scenarios('INT_TDS', simulation, idx, 'INTERFEROMETRIC'))\n",
    "with open('int-tds-l1c-l2a-scenarios.json', 'w') as fh:\n",
    "    json.dump(config, fh, indent=2)"
   ]
  },
  {
   "cell_type": "markdown",
   "id": "87fe10dd-3b80-4986-b993-a2e653624655",
   "metadata": {},
   "source": [
    "### RO scenario"
   ]
  },
  {
   "cell_type": "markdown",
   "id": "a1cc340f-5a41-4435-9ee5-2c48c0fefe17",
   "metadata": {},
   "source": [
    "#### Data Take selection"
   ]
  },
  {
   "cell_type": "code",
   "execution_count": 56,
   "id": "992c0117-8d35-4bc4-b916-176a10d55de8",
   "metadata": {},
   "outputs": [
    {
     "data": {
      "text/html": [
       "<div>\n",
       "<style scoped>\n",
       "    .dataframe tbody tr th:only-of-type {\n",
       "        vertical-align: middle;\n",
       "    }\n",
       "\n",
       "    .dataframe tbody tr th {\n",
       "        vertical-align: top;\n",
       "    }\n",
       "\n",
       "    .dataframe thead th {\n",
       "        text-align: right;\n",
       "    }\n",
       "</style>\n",
       "<table border=\"1\" class=\"dataframe\">\n",
       "  <thead>\n",
       "    <tr style=\"text-align: right;\">\n",
       "      <th></th>\n",
       "      <th>Anx</th>\n",
       "      <th>Start</th>\n",
       "      <th>End</th>\n",
       "      <th>NextAnx</th>\n",
       "      <th>Duration</th>\n",
       "      <th>gcid</th>\n",
       "      <th>mcid</th>\n",
       "      <th>rcid</th>\n",
       "      <th>Orbit</th>\n",
       "      <th>track</th>\n",
       "    </tr>\n",
       "  </thead>\n",
       "  <tbody>\n",
       "    <tr>\n",
       "      <th>7095</th>\n",
       "      <td>2017-05-25 16:10:46.176</td>\n",
       "      <td>2017-05-25 16:43:47.078</td>\n",
       "      <td>2017-05-25 16:46:15.045</td>\n",
       "      <td>2017-05-25 17:48:57.158</td>\n",
       "      <td>147.967056</td>\n",
       "      <td>1</td>\n",
       "      <td>5</td>\n",
       "      <td>1</td>\n",
       "      <td>2119</td>\n",
       "      <td>7</td>\n",
       "    </tr>\n",
       "    <tr>\n",
       "      <th>7307</th>\n",
       "      <td>2017-05-28 16:10:49.360</td>\n",
       "      <td>2017-05-28 16:43:50.201</td>\n",
       "      <td>2017-05-28 16:46:18.455</td>\n",
       "      <td>2017-05-28 17:49:00.345</td>\n",
       "      <td>148.254601</td>\n",
       "      <td>1</td>\n",
       "      <td>5</td>\n",
       "      <td>2</td>\n",
       "      <td>2163</td>\n",
       "      <td>7</td>\n",
       "    </tr>\n",
       "    <tr>\n",
       "      <th>7519</th>\n",
       "      <td>2017-05-31 16:10:52.549</td>\n",
       "      <td>2017-05-31 16:43:53.319</td>\n",
       "      <td>2017-05-31 16:46:21.878</td>\n",
       "      <td>2017-05-31 17:49:03.530</td>\n",
       "      <td>148.558840</td>\n",
       "      <td>1</td>\n",
       "      <td>5</td>\n",
       "      <td>3</td>\n",
       "      <td>2207</td>\n",
       "      <td>7</td>\n",
       "    </tr>\n",
       "  </tbody>\n",
       "</table>\n",
       "</div>"
      ],
      "text/plain": [
       "                         Anx                   Start                     End  \\\n",
       "7095 2017-05-25 16:10:46.176 2017-05-25 16:43:47.078 2017-05-25 16:46:15.045   \n",
       "7307 2017-05-28 16:10:49.360 2017-05-28 16:43:50.201 2017-05-28 16:46:18.455   \n",
       "7519 2017-05-31 16:10:52.549 2017-05-31 16:43:53.319 2017-05-31 16:46:21.878   \n",
       "\n",
       "                     NextAnx    Duration  gcid  mcid  rcid  Orbit  track  \n",
       "7095 2017-05-25 17:48:57.158  147.967056     1     5     1   2119      7  \n",
       "7307 2017-05-28 17:49:00.345  148.254601     1     5     2   2163      7  \n",
       "7519 2017-05-31 17:49:03.530  148.558840     1     5     3   2207      7  "
      ]
     },
     "execution_count": 56,
     "metadata": {},
     "output_type": "execute_result"
    }
   ],
   "source": [
    "columns = ['Anx', 'Start', 'End', 'NextAnx', 'Duration', 'gcid', 'mcid', 'rcid', 'Orbit', 'track']\n",
    "simulation.query(\"SensorMode == 'Receive Only' and 100 < Duration < 150\")[columns].head()"
   ]
  },
  {
   "cell_type": "markdown",
   "id": "10e16174-a4fe-4cd1-99ed-1d1b357697ae",
   "metadata": {},
   "source": [
    "ID of selected acquisition: 7095"
   ]
  },
  {
   "cell_type": "code",
   "execution_count": 57,
   "id": "9a577d03-ae79-499a-b169-44a5568f98fa",
   "metadata": {},
   "outputs": [],
   "source": [
    "acq_idx = 7095"
   ]
  },
  {
   "cell_type": "code",
   "execution_count": 58,
   "id": "bbe68417-4214-45bf-9d27-071cfca70613",
   "metadata": {},
   "outputs": [
    {
     "data": {
      "text/plain": [
       "Interval('2017-05-25 16:43:47.078000', '2017-05-25 16:46:15.045000', closed='both')"
      ]
     },
     "execution_count": 58,
     "metadata": {},
     "output_type": "execute_result"
    }
   ],
   "source": [
    "data_take = pd.Interval(simulation.loc[acq_idx, 'Start'], simulation.loc[acq_idx, 'End'], closed='both')\n",
    "data_take"
   ]
  },
  {
   "cell_type": "code",
   "execution_count": 59,
   "id": "dd8f725a-c807-4ce9-a691-f5e95310c009",
   "metadata": {},
   "outputs": [
    {
     "data": {
      "text/plain": [
       "17360828"
      ]
     },
     "execution_count": 59,
     "metadata": {},
     "output_type": "execute_result"
    }
   ],
   "source": [
    "dtid = simulation.loc[acq_idx, 'DTID']\n",
    "dtid"
   ]
  },
  {
   "cell_type": "markdown",
   "id": "f51cdb43-7dd9-4972-9282-b6893ae04f6e",
   "metadata": {},
   "source": [
    "#### Swath"
   ]
  },
  {
   "cell_type": "code",
   "execution_count": 60,
   "id": "3f570357-e6db-4ebb-9c56-fbd31e96cf28",
   "metadata": {},
   "outputs": [],
   "source": [
    "swath_id = 'RO'"
   ]
  },
  {
   "cell_type": "markdown",
   "id": "fb6a060d-889b-402a-a9d2-ef9715f4919e",
   "metadata": {},
   "source": [
    "#### Global coverage id, major cycle id, repeat cycle id, drift flag, orbit and track"
   ]
  },
  {
   "cell_type": "code",
   "execution_count": 61,
   "id": "a8ab3d97-ad24-4294-9795-c29fc959c3db",
   "metadata": {
    "tags": []
   },
   "outputs": [],
   "source": [
    "gcid = simulation.loc[acq_idx]['gcid']\n",
    "mcid = simulation.loc[acq_idx]['mcid']\n",
    "rcid = simulation.loc[acq_idx]['rcid']\n",
    "track = simulation.loc[acq_idx]['track']"
   ]
  },
  {
   "cell_type": "code",
   "execution_count": 62,
   "id": "6a6c2068-3d5c-40c5-8e66-25b4450bb7ee",
   "metadata": {},
   "outputs": [],
   "source": [
    "dt_polygon = simulation.loc[acq_idx, ['NW_Lat', 'NW_Lon', 'NE_Lat', 'NE_Lon', 'SE_Lat', 'SE_Lon', 'SW_Lat', 'SW_Lon', 'NW_Lat', 'NW_Lon']].to_numpy()\n",
    "\n",
    "footprint_polygon = ' '.join(dt_polygon.astype(str))"
   ]
  },
  {
   "cell_type": "markdown",
   "id": "ab243100-5571-4026-b84f-2679b0e28404",
   "metadata": {},
   "source": [
    "#### Acquisition"
   ]
  },
  {
   "cell_type": "markdown",
   "id": "b6958699-c581-448d-92e5-40f7172ab5b8",
   "metadata": {},
   "source": [
    "Acquisition date is set to 30 minutes after data take stop"
   ]
  },
  {
   "cell_type": "code",
   "execution_count": 63,
   "id": "b8c61a5b-31af-4967-add2-2aa188047e22",
   "metadata": {},
   "outputs": [
    {
     "data": {
      "text/plain": [
       "Timestamp('2017-05-25 17:16:15.045000')"
      ]
     },
     "execution_count": 63,
     "metadata": {},
     "output_type": "execute_result"
    }
   ],
   "source": [
    "acquisition_date = data_take.right + pd.to_timedelta(30, 'm')\n",
    "acquisition_station = 'SV'  # Svalbard\n",
    "acquisition_date # start"
   ]
  },
  {
   "cell_type": "markdown",
   "id": "8a5a3dcb-b55c-4042-9b1e-5543064d9401",
   "metadata": {},
   "source": [
    "#### Affected Orbits"
   ]
  },
  {
   "cell_type": "code",
   "execution_count": 64,
   "id": "2f4c74ca-7aba-474d-9b90-583f081628cc",
   "metadata": {},
   "outputs": [
    {
     "data": {
      "text/plain": [
       "[Interval('2017-05-25 16:10:46.176000', '2017-05-25 17:48:57.158000', closed='both')]"
      ]
     },
     "execution_count": 64,
     "metadata": {},
     "output_type": "execute_result"
    }
   ],
   "source": [
    "orbits = get_orbits(simulation, acq_idx)\n",
    "orbits"
   ]
  },
  {
   "cell_type": "markdown",
   "id": "5665779d-57ce-4318-a12c-39569f378628",
   "metadata": {},
   "source": [
    "#### Level 0 slices"
   ]
  },
  {
   "cell_type": "code",
   "execution_count": 65,
   "id": "912c7d3b-118d-453c-b96e-a76d18d9162a",
   "metadata": {},
   "outputs": [
    {
     "data": {
      "text/html": [
       "<div>\n",
       "<style scoped>\n",
       "    .dataframe tbody tr th:only-of-type {\n",
       "        vertical-align: middle;\n",
       "    }\n",
       "\n",
       "    .dataframe tbody tr th {\n",
       "        vertical-align: top;\n",
       "    }\n",
       "\n",
       "    .dataframe thead th {\n",
       "        text-align: right;\n",
       "    }\n",
       "</style>\n",
       "<table border=\"1\" class=\"dataframe\">\n",
       "  <thead>\n",
       "    <tr style=\"text-align: right;\">\n",
       "      <th></th>\n",
       "      <th>n</th>\n",
       "      <th>start</th>\n",
       "      <th>stop</th>\n",
       "      <th>duration</th>\n",
       "    </tr>\n",
       "  </thead>\n",
       "  <tbody>\n",
       "    <tr>\n",
       "      <th>0</th>\n",
       "      <td>22</td>\n",
       "      <td>2017-05-25 16:43:47.078000000</td>\n",
       "      <td>2017-05-25 16:45:43.523770280</td>\n",
       "      <td>116.445770</td>\n",
       "    </tr>\n",
       "    <tr>\n",
       "      <th>1</th>\n",
       "      <td>23</td>\n",
       "      <td>2017-05-25 16:45:31.523770280</td>\n",
       "      <td>2017-05-25 16:46:15.045000000</td>\n",
       "      <td>43.521229</td>\n",
       "    </tr>\n",
       "  </tbody>\n",
       "</table>\n",
       "</div>"
      ],
      "text/plain": [
       "    n                         start                          stop    duration\n",
       "0  22 2017-05-25 16:43:47.078000000 2017-05-25 16:45:43.523770280  116.445770\n",
       "1  23 2017-05-25 16:45:31.523770280 2017-05-25 16:46:15.045000000   43.521229"
      ]
     },
     "execution_count": 65,
     "metadata": {},
     "output_type": "execute_result"
    }
   ],
   "source": [
    "slices = get_slices(orbits, data_take, SLICE_MIN_DURATION)\n",
    "slices"
   ]
  },
  {
   "cell_type": "markdown",
   "id": "0acfd921-b316-499e-99d7-0f91583ad047",
   "metadata": {},
   "source": [
    "In case of platform ancillary data, validity starts 16 seconds before data take start:"
   ]
  },
  {
   "cell_type": "code",
   "execution_count": 66,
   "id": "7da24389-1050-4601-98c4-2538510d2119",
   "metadata": {},
   "outputs": [
    {
     "data": {
      "text/html": [
       "<div>\n",
       "<style scoped>\n",
       "    .dataframe tbody tr th:only-of-type {\n",
       "        vertical-align: middle;\n",
       "    }\n",
       "\n",
       "    .dataframe tbody tr th {\n",
       "        vertical-align: top;\n",
       "    }\n",
       "\n",
       "    .dataframe thead th {\n",
       "        text-align: right;\n",
       "    }\n",
       "</style>\n",
       "<table border=\"1\" class=\"dataframe\">\n",
       "  <thead>\n",
       "    <tr style=\"text-align: right;\">\n",
       "      <th></th>\n",
       "      <th>n</th>\n",
       "      <th>start</th>\n",
       "      <th>stop</th>\n",
       "      <th>duration</th>\n",
       "    </tr>\n",
       "  </thead>\n",
       "  <tbody>\n",
       "    <tr>\n",
       "      <th>0</th>\n",
       "      <td>21</td>\n",
       "      <td>2017-05-25 16:43:31.078000000</td>\n",
       "      <td>2017-05-25 16:44:08.507962540</td>\n",
       "      <td>37.429962</td>\n",
       "    </tr>\n",
       "    <tr>\n",
       "      <th>1</th>\n",
       "      <td>22</td>\n",
       "      <td>2017-05-25 16:43:56.507962540</td>\n",
       "      <td>2017-05-25 16:45:43.523770280</td>\n",
       "      <td>107.015807</td>\n",
       "    </tr>\n",
       "    <tr>\n",
       "      <th>2</th>\n",
       "      <td>23</td>\n",
       "      <td>2017-05-25 16:45:31.523770280</td>\n",
       "      <td>2017-05-25 16:46:15.045000000</td>\n",
       "      <td>43.521229</td>\n",
       "    </tr>\n",
       "  </tbody>\n",
       "</table>\n",
       "</div>"
      ],
      "text/plain": [
       "    n                         start                          stop    duration\n",
       "0  21 2017-05-25 16:43:31.078000000 2017-05-25 16:44:08.507962540   37.429962\n",
       "1  22 2017-05-25 16:43:56.507962540 2017-05-25 16:45:43.523770280  107.015807\n",
       "2  23 2017-05-25 16:45:31.523770280 2017-05-25 16:46:15.045000000   43.521229"
      ]
     },
     "execution_count": 66,
     "metadata": {},
     "output_type": "execute_result"
    }
   ],
   "source": [
    "plt_data_validity = pd.Interval(\n",
    "    data_take.left - pd.to_timedelta(const.PLATFORM_ANCILLARY_INITIAL_MARGIN, 's'),\n",
    "    data_take.right + pd.to_timedelta(const.PLATFORM_ANCILLARY_FINAL_MARGIN, 's'),\n",
    "    closed='both'\n",
    ")\n",
    "plt_slices = get_slices(orbits, plt_data_validity, SLICE_MIN_DURATION)\n",
    "plt_slices"
   ]
  },
  {
   "cell_type": "markdown",
   "id": "4ccdd24e-1c5e-42d8-878d-1655b4269645",
   "metadata": {},
   "source": [
    "#### Level 1 frames"
   ]
  },
  {
   "cell_type": "code",
   "execution_count": 67,
   "id": "e1f66df0-09c9-4a0f-92d6-3bdddd6432ca",
   "metadata": {},
   "outputs": [
    {
     "data": {
      "text/html": [
       "<div>\n",
       "<style scoped>\n",
       "    .dataframe tbody tr th:only-of-type {\n",
       "        vertical-align: middle;\n",
       "    }\n",
       "\n",
       "    .dataframe tbody tr th {\n",
       "        vertical-align: top;\n",
       "    }\n",
       "\n",
       "    .dataframe thead th {\n",
       "        text-align: right;\n",
       "    }\n",
       "</style>\n",
       "<table border=\"1\" class=\"dataframe\">\n",
       "  <thead>\n",
       "    <tr style=\"text-align: right;\">\n",
       "      <th></th>\n",
       "      <th>n</th>\n",
       "      <th>start</th>\n",
       "      <th>stop</th>\n",
       "      <th>duration</th>\n",
       "    </tr>\n",
       "  </thead>\n",
       "  <tbody>\n",
       "    <tr>\n",
       "      <th>0</th>\n",
       "      <td>105</td>\n",
       "      <td>2017-05-25 16:43:47.078000000</td>\n",
       "      <td>2017-05-25 16:44:03.507962540</td>\n",
       "      <td>16.429962</td>\n",
       "    </tr>\n",
       "    <tr>\n",
       "      <th>1</th>\n",
       "      <td>106</td>\n",
       "      <td>2017-05-25 16:44:01.507962540</td>\n",
       "      <td>2017-05-25 16:44:22.511124088</td>\n",
       "      <td>21.003161</td>\n",
       "    </tr>\n",
       "    <tr>\n",
       "      <th>2</th>\n",
       "      <td>107</td>\n",
       "      <td>2017-05-25 16:44:20.511124088</td>\n",
       "      <td>2017-05-25 16:44:41.514285636</td>\n",
       "      <td>21.003161</td>\n",
       "    </tr>\n",
       "    <tr>\n",
       "      <th>3</th>\n",
       "      <td>108</td>\n",
       "      <td>2017-05-25 16:44:39.514285636</td>\n",
       "      <td>2017-05-25 16:45:00.517447184</td>\n",
       "      <td>21.003161</td>\n",
       "    </tr>\n",
       "    <tr>\n",
       "      <th>4</th>\n",
       "      <td>109</td>\n",
       "      <td>2017-05-25 16:44:58.517447184</td>\n",
       "      <td>2017-05-25 16:45:19.520608732</td>\n",
       "      <td>21.003161</td>\n",
       "    </tr>\n",
       "    <tr>\n",
       "      <th>5</th>\n",
       "      <td>110</td>\n",
       "      <td>2017-05-25 16:45:17.520608732</td>\n",
       "      <td>2017-05-25 16:45:38.523770280</td>\n",
       "      <td>21.003161</td>\n",
       "    </tr>\n",
       "    <tr>\n",
       "      <th>6</th>\n",
       "      <td>111</td>\n",
       "      <td>2017-05-25 16:45:36.523770280</td>\n",
       "      <td>2017-05-25 16:45:57.526931828</td>\n",
       "      <td>21.003161</td>\n",
       "    </tr>\n",
       "    <tr>\n",
       "      <th>7</th>\n",
       "      <td>112</td>\n",
       "      <td>2017-05-25 16:45:55.526931828</td>\n",
       "      <td>2017-05-25 16:46:15.045000000</td>\n",
       "      <td>19.518068</td>\n",
       "    </tr>\n",
       "  </tbody>\n",
       "</table>\n",
       "</div>"
      ],
      "text/plain": [
       "     n                         start                          stop   duration\n",
       "0  105 2017-05-25 16:43:47.078000000 2017-05-25 16:44:03.507962540  16.429962\n",
       "1  106 2017-05-25 16:44:01.507962540 2017-05-25 16:44:22.511124088  21.003161\n",
       "2  107 2017-05-25 16:44:20.511124088 2017-05-25 16:44:41.514285636  21.003161\n",
       "3  108 2017-05-25 16:44:39.514285636 2017-05-25 16:45:00.517447184  21.003161\n",
       "4  109 2017-05-25 16:44:58.517447184 2017-05-25 16:45:19.520608732  21.003161\n",
       "5  110 2017-05-25 16:45:17.520608732 2017-05-25 16:45:38.523770280  21.003161\n",
       "6  111 2017-05-25 16:45:36.523770280 2017-05-25 16:45:57.526931828  21.003161\n",
       "7  112 2017-05-25 16:45:55.526931828 2017-05-25 16:46:15.045000000  19.518068"
      ]
     },
     "execution_count": 67,
     "metadata": {},
     "output_type": "execute_result"
    }
   ],
   "source": [
    "frames = get_frames(orbits, data_take, FRAME_MIN_DURATION)\n",
    "frames"
   ]
  },
  {
   "cell_type": "markdown",
   "id": "253a874a-1b67-49f4-a8af-9df16c4e9a09",
   "metadata": {},
   "source": [
    "#### Raw Data generation"
   ]
  },
  {
   "cell_type": "markdown",
   "id": "b1709042-9aef-433c-9717-f1a89a0a9aca",
   "metadata": {},
   "source": [
    "Scenario generation"
   ]
  },
  {
   "cell_type": "code",
   "execution_count": 68,
   "id": "ec8100b1-e3c3-4b10-9228-a25570de409a",
   "metadata": {},
   "outputs": [],
   "source": [
    "with open('int-tds-raw-gen-scenarios.json') as fh:\n",
    "    config = json.load(fh)\n",
    "\n",
    "config['scenarios'].append(raw_generation_scenario('INT_TDS', simulation, acq_idx, 'RO'))\n",
    "\n",
    "with open('int-tds-raw-gen-scenarios.json', 'w') as fh:\n",
    "    json.dump(config, fh, indent=2)"
   ]
  },
  {
   "cell_type": "markdown",
   "id": "d068c97f-f820-4b66-ab84-6b0c165109f7",
   "metadata": {},
   "source": [
    "#### Level 0"
   ]
  },
  {
   "cell_type": "markdown",
   "id": "b30e41af-b618-434e-8704-c64fb277956a",
   "metadata": {},
   "source": [
    "Scenario generation"
   ]
  },
  {
   "cell_type": "code",
   "execution_count": 69,
   "id": "af69771a-045e-49a7-89c3-33651d492c39",
   "metadata": {},
   "outputs": [],
   "source": [
    "with open('int-tds-l0-scenarios.json') as fh:\n",
    "    config = json.load(fh)\n",
    "\n",
    "config['scenarios'].extend(l0pfs1_processing_scenarios('INT_TDS', simulation, acq_idx, 'RO', 'INTERFEROMETRIC'))\n",
    "config['scenarios'].append(l0pfs2_processing_scenario('INT_TDS', simulation, acq_idx, 'RO', 'INTERFEROMETRIC'))\n",
    "config['scenarios'].append(l0pfs4_processing_scenario('INT_TDS', simulation, acq_idx, 'RO', 'INTERFEROMETRIC'))\n",
    "config['scenarios'].append(oapf_processing_scenario('INT_TDS', simulation, acq_idx, 'RO', 'INTERFEROMETRIC'))\n",
    "\n",
    "with open('int-tds-l0-scenarios.json', 'w') as fh:\n",
    "    json.dump(config, fh, indent=2)"
   ]
  },
  {
   "cell_type": "markdown",
   "id": "1452a3c1-c3d8-495b-9d1e-c2f44a9590cd",
   "metadata": {},
   "source": [
    "## AUX Data generation"
   ]
  },
  {
   "cell_type": "markdown",
   "id": "99f5e3ba-a630-4eac-b5b6-43904e8469d3",
   "metadata": {},
   "source": [
    "Scenario generation"
   ]
  },
  {
   "cell_type": "code",
   "execution_count": 70,
   "id": "70e1ad4b-721b-44fe-9b19-40c94929c1ab",
   "metadata": {},
   "outputs": [],
   "source": [
    "baseline = 1\n",
    "\n",
    "config = {\n",
    "    'mission': 'biomass',\n",
    "    'scenarios': [\n",
    "        {\n",
    "            'name': file_type,\n",
    "            'file_name': 'N/A',\n",
    "            'processor_name': 'procsim',\n",
    "            'processor_version': procsim_version,\n",
    "            'task_name': 'N/A',\n",
    "            'task_version': 'N/A',\n",
    "            'log_level': 'debug',\n",
    "            'begin_position': '2000-01-01T00:00:00.000Z',\n",
    "            'end_position': '2050-01-01T00:00:00.000Z',\n",
    "            'baseline': baseline,\n",
    "            'outputs': [\n",
    "                {'type': file_type}\n",
    "            ]\n",
    "        }\n",
    "        for file_type in ('AUX_INS___', 'AUX_PP1___', 'AUX_PPS___', 'AUX_PP2_2A')  # add AUX_PP0___ when supported\n",
    "    ]\n",
    "}\n",
    "\n",
    "# Processing Parameters\n",
    "config['scenarios'].append(\n",
    "    {\n",
    "        'name': 'all',\n",
    "        'file_name': 'N/A',\n",
    "        'processor_name': 'procsim',\n",
    "        'processor_version': procsim_version,\n",
    "        'task_name': 'N/A',\n",
    "        'task_version': 'N/A',\n",
    "        'log_level': 'debug',\n",
    "        'begin_position': '2000-01-01T00:00:00.000Z',\n",
    "        'end_position': '2050-01-01T00:00:00.000Z',\n",
    "        'baseline': baseline,\n",
    "        'outputs': [\n",
    "            {'type': file_type}\n",
    "            for file_type in ('AUX_INS___', 'AUX_PP1___', 'AUX_PPS___', 'AUX_PP2_2A')  # add AUX_PP0___ when supported\n",
    "        ]\n",
    "    }\n",
    ")"
   ]
  },
  {
   "cell_type": "code",
   "execution_count": 71,
   "id": "1be0e975-bc3e-4faa-99ca-52e29487b483",
   "metadata": {},
   "outputs": [],
   "source": [
    "with open('aux-gen-scenarios.json', 'w') as fh:\n",
    "    json.dump(config, fh, indent=2)"
   ]
  }
 ],
 "metadata": {
  "kernelspec": {
   "display_name": "Python 3 (biomass)",
   "language": "python",
   "name": "biomass"
  },
  "language_info": {
   "codemirror_mode": {
    "name": "ipython",
    "version": 3
   },
   "file_extension": ".py",
   "mimetype": "text/x-python",
   "name": "python",
   "nbconvert_exporter": "python",
   "pygments_lexer": "ipython3",
   "version": "3.9.5"
  }
 },
 "nbformat": 4,
 "nbformat_minor": 5
}
